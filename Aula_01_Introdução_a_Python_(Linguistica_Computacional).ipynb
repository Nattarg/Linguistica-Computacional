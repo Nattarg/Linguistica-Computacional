{
  "nbformat": 4,
  "nbformat_minor": 0,
  "metadata": {
    "colab": {
      "name": "Aula 01 - Introdução a Python (Linguistica Computacional).ipynb",
      "provenance": [],
      "collapsed_sections": [],
      "include_colab_link": true
    },
    "kernelspec": {
      "name": "python3",
      "display_name": "Python 3"
    }
  },
  "cells": [
    {
      "cell_type": "markdown",
      "metadata": {
        "id": "view-in-github",
        "colab_type": "text"
      },
      "source": [
        "<a href=\"https://colab.research.google.com/github/Nattarg/Linguistica-Computacional/blob/master/Aula_01_Introdu%C3%A7%C3%A3o_a_Python_(Linguistica_Computacional).ipynb\" target=\"_parent\"><img src=\"https://colab.research.google.com/assets/colab-badge.svg\" alt=\"Open In Colab\"/></a>"
      ]
    },
    {
      "cell_type": "markdown",
      "metadata": {
        "id": "v2rtfLUMSttY",
        "colab_type": "text"
      },
      "source": [
        "#Aula 01\n",
        "---"
      ]
    },
    {
      "cell_type": "markdown",
      "metadata": {
        "id": "t13EzfAdSxkt",
        "colab_type": "text"
      },
      "source": [
        "###Linguagem de Programação\n",
        "\n",
        "* O que é?\n",
        "* Como funciona?\n",
        "* Onde é utilizado?\n",
        "\n",
        "\n"
      ]
    },
    {
      "cell_type": "markdown",
      "metadata": {
        "id": "F8txTKTmUMAA",
        "colab_type": "text"
      },
      "source": [
        "![alt text](https://encrypted-tbn0.gstatic.com/images?q=tbn%3AANd9GcTR1pWrPuBxWvOq6vCnRbQWnevDUFullUH8xlqXjRGA2EXxnvsI)"
      ]
    },
    {
      "cell_type": "markdown",
      "metadata": {
        "id": "lU-DuEHqUc1W",
        "colab_type": "text"
      },
      "source": [
        "![alt text](https://www.python.org/static/img/python-logo@2x.png)"
      ]
    },
    {
      "cell_type": "markdown",
      "metadata": {
        "id": "54c5-etMVhGV",
        "colab_type": "text"
      },
      "source": [
        "\n",
        "\n",
        "*   Por que Python?\n",
        "\n",
        "\n"
      ]
    },
    {
      "cell_type": "markdown",
      "metadata": {
        "id": "KmhCemmvWKDa",
        "colab_type": "text"
      },
      "source": [
        "![alt text](https://miro.medium.com/max/776/1*g_x1-5iYRn-SmdVucceiWw.png)"
      ]
    },
    {
      "cell_type": "markdown",
      "metadata": {
        "id": "HcVvdbFNWgmt",
        "colab_type": "text"
      },
      "source": [
        "\n",
        "\n",
        "*   Facil acesso\n",
        "*   Salvo em nuvem\n",
        "*   Processamento em nuvem \n",
        "*   Estilo notebook\n",
        "\n",
        "![alt text](https://encrypted-tbn0.gstatic.com/images?q=tbn%3AANd9GcTPpeasXmNIHhaizmmDMyjUJMeeevVT8SxS9XTcJ7_zEkArKSce)\n"
      ]
    },
    {
      "cell_type": "markdown",
      "metadata": {
        "id": "1fgt-Q1SY_Sw",
        "colab_type": "text"
      },
      "source": [
        "### Primeiro programa no Colab"
      ]
    }
  ]
}