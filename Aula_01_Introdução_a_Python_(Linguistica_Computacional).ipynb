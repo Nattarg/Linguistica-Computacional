{
  "nbformat": 4,
  "nbformat_minor": 0,
  "metadata": {
    "colab": {
      "name": "Aula 01 - Introdução a Python (Linguistica Computacional).ipynb",
      "provenance": [],
      "collapsed_sections": [
        "t13EzfAdSxkt",
        "1fgt-Q1SY_Sw"
      ],
      "include_colab_link": true
    },
    "kernelspec": {
      "name": "python3",
      "display_name": "Python 3"
    }
  },
  "cells": [
    {
      "cell_type": "markdown",
      "metadata": {
        "id": "view-in-github",
        "colab_type": "text"
      },
      "source": [
        "<a href=\"https://colab.research.google.com/github/Nattarg/Linguistica-Computacional/blob/master/Aula_01_Introdu%C3%A7%C3%A3o_a_Python_(Linguistica_Computacional).ipynb\" target=\"_parent\"><img src=\"https://colab.research.google.com/assets/colab-badge.svg\" alt=\"Open In Colab\"/></a>"
      ]
    },
    {
      "cell_type": "markdown",
      "metadata": {
        "id": "v2rtfLUMSttY",
        "colab_type": "text"
      },
      "source": [
        "#Aula 01\n",
        "---"
      ]
    },
    {
      "cell_type": "markdown",
      "metadata": {
        "id": "t13EzfAdSxkt",
        "colab_type": "text"
      },
      "source": [
        "###Linguagem de Programação\n",
        "\n",
        "* O que é?\n",
        "* Como funciona?\n",
        "* Onde é utilizado?\n",
        "\n",
        "\n"
      ]
    },
    {
      "cell_type": "markdown",
      "metadata": {
        "id": "F8txTKTmUMAA",
        "colab_type": "text"
      },
      "source": [
        "![alt text](https://encrypted-tbn0.gstatic.com/images?q=tbn%3AANd9GcTR1pWrPuBxWvOq6vCnRbQWnevDUFullUH8xlqXjRGA2EXxnvsI)"
      ]
    },
    {
      "cell_type": "markdown",
      "metadata": {
        "id": "lU-DuEHqUc1W",
        "colab_type": "text"
      },
      "source": [
        "![alt text](https://www.python.org/static/img/python-logo@2x.png)"
      ]
    },
    {
      "cell_type": "markdown",
      "metadata": {
        "id": "54c5-etMVhGV",
        "colab_type": "text"
      },
      "source": [
        "\n",
        "\n",
        "*   Por que Python?\n",
        "\n",
        "\n"
      ]
    },
    {
      "cell_type": "markdown",
      "metadata": {
        "id": "KmhCemmvWKDa",
        "colab_type": "text"
      },
      "source": [
        "![alt text](https://miro.medium.com/max/776/1*g_x1-5iYRn-SmdVucceiWw.png)"
      ]
    },
    {
      "cell_type": "markdown",
      "metadata": {
        "id": "HcVvdbFNWgmt",
        "colab_type": "text"
      },
      "source": [
        "\n",
        "\n",
        "*   Facil acesso\n",
        "*   Salvo em nuvem\n",
        "*   Processamento em nuvem \n",
        "*   Estilo notebook\n",
        "\n",
        "![alt text](https://encrypted-tbn0.gstatic.com/images?q=tbn%3AANd9GcTPpeasXmNIHhaizmmDMyjUJMeeevVT8SxS9XTcJ7_zEkArKSce)\n"
      ]
    },
    {
      "cell_type": "markdown",
      "metadata": {
        "id": "1fgt-Q1SY_Sw",
        "colab_type": "text"
      },
      "source": [
        "### Primeiro programa no Colab"
      ]
    },
    {
      "cell_type": "markdown",
      "metadata": {
        "id": "1TPZn50Pwg3p",
        "colab_type": "text"
      },
      "source": [
        "A função print tem como objetivo mostrar algo na tela, a parte que sera exibida na tela estará após o comando **print** e entre **parenteses** e **aspas simples**. No exemplo abaixo o computador exibirá \"Olá mundo!\" como resposta."
      ]
    },
    {
      "cell_type": "code",
      "metadata": {
        "id": "mqcuAUONwIAe",
        "colab_type": "code",
        "outputId": "1bad6ef9-12af-4582-e9ab-7f415117a0c2",
        "colab": {
          "base_uri": "https://localhost:8080/",
          "height": 34
        }
      },
      "source": [
        " print('Olá mundo !')"
      ],
      "execution_count": 0,
      "outputs": [
        {
          "output_type": "stream",
          "text": [
            "Olá mundo !\n"
          ],
          "name": "stdout"
        }
      ]
    },
    {
      "cell_type": "markdown",
      "metadata": {
        "id": "he8pYdaExEAj",
        "colab_type": "text"
      },
      "source": [
        "A função print tambem pode ser escrita com aspas duplas."
      ]
    },
    {
      "cell_type": "code",
      "metadata": {
        "id": "ikeTBqG_xDgs",
        "colab_type": "code",
        "outputId": "4f32551f-6513-4094-dab6-25239d2550bb",
        "colab": {
          "base_uri": "https://localhost:8080/",
          "height": 34
        }
      },
      "source": [
        "print(\" Com aspas duplas tambem esta correto!\")"
      ],
      "execution_count": 0,
      "outputs": [
        {
          "output_type": "stream",
          "text": [
            " Com aspas duplas tambem esta correto!\n"
          ],
          "name": "stdout"
        }
      ]
    },
    {
      "cell_type": "markdown",
      "metadata": {
        "id": "d5j6_RjlxP7i",
        "colab_type": "text"
      },
      "source": [
        "Agora, salvo algumas exeções (que serão trabalhadas posteriormente), se não colocarmos nenhum tipo de aspas obteremos um erro como resposta."
      ]
    },
    {
      "cell_type": "code",
      "metadata": {
        "id": "5_AwQH_Uy9bE",
        "colab_type": "code",
        "colab": {}
      },
      "source": [
        "print(Esse codigo esta errado)"
      ],
      "execution_count": 0,
      "outputs": []
    },
    {
      "cell_type": "markdown",
      "metadata": {
        "id": "l_agJJD2y_no",
        "colab_type": "text"
      },
      "source": [
        "### Operações matemáticas Basicas em Python"
      ]
    },
    {
      "cell_type": "markdown",
      "metadata": {
        "id": "ALp9GRkFzL6S",
        "colab_type": "text"
      },
      "source": [
        "####O Python dispõe das operações matematicas basicas e estas são:\n",
        "\n",
        "Adição     **(+)**,Subtração   **(-)**,Multiplicação   **(*)**,Divisão   **(/)** e exponenciação (**).\n",
        "\n",
        "\n"
      ]
    },
    {
      "cell_type": "markdown",
      "metadata": {
        "id": "OJLFBkt41MXL",
        "colab_type": "text"
      },
      "source": [
        "####No exemplo a baixo teremos a soma de 5 + 3, como resposta teremos 8. É imporante notar que neste exemplo não usamos aspas visto que queremos somar numeros e não strings (que serão abordadas mais a frente)."
      ]
    },
    {
      "cell_type": "code",
      "metadata": {
        "id": "uw0PU0Bt1mPx",
        "colab_type": "code",
        "colab": {
          "base_uri": "https://localhost:8080/",
          "height": 34
        },
        "outputId": "bbd09c66-8e7e-4ba9-cc54-08ac350aef4f"
      },
      "source": [
        "print(5 + 3)"
      ],
      "execution_count": 16,
      "outputs": [
        {
          "output_type": "stream",
          "text": [
            "8\n"
          ],
          "name": "stdout"
        }
      ]
    },
    {
      "cell_type": "markdown",
      "metadata": {
        "id": "OwVrXshF1tTf",
        "colab_type": "text"
      },
      "source": [
        "####Apenas para compreensão, se tentarmos escrever o codigo com aspas o resultado será, como podemos observar abaixo, literalmente o que foi escrito."
      ]
    },
    {
      "cell_type": "code",
      "metadata": {
        "id": "qWVG3SsJ2ChX",
        "colab_type": "code",
        "colab": {
          "base_uri": "https://localhost:8080/",
          "height": 34
        },
        "outputId": "d9f216f4-03b2-454d-8ada-9c88734f9213"
      },
      "source": [
        "print('5 + 3')"
      ],
      "execution_count": 15,
      "outputs": [
        {
          "output_type": "stream",
          "text": [
            "5 + 3\n"
          ],
          "name": "stdout"
        }
      ]
    },
    {
      "cell_type": "markdown",
      "metadata": {
        "id": "pM6TUKdy2PQS",
        "colab_type": "text"
      },
      "source": [
        "####Exemplo de subtração:"
      ]
    },
    {
      "cell_type": "code",
      "metadata": {
        "id": "Vo5zfZhO2W5K",
        "colab_type": "code",
        "colab": {
          "base_uri": "https://localhost:8080/",
          "height": 34
        },
        "outputId": "30d101af-7df9-4086-b42b-561598d7f94c"
      },
      "source": [
        "print (5 - 3)"
      ],
      "execution_count": 14,
      "outputs": [
        {
          "output_type": "stream",
          "text": [
            "2\n"
          ],
          "name": "stdout"
        }
      ]
    },
    {
      "cell_type": "markdown",
      "metadata": {
        "id": "-2mh2_oN2bUb",
        "colab_type": "text"
      },
      "source": [
        "####Exemplo de multiplicação:"
      ]
    },
    {
      "cell_type": "code",
      "metadata": {
        "id": "--RVtw0y2sIc",
        "colab_type": "code",
        "outputId": "a8e1ae4b-d9e8-488e-9edd-374a5aa67ab6",
        "colab": {
          "base_uri": "https://localhost:8080/",
          "height": 34
        }
      },
      "source": [
        "print(3 * 6)"
      ],
      "execution_count": 0,
      "outputs": [
        {
          "output_type": "stream",
          "text": [
            "18\n"
          ],
          "name": "stdout"
        }
      ]
    },
    {
      "cell_type": "markdown",
      "metadata": {
        "id": "hu-t4XII2_C6",
        "colab_type": "text"
      },
      "source": [
        "####Exemplo de divisão:"
      ]
    },
    {
      "cell_type": "code",
      "metadata": {
        "id": "oGK8fRLH3CBC",
        "colab_type": "code",
        "outputId": "49cea819-b376-4068-bea4-05fecff7150c",
        "colab": {
          "base_uri": "https://localhost:8080/",
          "height": 34
        }
      },
      "source": [
        "print(10 / 2)"
      ],
      "execution_count": 0,
      "outputs": [
        {
          "output_type": "stream",
          "text": [
            "5.0\n"
          ],
          "name": "stdout"
        }
      ]
    },
    {
      "cell_type": "markdown",
      "metadata": {
        "id": "cswM91kT3Eqi",
        "colab_type": "text"
      },
      "source": [
        "####Exemplo de exponenciação:"
      ]
    },
    {
      "cell_type": "code",
      "metadata": {
        "id": "x3w07DSB3HLS",
        "colab_type": "code",
        "outputId": "62480ade-0fb4-43d8-d0b5-d862073d729a",
        "colab": {
          "base_uri": "https://localhost:8080/",
          "height": 34
        }
      },
      "source": [
        "print(3**2)"
      ],
      "execution_count": 0,
      "outputs": [
        {
          "output_type": "stream",
          "text": [
            "9\n"
          ],
          "name": "stdout"
        }
      ]
    },
    {
      "cell_type": "markdown",
      "metadata": {
        "id": "J2Ij1SA936sN",
        "colab_type": "text"
      },
      "source": [
        "#### Outro ponto importante são os parenteses, o algoritmo sempre irá dar prioridade para as sentenças entre os parenteses. Vejamos a diferença entre \"( 5 + 3 ) * 2\" e \"5 + 3 * 2\" "
      ]
    },
    {
      "cell_type": "code",
      "metadata": {
        "id": "G5L4OMLR4z4b",
        "colab_type": "code",
        "colab": {}
      },
      "source": [
        "print((5 + 3)*2)"
      ],
      "execution_count": 0,
      "outputs": []
    },
    {
      "cell_type": "code",
      "metadata": {
        "id": "gdad-dzo47Xi",
        "colab_type": "code",
        "colab": {}
      },
      "source": [
        "print(5 + 3 * 2)"
      ],
      "execution_count": 0,
      "outputs": []
    },
    {
      "cell_type": "markdown",
      "metadata": {
        "id": "mg4S8Maj5JgW",
        "colab_type": "text"
      },
      "source": [
        "###Variáveis"
      ]
    },
    {
      "cell_type": "markdown",
      "metadata": {
        "id": "DOemfrwg5706",
        "colab_type": "text"
      },
      "source": [
        "As variáveis são como \"gavetas\" que guardam os valores a elas atribuidos. Por exemplo: Eu tenho três gavetas, a gaveta 1 tem uma camisa; na gaveta 2 tenho meias e na gaveta 3 temos  um short. Cada gaveta terá um valor ou \"peça de roupa\" atribuida a ela.\n",
        "\n",
        "![alt text](https://encrypted-tbn0.gstatic.com/images?q=tbn%3AANd9GcQfUqjf7E76mQVA58HAxVJ8hkSJr5g4mGLchBwjQUpSRqJlGADC)"
      ]
    },
    {
      "cell_type": "markdown",
      "metadata": {
        "id": "uhWLOwBq7Pu5",
        "colab_type": "text"
      },
      "source": [
        "**Importante:** Quando criamos uma variavel **não** podemos usar c**aracteres especiais** ou **espaços**(Em caso de um nome composto usualmente é usado um _ para separar, ex: Gaveta_vermelha).\n",
        "\n",
        "**Alem disso** o computador é sensivel ao **capslock**, ou seja, para o computador \"Gaveta\" e \"gaveta\" são variáveis **totalmente diferentes.**\n",
        "\n"
      ]
    },
    {
      "cell_type": "markdown",
      "metadata": {
        "id": "ld1hrQ5Q8MhT",
        "colab_type": "text"
      },
      "source": [
        "Tendo em vista estes pontos, vamos criar um programa com 3 variaveis chamadas gaveta1, gaveta 2 e gaveta 3. E vamos guardar \"camisa\", \"meias\" e \"short\" nelas repectivamente."
      ]
    },
    {
      "cell_type": "markdown",
      "metadata": {
        "id": "8A_Lh6PV82JT",
        "colab_type": "text"
      },
      "source": [
        "Criando as variaveis:"
      ]
    },
    {
      "cell_type": "code",
      "metadata": {
        "id": "5sEfTdsx84G_",
        "colab_type": "code",
        "colab": {}
      },
      "source": [
        "gaveta1 = 'camisa'\n",
        "gaveta2 = 'meias'\n",
        "gaveta3 = 'short'"
      ],
      "execution_count": 0,
      "outputs": []
    },
    {
      "cell_type": "markdown",
      "metadata": {
        "id": "ouKQfkI29B4a",
        "colab_type": "text"
      },
      "source": [
        "Como podemos perceber, para guardar um valor na variável utilizamos o \"=\".\n",
        "\n",
        "Outro ponto a se notar é o uso de aspas simples para indicarmos que \"camisa\" é uma string."
      ]
    },
    {
      "cell_type": "markdown",
      "metadata": {
        "id": "3nYDRf7J9bir",
        "colab_type": "text"
      },
      "source": [
        "Assim podemos seguir e mostrar qualquer uma das variaveis:"
      ]
    },
    {
      "cell_type": "code",
      "metadata": {
        "id": "ExSF-kPD9iu3",
        "colab_type": "code",
        "colab": {
          "base_uri": "https://localhost:8080/",
          "height": 70
        },
        "outputId": "efc12aac-f5a2-4d97-c393-adb903eb0f51"
      },
      "source": [
        "print(gaveta1)\n",
        "print(gaveta2)\n",
        "print(gaveta3)"
      ],
      "execution_count": 21,
      "outputs": [
        {
          "output_type": "stream",
          "text": [
            "camisa\n",
            "meias\n",
            "short\n"
          ],
          "name": "stdout"
        }
      ]
    },
    {
      "cell_type": "markdown",
      "metadata": {
        "id": "My4sYGT39rTZ",
        "colab_type": "text"
      },
      "source": [
        "**Importante:** Como estamos utilizando um programa no estilo notebook, é necessario executar a célula das variáveis antes de executar o print."
      ]
    },
    {
      "cell_type": "markdown",
      "metadata": {
        "id": "uxlp98Mv-F_w",
        "colab_type": "text"
      },
      "source": [
        "As variaveis tambem podem receber valores que estão em outras variáveis. Imaginemos que agora a gaveta 1 tambem vai receber meias junto a gaveta 2."
      ]
    },
    {
      "cell_type": "code",
      "metadata": {
        "id": "MbwU7IRF-XbG",
        "colab_type": "code",
        "colab": {
          "base_uri": "https://localhost:8080/",
          "height": 87
        },
        "outputId": "3612c990-0eec-4443-fa64-d71035a73882"
      },
      "source": [
        "print(gaveta1)\n",
        "print(gaveta2)\n",
        "gaveta1 = gaveta2\n",
        "print(gaveta1)\n",
        "print(gaveta2)"
      ],
      "execution_count": 22,
      "outputs": [
        {
          "output_type": "stream",
          "text": [
            "camisa\n",
            "meias\n",
            "meias\n",
            "meias\n"
          ],
          "name": "stdout"
        }
      ]
    },
    {
      "cell_type": "markdown",
      "metadata": {
        "id": "tkrO-zQz-4UQ",
        "colab_type": "text"
      },
      "source": [
        "Assim, observamos que apenas o valor da gaveta 1 foi alterado."
      ]
    }
  ]
}