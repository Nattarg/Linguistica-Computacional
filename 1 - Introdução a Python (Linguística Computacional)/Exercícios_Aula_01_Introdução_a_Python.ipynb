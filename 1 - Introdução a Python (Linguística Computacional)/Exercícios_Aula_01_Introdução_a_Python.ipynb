{
  "nbformat": 4,
  "nbformat_minor": 0,
  "metadata": {
    "colab": {
      "name": "Exercícios Aula 01 - Introdução a Python.ipynb",
      "provenance": [],
      "collapsed_sections": [],
      "include_colab_link": true
    },
    "kernelspec": {
      "name": "python3",
      "display_name": "Python 3"
    }
  },
  "cells": [
    {
      "cell_type": "markdown",
      "metadata": {
        "id": "view-in-github",
        "colab_type": "text"
      },
      "source": [
        "<a href=\"https://colab.research.google.com/github/Nattarg/Linguistica-Computacional/blob/master/Exerc%C3%ADcios_Aula_01_Introdu%C3%A7%C3%A3o_a_Python.ipynb\" target=\"_parent\"><img src=\"https://colab.research.google.com/assets/colab-badge.svg\" alt=\"Open In Colab\"/></a>"
      ]
    },
    {
      "cell_type": "markdown",
      "metadata": {
        "id": "uIw2X1qSBtGn",
        "colab_type": "text"
      },
      "source": [
        "#Lista de Exercicios - Aula 1\n",
        "\n",
        "\n",
        "\n"
      ]
    },
    {
      "cell_type": "markdown",
      "metadata": {
        "id": "yNwqBVrACqUf",
        "colab_type": "text"
      },
      "source": [
        "### 1. Elabore um algoritmo que receba o nome do usuário e retorne os 5 primeiros caracteres deste nome em caixa alta.\n",
        "\n",
        "### 2. Elabore um algoritmo que receba o nome do filme que o usuário mais gosta e retorne \" O filme que você mais gosta é : xxxx\".\n",
        "\n",
        "### 3. Elabore um algoritmo que através da variavel \"Linguística Computacional\" retorne \"LINGUÍSTICA computacional\".\n",
        "\n",
        "### 4. Elabore um algoritmo que através da variável \"Linguística Computacional\" retorne \"Lingua Computacional\".\n",
        "\n",
        "### 5. Elabore um algoritmo que receba o nome do usuário e retorne verdadeiro se o nome do usuário começar com Ana ou ana."
      ]
    }
  ]
}