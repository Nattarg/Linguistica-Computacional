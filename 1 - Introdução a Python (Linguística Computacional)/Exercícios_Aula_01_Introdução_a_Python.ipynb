{
  "nbformat": 4,
  "nbformat_minor": 0,
  "metadata": {
    "colab": {
      "name": "Exercícios Aula 01 - Introdução a Python.ipynb",
      "provenance": [],
      "collapsed_sections": [],
      "include_colab_link": true
    },
    "kernelspec": {
      "name": "python3",
      "display_name": "Python 3"
    }
  },
  "cells": [
    {
      "cell_type": "markdown",
      "metadata": {
        "id": "view-in-github",
        "colab_type": "text"
      },
      "source": [
        "<a href=\"https://colab.research.google.com/github/Nattarg/Linguistica-Computacional/blob/master/1%20-%20Introdu%C3%A7%C3%A3o%20a%20Python%20(Lingu%C3%ADstica%20Computacional)/Exerc%C3%ADcios_Aula_01_Introdu%C3%A7%C3%A3o_a_Python.ipynb\" target=\"_parent\"><img src=\"https://colab.research.google.com/assets/colab-badge.svg\" alt=\"Open In Colab\"/></a>"
      ]
    },
    {
      "cell_type": "markdown",
      "metadata": {
        "id": "uIw2X1qSBtGn",
        "colab_type": "text"
      },
      "source": [
        "#Lista de Exercícios - Aula 1\n",
        "\n",
        "\n",
        "\n"
      ]
    },
    {
      "cell_type": "markdown",
      "metadata": {
        "id": "yNwqBVrACqUf",
        "colab_type": "text"
      },
      "source": [
        "### 1. Elabore um algoritmo que escreva na tela \"Estou começando a programar em Python!\".\n",
        "\n",
        "### 2. Elabore um algoritmo que receba dois números inteiros e exiba o resultado da soma desses números.\n",
        "\n",
        "### 3. Elabore um algoritmo que receba dois números inteiros e exiba o resultado da multiplicação desses números.\n",
        "\n",
        "### 4. Elabore um algoritmo que receba dois números inteiros e exiba o resultado da divisão desses números.\n",
        "\n",
        "### 5.  Elabore um algoritmo que receba o nome do filme que o usuário mais gosta e retorne \" O filme que você mais gosta é : xxxx\".\n",
        "\n",
        "### 6. Elabore um algoritmo que tranforme um valor em metros para milimetros.\n",
        "\n",
        "### 7. Elabore um algoritmo que receba o nome do usuário e retorne verdadeiro se o nome do usuário começar com Ana ou ana."
      ]
    }
  ]
}