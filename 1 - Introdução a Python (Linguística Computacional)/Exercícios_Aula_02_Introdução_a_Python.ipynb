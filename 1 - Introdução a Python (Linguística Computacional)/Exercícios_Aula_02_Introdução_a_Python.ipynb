{
  "nbformat": 4,
  "nbformat_minor": 0,
  "metadata": {
    "colab": {
      "name": "Exercícios Aula 02 - Introdução a Python.ipynb",
      "provenance": [],
      "collapsed_sections": [],
      "include_colab_link": true
    },
    "kernelspec": {
      "name": "python3",
      "display_name": "Python 3"
    }
  },
  "cells": [
    {
      "cell_type": "markdown",
      "metadata": {
        "id": "view-in-github",
        "colab_type": "text"
      },
      "source": [
        "<a href=\"https://colab.research.google.com/github/Nattarg/Linguistica-Computacional/blob/master/1%20-%20Introdu%C3%A7%C3%A3o%20a%20Python%20(Lingu%C3%ADstica%20Computacional)/Exerc%C3%ADcios_Aula_02_Introdu%C3%A7%C3%A3o_a_Python.ipynb\" target=\"_parent\"><img src=\"https://colab.research.google.com/assets/colab-badge.svg\" alt=\"Open In Colab\"/></a>"
      ]
    },
    {
      "cell_type": "markdown",
      "metadata": {
        "id": "DMIeFMib5kvm",
        "colab_type": "text"
      },
      "source": [
        "#Lista de Exercícios - Aula 2"
      ]
    },
    {
      "cell_type": "markdown",
      "metadata": {
        "id": "UTH7vVYh5xkL",
        "colab_type": "text"
      },
      "source": [
        "## 1. Crie uma lista com 4 países diferentes ex: paises = [Brasíl,Argentina,Uruguai,Paraguai]. Agora permita com que o usuário adicione mais um país a lista. Em seguida exiba a lista na tela e pergunte qual item da lista ele quer exibir ( de 0 a 4). Por fim exiba na tela o nome do país selecionado.\n",
        "\n",
        "## 2. Crie uma programa que faça calculos de soma/subrtação/divisão/multiplicação de dois numeros que o usuário inserir. O usuário tambem deverá selecionar qual cálculo ele quer fazer.\n",
        "\n",
        "## 3. Crie uma Lista de convidados com os nomes Ana,Pedro,Luis,Debora,Camila,Maria e Isabel. Agora desenvolva um programa que verifique se uma pessoa pertence a lista, em caso afirmativo mostre na tela \"Tá na lista, pode entrar\" e em caso negativo mostre na tela \"Desculpe você não pode entrar pois não está na lista\".\n",
        "\n",
        "## 4. Crie um dicionário contendo 6 nomes de pessoas a sua escolha dentro das chaves e os respectivas idade e cor dos olhos nos valores. Desenvolva um algoritmo que possibilite um usuário checar quaisquer um dos nomes (idade e cor dos olho), e que , em caso do usuário inserir um nome que não exista no seu dicionário seja mostrado a mensagem \"Nome não encontrado\".\n",
        "\n",
        "\n"
      ]
    }
  ]
}