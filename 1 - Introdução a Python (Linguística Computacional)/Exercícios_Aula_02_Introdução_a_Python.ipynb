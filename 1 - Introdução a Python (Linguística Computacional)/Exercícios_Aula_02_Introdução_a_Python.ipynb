{
  "nbformat": 4,
  "nbformat_minor": 0,
  "metadata": {
    "colab": {
      "name": "Exercícios Aula 02 - Introdução a Python.ipynb",
      "provenance": [],
      "collapsed_sections": [],
      "include_colab_link": true
    },
    "kernelspec": {
      "name": "python3",
      "display_name": "Python 3"
    }
  },
  "cells": [
    {
      "cell_type": "markdown",
      "metadata": {
        "id": "view-in-github",
        "colab_type": "text"
      },
      "source": [
        "<a href=\"https://colab.research.google.com/github/Nattarg/Linguistica-Computacional/blob/master/1%20-%20Introdu%C3%A7%C3%A3o%20a%20Python%20(Lingu%C3%ADstica%20Computacional)/Exerc%C3%ADcios_Aula_02_Introdu%C3%A7%C3%A3o_a_Python.ipynb\" target=\"_parent\"><img src=\"https://colab.research.google.com/assets/colab-badge.svg\" alt=\"Open In Colab\"/></a>"
      ]
    },
    {
      "cell_type": "markdown",
      "metadata": {
        "id": "DMIeFMib5kvm",
        "colab_type": "text"
      },
      "source": [
        "#Lista de Exercícios - Aula 2"
      ]
    },
    {
      "cell_type": "markdown",
      "metadata": {
        "id": "UTH7vVYh5xkL",
        "colab_type": "text"
      },
      "source": [
        "## 1. Crie uma Lista de convidados com os nomes Ana,Pedro,Luis,Debora,Camila,Maria e Isabel. Agora desenvolva um programa que verifique se uma pessoa pertence a lista, em caso afirmativo mostre na tela \"Tá na lista, pode entrar\" e em caso negativo mostre na tela \"Desculpe você não pode entrar pois não esta na lista\".\n",
        "\n",
        "\n",
        "## 2. Crie um dicionário contendo 6 titulos de livros a sua escolha dentro das chaves e os respectivos autores/ano de publicação nos valores. Desenvolva um algoritmo que possibilite um usuário checar quaisquer um dos titulos (Nome do autor e ano de publicação), e que , em caso do usuário inserir um titulo que não exista no seu dicionário seja mostrado a mensagem \"Titulo não encontrado\".\n",
        "\n",
        "\n",
        "## 3. Crie um dicionário contendo 2 romances e 2 crônicas de Machado de Assis bem como 2 romances e 2 crônicas a sua escolha. Dentro das chaves teremos a informação se a obra é romance ou crônica, os respectivos nome do autor e o titulo da obra ficarão dentro dos valores. Agora utilizando o **if** crie um programa em que o usuário possa selecionar as opções de mostrar apenas os romances de Machado,  mostrar todos os romances dentro do dicionário, mostrar apenas as crônicas de machado, mostrar todas as crônicas no dicionário."
      ]
    },
    {
      "cell_type": "markdown",
      "metadata": {
        "id": "6SpmUBT5UP0p",
        "colab_type": "text"
      },
      "source": [
        ""
      ]
    }
  ]
}