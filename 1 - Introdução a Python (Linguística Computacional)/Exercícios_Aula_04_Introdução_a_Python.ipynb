{
 "cells": [
  {
   "cell_type": "markdown",
   "metadata": {
    "colab_type": "text",
    "id": "rv89f8zyPwTv"
   },
   "source": [
    "# Lista de Exercícios - Aula 4"
   ]
  },
  {
   "cell_type": "markdown",
   "metadata": {
    "colab_type": "text",
    "id": "B2aYNjf_QAY4"
   },
   "source": [
    "## Exercício 1"
   ]
  },
  {
   "cell_type": "markdown",
   "metadata": {
    "colab_type": "text",
    "id": "wVIzr-Twcre1"
   },
   "source": [
    "Crie uma função que receba várias palavras e retorne apenas a mais longa (que contenha mais letras)\n"
   ]
  },
  {
   "cell_type": "code",
   "execution_count": 1,
   "metadata": {
    "colab": {},
    "colab_type": "code",
    "id": "IpHU7Pu9dFvm"
   },
   "outputs": [],
   "source": [
    "# sua_funcao('casa','carro','cachorro') deve retornar 'cachorro'"
   ]
  },
  {
   "cell_type": "markdown",
   "metadata": {
    "colab_type": "text",
    "id": "PstLX2w5es9k"
   },
   "source": [
    "\n",
    "## Exercício 2"
   ]
  },
  {
   "cell_type": "markdown",
   "metadata": {
    "colab_type": "text",
    "id": "BA-ee4v4XRVw"
   },
   "source": [
    "Crie uma função que receba o peso e a altura de uma pessoa e retorne seu **IMC**:\n",
    "\n",
    "$$IMC = \\frac{massa}{altura^2}$$"
   ]
  },
  {
   "cell_type": "code",
   "execution_count": null,
   "metadata": {
    "colab": {},
    "colab_type": "code",
    "id": "0kVdFFXpZKI8"
   },
   "outputs": [],
   "source": [
    "# sua_funcao(60,1.60) deve retornar 23.4375"
   ]
  },
  {
   "cell_type": "markdown",
   "metadata": {
    "colab_type": "text",
    "id": "8jrxh_w-cff3"
   },
   "source": [
    "## Exercício 3"
   ]
  },
  {
   "cell_type": "markdown",
   "metadata": {
    "colab_type": "text",
    "id": "oXizOSseQGTj"
   },
   "source": [
    "Uma lanchonete possui o seguinte cardápio, crie uma função que receba o código do produto e uma quantidade (simulando um pedido) e retorne o preço total. Se um código inválido for repassado o valor retornado deve ser 0.\n",
    "\n",
    "| Produto         | Código | Preço\n",
    "| ---             | ---    | ---\n",
    "| Cachorro quente |\t100    | 1,20\n",
    "| Bauru simples   | 101\t   | 1,30\n",
    "| Bauru com ovo\t  | 102\t   | 1,50\n",
    "| Hambúrger\t      | 103    | 1,20\n",
    "| Cheeseburguer\t  | 104\t   | 1,30\n",
    "| Refrigerante\t  | 105\t   | 1,00"
   ]
  },
  {
   "cell_type": "code",
   "execution_count": null,
   "metadata": {
    "colab": {},
    "colab_type": "code",
    "id": "smOhM2qEOTCb"
   },
   "outputs": [],
   "source": [
    "# sua_funcao(100,3) deve retornar 3 x 1.20 = 3.60"
   ]
  }
 ],
 "metadata": {
  "colab": {
   "authorship_tag": "ABX9TyP9H0CcB/991w1UHDunzyUd",
   "collapsed_sections": [],
   "name": "Exercícios_Aula_04_Introdução_a_Python.ipynb",
   "provenance": [],
   "toc_visible": true
  },
  "kernelspec": {
   "display_name": "Python 3",
   "language": "python",
   "name": "python3"
  },
  "language_info": {
   "codemirror_mode": {
    "name": "ipython",
    "version": 3
   },
   "file_extension": ".py",
   "mimetype": "text/x-python",
   "name": "python",
   "nbconvert_exporter": "python",
   "pygments_lexer": "ipython3",
   "version": "3.7.4"
  }
 },
 "nbformat": 4,
 "nbformat_minor": 4
}
