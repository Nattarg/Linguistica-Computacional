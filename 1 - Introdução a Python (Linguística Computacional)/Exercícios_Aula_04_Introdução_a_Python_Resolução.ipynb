{
 "cells": [
  {
   "cell_type": "markdown",
   "metadata": {
    "colab_type": "text",
    "id": "rv89f8zyPwTv"
   },
   "source": [
    "\n",
    "# Lista de Exercícios - Aula 4"
   ]
  },
  {
   "cell_type": "markdown",
   "metadata": {
    "colab_type": "text",
    "id": "B2aYNjf_QAY4"
   },
   "source": [
    "## Exercício 1"
   ]
  },
  {
   "cell_type": "markdown",
   "metadata": {
    "colab_type": "text",
    "id": "wVIzr-Twcre1"
   },
   "source": [
    "Crie uma função que receba várias palavras e retorne apenas a mais longa (que contenha mais letras)\n"
   ]
  },
  {
   "cell_type": "code",
   "execution_count": null,
   "metadata": {
    "colab": {},
    "colab_type": "code",
    "id": "IpHU7Pu9dFvm"
   },
   "outputs": [],
   "source": [
    "# definir função\n",
    "def maiorPalavra(*palavras):\n",
    "    \n",
    "    # variável que guarda a palavra mais longa\n",
    "    mais_longa = palavras[0];\n",
    "    \n",
    "    # loop para percorrer a lista de palavras enviadas\n",
    "    for palavra in palavras:\n",
    "        \n",
    "        # se o tamanho da palavra no laço for maior do que o da palavra salvo na variável \"mais_longa\"\n",
    "        if(len(palavra)> len(mais_longa)):\n",
    "            \n",
    "            # substitua a palavra na variável pela palavra no loop\n",
    "            mais_longa = palavra;\n",
    "    \n",
    "    # retornar palavra mais longa\n",
    "    return mais_longa;\n",
    "\n",
    "# exemplo\n",
    "print(maiorPalavra('casa','carro','cachorro'));"
   ]
  },
  {
   "cell_type": "markdown",
   "metadata": {
    "colab_type": "text",
    "id": "PstLX2w5es9k"
   },
   "source": [
    "\n",
    "## Exercício 2"
   ]
  },
  {
   "cell_type": "markdown",
   "metadata": {
    "colab_type": "text",
    "id": "BA-ee4v4XRVw"
   },
   "source": [
    "Crie uma função que receba o peso e a altura de uma pessoa e retorne seu **IMC**:\n",
    "\n",
    "$$IMC = \\frac{massa}{altura^2}$$"
   ]
  },
  {
   "cell_type": "code",
   "execution_count": null,
   "metadata": {
    "colab": {},
    "colab_type": "code",
    "id": "0kVdFFXpZKI8"
   },
   "outputs": [],
   "source": [
    "# definição\n",
    "def calcIMC(massa, altura):\n",
    "    \n",
    "    # valor do IMC\n",
    "    imc = massa/(altura**2);\n",
    "    \n",
    "    # retornar valor do imc\n",
    "    return imc;\n",
    "\n",
    "# exemplo\n",
    "print(calcIMC(60,1.60))"
   ]
  },
  {
   "cell_type": "markdown",
   "metadata": {
    "colab_type": "text",
    "id": "8jrxh_w-cff3"
   },
   "source": [
    "## Exercício 3"
   ]
  },
  {
   "cell_type": "markdown",
   "metadata": {
    "colab_type": "text",
    "id": "oXizOSseQGTj"
   },
   "source": [
    "Uma lanchonete possui o seguinte cardápio, crie uma função que receba o código do produto e uma quantidade (simulando um pedido) e retorne o preço total. Se um código inválido for repassado o valor retornado deve ser 0.\n",
    "\n",
    "| Produto         | Código | Preço\n",
    "| ---             | ---    | ---\n",
    "| Cachorro quente |\t100    | 1,20\n",
    "| Bauru simples   | 101\t   | 1,30\n",
    "| Bauru com ovo\t  | 102\t   | 1,50\n",
    "| Hambúrger\t      | 103    | 1,20\n",
    "| Cheeseburguer\t  | 104\t   | 1,30\n",
    "| Refrigerante\t  | 105\t   | 1,00"
   ]
  },
  {
   "cell_type": "code",
   "execution_count": null,
   "metadata": {
    "colab": {},
    "colab_type": "code",
    "id": "smOhM2qEOTCb"
   },
   "outputs": [],
   "source": [
    "# importar defaultdict\n",
    "from collections import defaultdict;\n",
    "\n",
    "# definir função\n",
    "def realizarPedido(codigo, quantidade):\n",
    "\n",
    "    # utilizar defaultdict como catálogo de preços\n",
    "    precos = defaultdict(lambda: 0,{ \n",
    "        100: 1.20,\n",
    "        101: 1.30,\n",
    "        102: 1.50,\n",
    "        103: 1.20,\n",
    "        104: 1.30,\n",
    "        105:1.00\n",
    "    });\n",
    "    \n",
    "    # calcular preço total\n",
    "    precoTotal = precos[codigo]*quantidade;\n",
    "    \n",
    "    # retornar preço total\n",
    "    return precoTotal;\n",
    "\n",
    "# exemplo\n",
    "print(realizarPedido(100, 3));"
   ]
  }
 ],
 "metadata": {
  "colab": {
   "authorship_tag": "ABX9TyP9H0CcB/991w1UHDunzyUd",
   "collapsed_sections": [],
   "name": "Exercícios_Aula_04_Introdução_a_Python.ipynb",
   "provenance": [],
   "toc_visible": true
  },
  "kernelspec": {
   "display_name": "Python 3",
   "language": "python",
   "name": "python3"
  },
  "language_info": {
   "codemirror_mode": {
    "name": "ipython",
    "version": 3
   },
   "file_extension": ".py",
   "mimetype": "text/x-python",
   "name": "python",
   "nbconvert_exporter": "python",
   "pygments_lexer": "ipython3",
   "version": "3.7.4"
  }
 },
 "nbformat": 4,
 "nbformat_minor": 4
}
