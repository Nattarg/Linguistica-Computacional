{
 "cells": [
  {
   "cell_type": "markdown",
   "metadata": {
    "colab_type": "text",
    "id": "rv89f8zyPwTv"
   },
   "source": [
    "# Lista de Exercícios - Aula 3"
   ]
  },
  {
   "cell_type": "markdown",
   "metadata": {
    "colab_type": "text",
    "id": "B2aYNjf_QAY4"
   },
   "source": [
    "## Exercício 1"
   ]
  },
  {
   "cell_type": "markdown",
   "metadata": {
    "colab_type": "text",
    "id": "wVIzr-Twcre1"
   },
   "source": [
    "Utilize qualquer laço de repetição para exibir os nomes dos animais presentes na lista ao contrário. Por exemplo, o nome 'vaca' deve ser exibido na tela como 'acav'."
   ]
  },
  {
   "cell_type": "code",
   "execution_count": 1,
   "metadata": {
    "colab": {},
    "colab_type": "code",
    "id": "IpHU7Pu9dFvm"
   },
   "outputs": [],
   "source": [
    "animais = [ 'cabra', 'vaca', 'cavalo', 'gato','arara' ];\n",
    "\n",
    "# construa sua soluçao"
   ]
  },
  {
   "cell_type": "markdown",
   "metadata": {
    "colab_type": "text",
    "id": "PstLX2w5es9k"
   },
   "source": [
    "## Exercício 2"
   ]
  },
  {
   "cell_type": "markdown",
   "metadata": {
    "colab_type": "text",
    "id": "BA-ee4v4XRVw"
   },
   "source": [
    "Abaixo você pode conferir uma lista que contém nomes de alguns dos participantes da última edição do famoso programa de TV \"Big Brother Brasil\". Crie um programa que realize iterações e pergunte ao usuário qual participante ele deseja eliminar, então o usuário deve digitar o nome da pessoa, caso o nome esteja incorreto ou não mais presente na lista, apresente uma messagem indicando um problema mas essa menssagem nao deve interromper o loop. Quando um nome válido de um participante for inserido, o remova da lista e então pergunte novamente qual o próximo deseja remover. O loop deve ser interrompido apenas quando sobrar um único participante na lista, nesse caso apresente uma messangem indicando o vencedor do programa. A cada iteração exiba os participantes que ainda estão na lista."
   ]
  },
  {
   "cell_type": "code",
   "execution_count": 2,
   "metadata": {
    "colab": {},
    "colab_type": "code",
    "id": "0kVdFFXpZKI8"
   },
   "outputs": [],
   "source": [
    "participantes = ['Felipe', 'Babu', 'Flayslane', 'Bianca', 'Gabi', 'Gizelly', 'Pyong', 'Hadson'];\n",
    "\n",
    "# construa sua soluçao"
   ]
  },
  {
   "cell_type": "markdown",
   "metadata": {
    "colab_type": "text",
    "id": "8jrxh_w-cff3"
   },
   "source": [
    "## Exercício 3"
   ]
  },
  {
   "cell_type": "markdown",
   "metadata": {
    "colab_type": "text",
    "id": "oXizOSseQGTj"
   },
   "source": [
    "Talvez você se relembre da lista de dicionários com nomes e nacionalidades de pessoas apresentada durante a aula. Realize mais uma filtragem, mas dessa vez gere uma lista que contenha os nomes de todos os europeus."
   ]
  },
  {
   "cell_type": "code",
   "execution_count": 3,
   "metadata": {
    "colab": {},
    "colab_type": "code",
    "id": "smOhM2qEOTCb"
   },
   "outputs": [
    {
     "name": "stdout",
     "output_type": "stream",
     "text": [
      "[]\n"
     ]
    }
   ],
   "source": [
    "pessoas_mundo = [ \n",
    "          { 'nome':'Paulo', 'nacionalidade': 'Brasil' },\n",
    "          { 'nome':'Lucas', 'nacionalidade': 'Brasil' },\n",
    "          { 'nome':'Brian','nacionalidade':'EUA' },\n",
    "          { 'nome':'Iolanda', 'nacionalidade':'Argentina' },\n",
    "          { 'nome':'Carlitos', 'nacionalidade':'Uruguai' },\n",
    "          { 'nome':'José', 'nacionalidade':'Brasil' },\n",
    "          { 'nome':'Chris', 'nacionalidade':'EUA' },\n",
    "          { 'nome':'Peter', 'nacionalidade':'França' },\n",
    "          { 'nome':'Cristiano', 'nacionalidade':'Portugal' },\n",
    "          { 'nome':'Roberto', 'nacionalidade':'Espanha' },\n",
    "          { 'nome':'Moana', 'nacionalidade':'Itália' },\n",
    "          { 'nome':'Bill', 'nacionalidade':'EUA' },\n",
    "          { 'nome':'Harry','nacionalidade':'Inglaterra' },\n",
    "          { 'nome': 'Sérgio', 'nacionalidade':'Itália' },\n",
    "          { 'nome':'Jhon','nacionalidade':'Inglaterra' }\n",
    "];\n",
    "\n",
    "\n",
    "# o ideal é que voce utilize o recurso para gerar listas de maneira compacta.\n",
    "europeus = [];\n",
    "\n",
    "# deve exibir os nomes de todas as pessoas com nacionalidade europeia (qualquer país europeu).\n",
    "print(europeus);"
   ]
  }
 ],
 "metadata": {
  "colab": {
   "authorship_tag": "ABX9TyMXkzNxLAJ/41Q8d9+24gs+",
   "collapsed_sections": [],
   "name": "Untitled0.ipynb",
   "provenance": [],
   "toc_visible": true
  },
  "kernelspec": {
   "display_name": "Python 3",
   "language": "python",
   "name": "python3"
  },
  "language_info": {
   "codemirror_mode": {
    "name": "ipython",
    "version": 3
   },
   "file_extension": ".py",
   "mimetype": "text/x-python",
   "name": "python",
   "nbconvert_exporter": "python",
   "pygments_lexer": "ipython3",
   "version": "3.7.4"
  }
 },
 "nbformat": 4,
 "nbformat_minor": 4
}
