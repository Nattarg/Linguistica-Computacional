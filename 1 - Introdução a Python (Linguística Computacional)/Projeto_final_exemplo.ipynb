{
  "nbformat": 4,
  "nbformat_minor": 0,
  "metadata": {
    "colab": {
      "name": "Projeto final re.ipynb",
      "provenance": [],
      "collapsed_sections": [],
      "authorship_tag": "ABX9TyPev5QHMPqsqI4i/k5MKPeG",
      "include_colab_link": true
    },
    "kernelspec": {
      "name": "python3",
      "display_name": "Python 3"
    }
  },
  "cells": [
    {
      "cell_type": "markdown",
      "metadata": {
        "id": "view-in-github",
        "colab_type": "text"
      },
      "source": [
        "<a href=\"https://colab.research.google.com/github/Nattarg/Linguistica-Computacional/blob/master/1%20-%20Introdu%C3%A7%C3%A3o%20a%20Python%20(Lingu%C3%ADstica%20Computacional)/Projeto_final_exemplo.ipynb\" target=\"_parent\"><img src=\"https://colab.research.google.com/assets/colab-badge.svg\" alt=\"Open In Colab\"/></a>"
      ]
    },
    {
      "cell_type": "code",
      "metadata": {
        "id": "f1meQSorY4ti",
        "colab_type": "code",
        "colab": {}
      },
      "source": [
        "import re\n",
        "\n",
        "texto = 'Texto Padrão'\n",
        "op = 0\n",
        "opaju = 0\n",
        "while (op != 5):\n",
        "  print( '---------------Expressões Regulares---------------\\n1 - Inserir novo \\\n",
        "texto ! \\n2 - Verificar existência. \\n3 - Substituir Palavra. \\n4 - \\\n",
        "Ajuda. \\n5 - Sair. ')\n",
        "  op = int(input('Que opção deseja Escolher?\\n'+'-----'*10+'\\n'))\n",
        "  if (op == 1):\n",
        "    texto = input('Digite o novo texto a ser utilizado: \\n')\n",
        "  elif (op == 2):\n",
        "    if (texto == 'Texto Padrão'):\n",
        "      print('Nenhum texto encontrado!\\n Por favor utilize a função 1 para tal!')\n",
        "    else:\n",
        "      search = input('Digite o termo que você procura neste texto:\\n')\n",
        "      encontrado = re.findall(search,texto)\n",
        "      print(encontrado)\n",
        "      quantidade = len(encontrado)\n",
        "      if (quantidade > 0):\n",
        "        print('O termo procurado é apresentado no texto {} vezes\\n'.format(quantidade))\n",
        "      else:\n",
        "        print('O termo procurado não foi encontrado no texto!')\n",
        "  elif (op == 3):\n",
        "    subst = input('Qual texto deseja inserir no lugar de {} ?\\n'.format(search))\n",
        "    texto = re.sub(search,subst,texto)\n",
        "    print('O novo texto após a alteradção é: \\n {}'.format(texto)) \n",
        "  elif (op == 4):\n",
        "    while opaju != 4:\n",
        "      print('-------------Menu De ajuda-------------\\n \\\n",
        "    \\n1 - Inserir novo texto.\\n2 - Verificar existência.\\n3 - \\\n",
        "Substituir Palavra. \\n4 - Voltar ao menu.')\n",
        "      opaju = int(input('Qual função deseja saber mais sobre?\\n'+'-----'*8+'\\n'))\n",
        "      if opaju == 1:\n",
        "        print('Esta função é usada para inserir um novo texto, basta inserir o texto desejado.')\n",
        "      elif opaju == 2:\n",
        "        print('A função irá checar se determinado termo esta contido no texto previamente selecionado.')\n",
        "      elif opaju == 3:\n",
        "        print('Esta função irá substituir o termo selecionado na opção 2 por um novo texto escolhido por você.')\n",
        "        pass\n",
        "      elif opaju == 4:\n",
        "        pass \n",
        "      else:\n",
        "        print('Opção inválida!\\n')\n",
        "        pass\n",
        "  elif op == 5:\n",
        "    pass\n",
        "  else :\n",
        "    print('Opção inválida!\\n')\n",
        "    pass  \n",
        "print('Programa encerrado! ')"
      ],
      "execution_count": null,
      "outputs": []
    },
    {
      "cell_type": "markdown",
      "metadata": {
        "id": "9Hh-B0gw7CrX",
        "colab_type": "text"
      },
      "source": [
        "Que você seja alegre mesmo quando vier a chorar.\n",
        "Que você seja sempre jovem, mesmo quando o tempo passar.\n",
        "Que você tenha esperança, mesmo quando o sol não nascer.\n",
        "Que você ame seus íntimos, mesmo quando sofrer frustrações.\n",
        "Que você jamais deixe de sonhar, mesmo quando vier a fracassar.\n",
        "Isso é ser feliz.\n",
        "Que através deste livro você garimpe ouro dentro de si mesmo.\n",
        "E seja sempre apaixonado pela vida.\n",
        "E descubra que você é um ser humano especial."
      ]
    }
  ]
}