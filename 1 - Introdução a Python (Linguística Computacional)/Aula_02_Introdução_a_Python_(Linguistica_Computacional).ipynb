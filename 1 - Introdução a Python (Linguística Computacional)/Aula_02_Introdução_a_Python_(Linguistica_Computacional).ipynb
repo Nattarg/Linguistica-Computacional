{
  "nbformat": 4,
  "nbformat_minor": 0,
  "metadata": {
    "colab": {
      "name": "Aula 02 - Introdução a Python (Linguistica Computacional).ipynb",
      "provenance": [],
      "collapsed_sections": [],
      "include_colab_link": true
    },
    "kernelspec": {
      "name": "python3",
      "display_name": "Python 3"
    }
  },
  "cells": [
    {
      "cell_type": "markdown",
      "metadata": {
        "id": "view-in-github",
        "colab_type": "text"
      },
      "source": [
        "<a href=\"https://colab.research.google.com/github/Nattarg/Linguistica-Computacional/blob/master/1%20-%20Introdu%C3%A7%C3%A3o%20a%20Python%20(Lingu%C3%ADstica%20Computacional)/Aula_02_Introdu%C3%A7%C3%A3o_a_Python_(Linguistica_Computacional).ipynb\" target=\"_parent\"><img src=\"https://colab.research.google.com/assets/colab-badge.svg\" alt=\"Open In Colab\"/></a>"
      ]
    },
    {
      "cell_type": "markdown",
      "metadata": {
        "id": "_mIv81dpOcWZ",
        "colab_type": "text"
      },
      "source": [
        "#Aula 2"
      ]
    },
    {
      "cell_type": "markdown",
      "metadata": {
        "id": "Z3TYFlioSsnS",
        "colab_type": "text"
      },
      "source": [
        "###Listas"
      ]
    },
    {
      "cell_type": "markdown",
      "metadata": {
        "id": "X2jJx_HY58Ym",
        "colab_type": "text"
      },
      "source": [
        "![alt text](https://encrypted-tbn0.gstatic.com/images?q=tbn%3AANd9GcTNcvHrNRyqNquoRg6aKrwkzxXL1kE0kTPhCoBdBH6jv0ThAqTO)"
      ]
    },
    {
      "cell_type": "markdown",
      "metadata": {
        "id": "0XvTD0d8SzeP",
        "colab_type": "text"
      },
      "source": [
        "Listas são muito comuns no nosso cotidiano, seja uma lista de compras,uma lista de numeros ou uma lista de afazeres . As listas em python seguem uma logica parecida, são um local para armazenar varios valores, sejam eles numeros/strings ou qualquer outro tipo de dado, de uma só vez.\n",
        "\n",
        "Para criar uma lista utilizamos colchetes **( [ ] )** e separamos os itens utilizando virgulas **( , )** ."
      ]
    },
    {
      "cell_type": "code",
      "metadata": {
        "id": "uJ2ra1cjtHiH",
        "colab_type": "code",
        "colab": {}
      },
      "source": [
        "comida = ['Laranja','Arroz','Pizza','Chocolate'] #Lista guardando strings\n",
        "print(comida)\n",
        "\n",
        "numeros_primos = [2,3,5,7,11,13] #Lista guardando números\n",
        "print(numeros_primos)\n",
        "\n",
        "meses_e_dias = [['jan',31],['fev',28],['mar',31]]#Lista guardando outra lista\n",
        "print(meses_e_dias)"
      ],
      "execution_count": 0,
      "outputs": []
    },
    {
      "cell_type": "markdown",
      "metadata": {
        "id": "osXELoTiuRs-",
        "colab_type": "text"
      },
      "source": [
        "Como podemos ver as listas podem guardar strings,números e ate mesmo outras listas."
      ]
    },
    {
      "cell_type": "markdown",
      "metadata": {
        "id": "OG8jHRcxutdW",
        "colab_type": "text"
      },
      "source": [
        "Dentro das funções disponiveis temos o **len()** que informará o numero de itens dentro da lista passada como argumento. Os argumentos são valores/variaveis necessárias para aplicarmos determinados métodos (este tópico sera melhor abordado futuramente quando tratarmos de funções) ."
      ]
    },
    {
      "cell_type": "code",
      "metadata": {
        "id": "5l_6BJeDvJUm",
        "colab_type": "code",
        "colab": {}
      },
      "source": [
        "len(comida)\n",
        "print(len(comida))\n",
        "\n",
        "len(numeros_primos)\n",
        "print(len(numeros_primos))"
      ],
      "execution_count": 0,
      "outputs": []
    },
    {
      "cell_type": "markdown",
      "metadata": {
        "id": "rrGkcJcmvVrk",
        "colab_type": "text"
      },
      "source": [
        "Lembrando sempre de usar o comando **print()** para exibir o valor."
      ]
    },
    {
      "cell_type": "markdown",
      "metadata": {
        "id": "_OuqTselvjUN",
        "colab_type": "text"
      },
      "source": [
        "Semelhante as Strings as listas são objetos indexados, ou seja podemos selecionar um item especifico ou então segmentar uma lista."
      ]
    },
    {
      "cell_type": "code",
      "metadata": {
        "id": "V7zmtBXsv4gL",
        "colab_type": "code",
        "colab": {}
      },
      "source": [
        "comida[0]\n",
        "print(comida[0]) #Exibe o primeiro item na lista \"comida\"\n",
        "\n",
        "meses_e_dias[-1]\n",
        "print(meses_e_dias[-1])#Exibe o ultimo item na lista \"meses_e_dias\"\n",
        "\n",
        "numeros_primos[:2]\n",
        "print(numeros_primos[:2])\n"
      ],
      "execution_count": 0,
      "outputs": []
    },
    {
      "cell_type": "markdown",
      "metadata": {
        "id": "S-jdUZsTxDc-",
        "colab_type": "text"
      },
      "source": [
        "Alem disso, se os itens dentro da lista tambem forem indexados podemos então utilizar de mais um colchete **( [ ] )** para selecionar também itens específicos ou segmentar eles.\n"
      ]
    },
    {
      "cell_type": "code",
      "metadata": {
        "id": "t2A8IKKzx0w_",
        "colab_type": "code",
        "colab": {}
      },
      "source": [
        "comida[0][3:]\n",
        "print(comida[0][3:]) #Mostramos os caracteres da posição 3 em diante do primeiro item da lista comida\n",
        "\n",
        "meses_e_dias[-1][-2]\n",
        "print(meses_e_dias[-1][-2]) #Mostramos o segundo item da direita pra esquerda da ultima sublista\n",
        "\n",
        "meses_e_dias[-1][-2][0]\n",
        "print(meses_e_dias[-1][-2][0]) #Mostramos  a primeira palavra da sublista que foi mostrada acima"
      ],
      "execution_count": 0,
      "outputs": []
    },
    {
      "cell_type": "markdown",
      "metadata": {
        "id": "eKRDEztozKCX",
        "colab_type": "text"
      },
      "source": [
        "Como é possível observar, conseguimos acessar até mesmo caracteres especificos de sublistas(listas dentro de listas)."
      ]
    },
    {
      "cell_type": "markdown",
      "metadata": {
        "id": "EV8sBIgwzW2U",
        "colab_type": "text"
      },
      "source": [
        "Outra propriedade interessante das listas é o fato de serem mutáveis, ou seja, podemos alterar valores de posições desejadas da seguinte forma:"
      ]
    },
    {
      "cell_type": "code",
      "metadata": {
        "id": "x4UpZWbezou2",
        "colab_type": "code",
        "colab": {}
      },
      "source": [
        "print(comida)\n",
        "comida[2] = 'Salada'\n",
        "print(comida)"
      ],
      "execution_count": 0,
      "outputs": []
    },
    {
      "cell_type": "markdown",
      "metadata": {
        "id": "3j-n8tl-z9gL",
        "colab_type": "text"
      },
      "source": [
        "Como podemos ver, é bem semelhante a declaração de variaveis. A diferença é que devemos informar a posição da lista que irá receber o novo valor."
      ]
    },
    {
      "cell_type": "markdown",
      "metadata": {
        "id": "EFNd0lP20OZ2",
        "colab_type": "text"
      },
      "source": [
        "Tambem existem casos em que não desejamos substituir mas sim adicionar novas coisas a lista. Para estes casos temos o método **append()** , este metodo adicionara o novo elemento na ultima posição da lista."
      ]
    },
    {
      "cell_type": "code",
      "metadata": {
        "id": "3sVb_qWx0wuU",
        "colab_type": "code",
        "colab": {}
      },
      "source": [
        "print(numeros_primos)\n",
        "\n",
        "numeros_primos.append(17) #Adicionamos o número 17 a ultima posição da lista \"numeros_primos\"\n",
        "print(numeros_primos)"
      ],
      "execution_count": 0,
      "outputs": []
    },
    {
      "cell_type": "markdown",
      "metadata": {
        "id": "_p36inxZ1IQs",
        "colab_type": "text"
      },
      "source": [
        "E uma maneira alternativa de conseguir o mesmo efeito é somando listas. No caso abaixo somamos uma lista com apenas um valor (19) a lista ja existente numeros_primos."
      ]
    },
    {
      "cell_type": "code",
      "metadata": {
        "id": "v9_Jawrs1dEF",
        "colab_type": "code",
        "outputId": "4db452d9-82fa-4771-afef-d6459a2b97c8",
        "colab": {
          "base_uri": "https://localhost:8080/",
          "height": 52
        }
      },
      "source": [
        "print(numeros_primos)\n",
        "\n",
        "numeros_primos = numeros_primos + [19] #Adicionamos o número 19 a ultima posição da lista \"numeros_primos\"\n",
        "\n",
        "print(numeros_primos)"
      ],
      "execution_count": 0,
      "outputs": [
        {
          "output_type": "stream",
          "text": [
            "[2, 3, 5, 7, 11, 13, 17]\n",
            "[2, 3, 5, 7, 11, 13, 17, 19]\n"
          ],
          "name": "stdout"
        }
      ]
    },
    {
      "cell_type": "markdown",
      "metadata": {
        "id": "5_W3bHiB2jEX",
        "colab_type": "text"
      },
      "source": [
        "### Tuplas"
      ]
    },
    {
      "cell_type": "markdown",
      "metadata": {
        "id": "YytKFreXD5Uj",
        "colab_type": "text"
      },
      "source": [
        "As tuplas, semelhante as listas, também armazenam tanto números como strings e outros tipos de dados. A diferença é que as tuplas são objetos imutáveis, nós podemos até adicionar mais itens as tuplas mas não podemos tirar ou editar valores ja gravados. Analogo as listas as tuplas são feitas utilizando parênteses e separam os itens por meio de virgulas."
      ]
    },
    {
      "cell_type": "code",
      "metadata": {
        "id": "MQkXWw2jGc2M",
        "colab_type": "code",
        "colab": {}
      },
      "source": [
        "romance = ('Vidas Secas', '1938')\n",
        "\n",
        "ano = romance[1]\n",
        "print(ano)\n"
      ],
      "execution_count": 0,
      "outputs": []
    },
    {
      "cell_type": "markdown",
      "metadata": {
        "id": "xDRvMln2G2c3",
        "colab_type": "text"
      },
      "source": [
        "Como podemos ver, é possivel acessar uma posição da tupla de forma semelhante as listas."
      ]
    },
    {
      "cell_type": "markdown",
      "metadata": {
        "id": "8xVwdqVzG-xM",
        "colab_type": "text"
      },
      "source": [
        "Podemos tambem utilizar tuplas dentro de listas."
      ]
    },
    {
      "cell_type": "code",
      "metadata": {
        "id": "PnJP6rooHDHF",
        "colab_type": "code",
        "colab": {
          "base_uri": "https://localhost:8080/",
          "height": 34
        },
        "outputId": "5e7f2c6a-0ddd-403b-dd9b-005f9c5fe46e"
      },
      "source": [
        "romances_Graciliano = [('Caetés', '1933'), ('São  Bernardo', '1934'), ('Angústia', '1936'), ('Vidas Secas', '1938')]\n",
        "romances_Graciliano[2]\n",
        "print(romances_Graciliano[2])"
      ],
      "execution_count": 2,
      "outputs": [
        {
          "output_type": "stream",
          "text": [
            "('Angústia', '1936')\n"
          ],
          "name": "stdout"
        }
      ]
    }
  ]
}