{
  "nbformat": 4,
  "nbformat_minor": 0,
  "metadata": {
    "colab": {
      "name": "Aula 02 - Introdução a Python (Linguistica Computacional).ipynb",
      "provenance": [],
      "collapsed_sections": [],
      "include_colab_link": true
    },
    "kernelspec": {
      "name": "python3",
      "display_name": "Python 3"
    }
  },
  "cells": [
    {
      "cell_type": "markdown",
      "metadata": {
        "id": "view-in-github",
        "colab_type": "text"
      },
      "source": [
        "<a href=\"https://colab.research.google.com/github/Nattarg/Linguistica-Computacional/blob/master/1%20-%20Introdu%C3%A7%C3%A3o%20a%20Python%20(Lingu%C3%ADstica%20Computacional)/Aula_02_Introdu%C3%A7%C3%A3o_a_Python_(Linguistica_Computacional).ipynb\" target=\"_parent\"><img src=\"https://colab.research.google.com/assets/colab-badge.svg\" alt=\"Open In Colab\"/></a>"
      ]
    },
    {
      "cell_type": "markdown",
      "metadata": {
        "id": "_mIv81dpOcWZ",
        "colab_type": "text"
      },
      "source": [
        "#Aula 2"
      ]
    },
    {
      "cell_type": "markdown",
      "metadata": {
        "id": "Z3TYFlioSsnS",
        "colab_type": "text"
      },
      "source": [
        "###Listas"
      ]
    },
    {
      "cell_type": "markdown",
      "metadata": {
        "id": "X2jJx_HY58Ym",
        "colab_type": "text"
      },
      "source": [
        "![alt text](https://encrypted-tbn0.gstatic.com/images?q=tbn%3AANd9GcTNcvHrNRyqNquoRg6aKrwkzxXL1kE0kTPhCoBdBH6jv0ThAqTO)"
      ]
    },
    {
      "cell_type": "markdown",
      "metadata": {
        "id": "0XvTD0d8SzeP",
        "colab_type": "text"
      },
      "source": [
        "Listas são muito comuns no nosso cotidiano, seja uma lista de compras,uma lista de numeros ou uma lista de afazeres . As listas em python seguem uma logica parecida, são um local para armazenar varios valores, sejam eles numeros/strings ou qualquer outro tipo de dado, de uma só vez.\n",
        "\n",
        "Para criar uma lista utilizamos colchetes **( [ ] )** e separamos os itens utilizando virgulas **( , )** ."
      ]
    },
    {
      "cell_type": "code",
      "metadata": {
        "id": "uJ2ra1cjtHiH",
        "colab_type": "code",
        "colab": {}
      },
      "source": [
        "comida = ['Laranja','Arroz','Pizza','Chocolate'] #Lista guardando strings\n",
        "print(comida)\n",
        "\n",
        "numeros_primos = [2,3,5,7,11,13] #Lista guardando números\n",
        "print(numeros_primos)\n",
        "\n",
        "meses_e_dias = [['jan',31],['fev',28],['mar',31]]#Lista guardando outra lista\n",
        "print(meses_e_dias)"
      ],
      "execution_count": 0,
      "outputs": []
    },
    {
      "cell_type": "markdown",
      "metadata": {
        "id": "osXELoTiuRs-",
        "colab_type": "text"
      },
      "source": [
        "Como podemos ver as listas podem guardar strings,números e ate mesmo outras listas."
      ]
    },
    {
      "cell_type": "markdown",
      "metadata": {
        "id": "OG8jHRcxutdW",
        "colab_type": "text"
      },
      "source": [
        "Dentro das funções disponiveis temos o **len()** que informará o numero de itens dentro da lista passada como argumento. Os argumentos são valores/variaveis necessárias para aplicarmos determinados métodos (este tópico sera melhor abordado futuramente quando tratarmos de funções) ."
      ]
    },
    {
      "cell_type": "code",
      "metadata": {
        "id": "5l_6BJeDvJUm",
        "colab_type": "code",
        "colab": {}
      },
      "source": [
        "len(comida)\n",
        "print(len(comida))\n",
        "\n",
        "len(numeros_primos)\n",
        "print(len(numeros_primos))"
      ],
      "execution_count": 0,
      "outputs": []
    },
    {
      "cell_type": "markdown",
      "metadata": {
        "id": "rrGkcJcmvVrk",
        "colab_type": "text"
      },
      "source": [
        "Lembrando sempre de usar o comando **print()** para exibir o valor."
      ]
    },
    {
      "cell_type": "markdown",
      "metadata": {
        "id": "_OuqTselvjUN",
        "colab_type": "text"
      },
      "source": [
        "Semelhante as Strings as listas são objetos indexados, ou seja podemos selecionar um item especifico ou então segmentar uma lista."
      ]
    },
    {
      "cell_type": "code",
      "metadata": {
        "id": "V7zmtBXsv4gL",
        "colab_type": "code",
        "colab": {}
      },
      "source": [
        "comida[0]\n",
        "print(comida[0]) #Exibe o primeiro item na lista \"comida\"\n",
        "\n",
        "meses_e_dias[-1]\n",
        "print(meses_e_dias[-1])#Exibe o ultimo item na lista \"meses_e_dias\"\n",
        "\n",
        "numeros_primos[:2]\n",
        "print(numeros_primos[:2])\n"
      ],
      "execution_count": 0,
      "outputs": []
    },
    {
      "cell_type": "markdown",
      "metadata": {
        "id": "S-jdUZsTxDc-",
        "colab_type": "text"
      },
      "source": [
        "Alem disso, se os itens dentro da lista tambem forem indexados podemos então utilizar de mais um colchete **( [ ] )** para selecionar também itens específicos ou segmentar eles.\n"
      ]
    },
    {
      "cell_type": "code",
      "metadata": {
        "id": "t2A8IKKzx0w_",
        "colab_type": "code",
        "colab": {}
      },
      "source": [
        "comida[0][3:]\n",
        "print(comida[0][3:]) \n",
        "'''Mostramos os caracteres da posição 3 em diante do \n",
        "#primeiro item da lista comida'''\n",
        "\n",
        "meses_e_dias[-1][-2]\n",
        "print(meses_e_dias[-1][-2]) \n",
        "'''Mostramos o segundo item da direita pra \n",
        "#esquerda da ultima sublista'''\n",
        "\n",
        "meses_e_dias[-1][-2][0]\n",
        "print(meses_e_dias[-1][-2][0]) \n",
        "'''Mostramos  a primeira palavra da sublista \n",
        "#que foi mostrada acima'''"
      ],
      "execution_count": 0,
      "outputs": []
    },
    {
      "cell_type": "markdown",
      "metadata": {
        "id": "eKRDEztozKCX",
        "colab_type": "text"
      },
      "source": [
        "Como é possível observar, conseguimos acessar até mesmo caracteres especificos de sublistas(listas dentro de listas)."
      ]
    },
    {
      "cell_type": "markdown",
      "metadata": {
        "id": "EV8sBIgwzW2U",
        "colab_type": "text"
      },
      "source": [
        "Outra propriedade interessante das listas é o fato de serem mutáveis, ou seja, podemos alterar valores de posições desejadas da seguinte forma:"
      ]
    },
    {
      "cell_type": "code",
      "metadata": {
        "id": "x4UpZWbezou2",
        "colab_type": "code",
        "colab": {}
      },
      "source": [
        "print(comida)\n",
        "comida[2] = 'Salada'\n",
        "print(comida)"
      ],
      "execution_count": 0,
      "outputs": []
    },
    {
      "cell_type": "markdown",
      "metadata": {
        "id": "3j-n8tl-z9gL",
        "colab_type": "text"
      },
      "source": [
        "Como podemos ver, é bem semelhante a declaração de variaveis. A diferença é que devemos informar a posição da lista que irá receber o novo valor."
      ]
    },
    {
      "cell_type": "markdown",
      "metadata": {
        "id": "EFNd0lP20OZ2",
        "colab_type": "text"
      },
      "source": [
        "Tambem existem casos em que não desejamos substituir mas sim adicionar novas coisas a lista. Para estes casos temos o método **append()** , este metodo adicionara o novo elemento na ultima posição da lista."
      ]
    },
    {
      "cell_type": "code",
      "metadata": {
        "id": "3sVb_qWx0wuU",
        "colab_type": "code",
        "colab": {
          "base_uri": "https://localhost:8080/",
          "height": 150
        },
        "outputId": "962fc077-4ec4-40a3-9847-76f144531b4d"
      },
      "source": [
        "print(numeros_primos)\n",
        "\n",
        "numeros_primos.append(17) \n",
        "'''Adicionamos o número 17 a ultima posição da \n",
        "lista \"numeros_primos '''\n",
        "print(numeros_primos)"
      ],
      "execution_count": 2,
      "outputs": [
        {
          "output_type": "error",
          "ename": "SyntaxError",
          "evalue": "ignored",
          "traceback": [
            "\u001b[0;36m  File \u001b[0;32m\"<ipython-input-2-3ed3bd01fc3d>\"\u001b[0;36m, line \u001b[0;32m4\u001b[0m\n\u001b[0;31m    lista \"numeros_primos\" '''\u001b[0m\n\u001b[0m                              \n^\u001b[0m\n\u001b[0;31mSyntaxError\u001b[0m\u001b[0;31m:\u001b[0m invalid syntax\n"
          ]
        }
      ]
    },
    {
      "cell_type": "markdown",
      "metadata": {
        "id": "_p36inxZ1IQs",
        "colab_type": "text"
      },
      "source": [
        "E uma maneira alternativa de conseguir o mesmo efeito é somando listas. No caso abaixo somamos uma lista com apenas um valor (19) a lista ja existente numeros_primos."
      ]
    },
    {
      "cell_type": "code",
      "metadata": {
        "id": "v9_Jawrs1dEF",
        "colab_type": "code",
        "colab": {}
      },
      "source": [
        "print(numeros_primos)\n",
        "\n",
        "numeros_primos = numeros_primos + [19] \n",
        "'''Adicionamos o número 19 a ultima \n",
        "posição da lista \"numeros_primos\" ''' \n",
        "\n",
        "print(numeros_primos)"
      ],
      "execution_count": 0,
      "outputs": []
    },
    {
      "cell_type": "markdown",
      "metadata": {
        "id": "5_W3bHiB2jEX",
        "colab_type": "text"
      },
      "source": [
        "### Tuplas"
      ]
    },
    {
      "cell_type": "markdown",
      "metadata": {
        "id": "YytKFreXD5Uj",
        "colab_type": "text"
      },
      "source": [
        "As tuplas, semelhante as listas, também armazenam tanto números como strings e outros tipos de dados. A diferença é que as tuplas são objetos imutáveis, nós podemos até adicionar mais itens as tuplas mas não podemos tirar ou editar valores ja gravados. Analogo as listas as tuplas são feitas utilizando parênteses e separam os itens por meio de virgulas."
      ]
    },
    {
      "cell_type": "code",
      "metadata": {
        "id": "MQkXWw2jGc2M",
        "colab_type": "code",
        "colab": {}
      },
      "source": [
        "romance = ('Vidas Secas', '1938')\n",
        "\n",
        "ano = romance[1]\n",
        "print(ano)\n"
      ],
      "execution_count": 0,
      "outputs": []
    },
    {
      "cell_type": "markdown",
      "metadata": {
        "id": "xDRvMln2G2c3",
        "colab_type": "text"
      },
      "source": [
        "Como podemos ver, é possivel acessar uma posição da tupla de forma semelhante as listas."
      ]
    },
    {
      "cell_type": "markdown",
      "metadata": {
        "id": "8xVwdqVzG-xM",
        "colab_type": "text"
      },
      "source": [
        "Podemos tambem utilizar tuplas dentro de listas."
      ]
    },
    {
      "cell_type": "code",
      "metadata": {
        "id": "PnJP6rooHDHF",
        "colab_type": "code",
        "colab": {}
      },
      "source": [
        "\n",
        "romances_Graciliano = [('Caetés', '1933'), ('São  Bernardo', '1934'),\\\n",
        "('Angústia', '1936'), ('Vidas Secas', '1938')]\n",
        "romances_Graciliano[]\n",
        "print(romances_Graciliano[2])"
      ],
      "execution_count": 0,
      "outputs": []
    },
    {
      "cell_type": "markdown",
      "metadata": {
        "id": "VPraRXA-hYSL",
        "colab_type": "text"
      },
      "source": [
        "###Conjutos"
      ]
    },
    {
      "cell_type": "markdown",
      "metadata": {
        "id": "MATcQQA6hrsf",
        "colab_type": "text"
      },
      "source": [
        "Os conjuntos agrupam dados porém sem ordenação e sem repetição. Diferentemente das tuplas e das listas o seus itens não são indexados e são únicos. Por este motivo, eles são muito utilizados como filtros para ocorrências repetidas em uma lista por exemplo. Vejamos abaixo um exemplo de filtro:"
      ]
    },
    {
      "cell_type": "code",
      "metadata": {
        "id": "XCcUOEILwR3e",
        "colab_type": "code",
        "colab": {}
      },
      "source": [
        "nomes = ['Maria','Luciana','Paula','Rita', 'Maria']\n",
        "print(nomes)\n",
        "conjunto = set(nomes)\n",
        "print(conjunto)"
      ],
      "execution_count": 0,
      "outputs": []
    },
    {
      "cell_type": "markdown",
      "metadata": {
        "id": "IbeLHNoew46M",
        "colab_type": "text"
      },
      "source": [
        "Podemos observar que os conuntos são escritos entre chaves **( {} )** ."
      ]
    },
    {
      "cell_type": "markdown",
      "metadata": {
        "id": "Xj9HZE1hxLe7",
        "colab_type": "text"
      },
      "source": [
        "Como os conjuntos matemáticos , tambem podemos fazer algumas operações com os conuntos: a **união (|)**, a **intersecção(&)** e a **diferença(-)** . Vejamos abaixo alguns exemplos:"
      ]
    },
    {
      "cell_type": "code",
      "metadata": {
        "id": "8aCTqGS8xjfM",
        "colab_type": "code",
        "colab": {}
      },
      "source": [
        "pares = {2,4,6,8}\n",
        "primos = {2,3,5,7,11,13,17,19,23}\n",
        "\n",
        "uniao = primos | pares\n",
        "print(uniao)\n",
        "\n",
        "interseccao = primos & pares\n",
        "print(interseccao)\n",
        "\n",
        "diferenca1 = primos - pares\n",
        "print(diferenca1)\n",
        "\n",
        "diferenca2 = pares-primos\n",
        "print(diferenca2)"
      ],
      "execution_count": 0,
      "outputs": []
    },
    {
      "cell_type": "markdown",
      "metadata": {
        "id": "6VQ7RtDiyZLG",
        "colab_type": "text"
      },
      "source": [
        "### Dicionários"
      ]
    },
    {
      "cell_type": "markdown",
      "metadata": {
        "id": "4Imc8DcBzGsE",
        "colab_type": "text"
      },
      "source": [
        "Ao pensar num dicionário tradcional, temos em mente uma espécie de lista de palavras ordenadas alfabeticamente, onde cada palavra está associada à definição de seu significado. Em python os dicionários funcionam de forma análoga, onde uma \"palavra\" é colocada entre chaves **( {} )** e seguinte a essa palavra temos dois pontos **( : )**e o seu \"significado atribuido\", cada palavra diferente então é separada por virgulas e assim temos um \"dicionário de palavras\". Vejamos um exeplo abaixo para facilitar o entendimento. "
      ]
    },
    {
      "cell_type": "code",
      "metadata": {
        "id": "DFvRZIKS1hPi",
        "colab_type": "code",
        "colab": {}
      },
      "source": [
        "romances = {'Dom Casmurro':('Machado de Assis',1899),\\ 'A Maçã do Escuro'\\\n",
        ":('Clarice Lispector',1961), 'São Bernardo':('Graciliano Ramos',1934) }\n",
        "print (romances)"
      ],
      "execution_count": 0,
      "outputs": []
    },
    {
      "cell_type": "markdown",
      "metadata": {
        "id": "YbiFrrHw2OXw",
        "colab_type": "text"
      },
      "source": [
        "Para acessarmos uma \"palavra\" do nosso dicionário usamos o nome do dicionaro seguido da palavra desejada entre colchetes **([ ])** ."
      ]
    },
    {
      "cell_type": "code",
      "metadata": {
        "id": "1tLu8B_S2wDC",
        "colab_type": "code",
        "colab": {}
      },
      "source": [
        "romances['Dom Casmurro']\n",
        "print(romances['Dom Casmurro'])"
      ],
      "execution_count": 0,
      "outputs": []
    },
    {
      "cell_type": "markdown",
      "metadata": {
        "id": "DgZ2GrD228Yw",
        "colab_type": "text"
      },
      "source": [
        "E de forma parecida as tuplas e listas tambem podemos alterar o valor ja guardado no dicionário."
      ]
    },
    {
      "cell_type": "code",
      "metadata": {
        "id": "q_TTV1m33Btw",
        "colab_type": "code",
        "outputId": "b46ba6a9-aadd-4bb6-f660-caa54b8bbded",
        "colab": {
          "base_uri": "https://localhost:8080/",
          "height": 34
        }
      },
      "source": [
        "romances['Dom Casmurro'] = ('Machado',1899)\n",
        "print(romances['Dom Casmurro'])"
      ],
      "execution_count": 0,
      "outputs": [
        {
          "output_type": "stream",
          "text": [
            "('Machado', 1899)\n"
          ],
          "name": "stdout"
        }
      ]
    },
    {
      "cell_type": "markdown",
      "metadata": {
        "id": "22mMu9NA31WA",
        "colab_type": "text"
      },
      "source": [
        "Para adicionarmos um novo item em um dicionário utilizamos o mesmo comando do codigo acima, porem desta vez adicionamos a nova \"palavra\" e o novo \"significado\" que queremos."
      ]
    },
    {
      "cell_type": "code",
      "metadata": {
        "id": "NnckOuPD4Zrq",
        "colab_type": "code",
        "outputId": "5c1c10f9-3df8-44b0-9ae9-75fb85bc2780",
        "colab": {
          "base_uri": "https://localhost:8080/",
          "height": 54
        }
      },
      "source": [
        "romances['Perto do Coração Selvagem'] = ('Clarice Lispector',1943)\n",
        "print(romances)"
      ],
      "execution_count": 0,
      "outputs": [
        {
          "output_type": "stream",
          "text": [
            "{'Dom Casmurro': ('Machado', 1899), 'A Maçã do Escuro': ('Clarice Lispector', 1961), 'São Bernardo': ('Graciliano Ramos', 1934), 'Perto do Coração Selvagem': ('Clarice Lispector', 1943)}\n"
          ],
          "name": "stdout"
        }
      ]
    },
    {
      "cell_type": "markdown",
      "metadata": {
        "id": "boj7OXRr41Bf",
        "colab_type": "text"
      },
      "source": [
        "Em caso de tentarmos mostrar um item que não existe no dicionário, ele nos retornará a mensagem KeyError ( erro de chave)."
      ]
    },
    {
      "cell_type": "code",
      "metadata": {
        "id": "QTbqcNaC5DtO",
        "colab_type": "code",
        "colab": {}
      },
      "source": [
        "romances['Desconhecido']"
      ],
      "execution_count": 0,
      "outputs": []
    },
    {
      "cell_type": "markdown",
      "metadata": {
        "id": "I19qPuke5I-_",
        "colab_type": "text"
      },
      "source": [
        "Por fim, é possivel acessarmos as \"palavras\" (chaves) e os \"significados\" (valores) separadamente utilizando os métodos **keys()** e **values()** respectivamente."
      ]
    },
    {
      "cell_type": "code",
      "metadata": {
        "id": "KrhlA1UC5uSX",
        "colab_type": "code",
        "outputId": "2a8476d8-eac0-4e83-b176-fb441ad210c0",
        "colab": {
          "base_uri": "https://localhost:8080/",
          "height": 52
        }
      },
      "source": [
        "titulos = romances.keys()\n",
        "print(titulos)\n",
        "\n",
        "informacoes = romances.values()\n",
        "print(informacoes)"
      ],
      "execution_count": 0,
      "outputs": [
        {
          "output_type": "stream",
          "text": [
            "dict_keys(['Dom Casmurro', 'A Maçã do Escuro', 'São Bernardo', 'Perto do Coração Selvagem'])\n",
            "dict_values([('Machado', 1899), ('Clarice Lispector', 1961), ('Graciliano Ramos', 1934), ('Clarice Lispector', 1943)])\n"
          ],
          "name": "stdout"
        }
      ]
    },
    {
      "cell_type": "markdown",
      "metadata": {
        "id": "--CxiE7H6EUv",
        "colab_type": "text"
      },
      "source": [
        "### Operadores Lógicos"
      ]
    },
    {
      "cell_type": "markdown",
      "metadata": {
        "id": "y1AZKv7UTr2u",
        "colab_type": "text"
      },
      "source": [
        "Para tratarmos do proximo tópico, é necessário revisarmos primeiro alguns conceitos sobre testes lógicos. Os testes lógicos/operadores lógicos/ comparadores lógicos são utilizados de forma a verificar se uma sentença é verdadeira ***True*** ou falsa ***False*** . Este tipo de variável é chamado de booleana visto que so podem alterar os valores entre falso e verdadeiro."
      ]
    },
    {
      "cell_type": "code",
      "metadata": {
        "id": "OEOAEeIWUnxW",
        "colab_type": "code",
        "colab": {}
      },
      "source": [
        "x=3\n",
        "y=5\n",
        "print(x == y)  # Verifica se x e y são iguais\n",
        "print(x != y)  # Verifica se x e y são iguais\n",
        "print(x > y)   # Verifica se x e y são iguais\n",
        "print(x < y)   # Verifica se x e y são iguais\n",
        "print(x >= y)  # Verifica se x e y são iguais\n",
        "print(x <= y)  # Verifica se x e y são iguais\n"
      ],
      "execution_count": 0,
      "outputs": []
    },
    {
      "cell_type": "markdown",
      "metadata": {
        "id": "tu8ZsdQRVKIc",
        "colab_type": "text"
      },
      "source": [
        "#### Operador de inclusão"
      ]
    },
    {
      "cell_type": "markdown",
      "metadata": {
        "id": "aaZMqtWpV-aK",
        "colab_type": "text"
      },
      "source": [
        "Em python tambem temos o operador de inclusão **in** , que pode ser utilizado para informar se determinados caracteres pertencem a uma string ou lista."
      ]
    },
    {
      "cell_type": "code",
      "metadata": {
        "id": "RRWzLFU0a33b",
        "colab_type": "code",
        "colab": {}
      },
      "source": [
        "comida = ['Laranja','Arroz','Pizza','Chocolate']\n",
        "'Laranja' in  comida\n",
        "print('Laranja' in comida) \n",
        "# Retorna verdadeiro pois \"Laranja\" pertence a lista \"comida\"\n",
        "\n",
        "'Laran' in comida\n",
        "print('Laran' in comida) \n",
        "#Retorna falso pois \"Laran\" não pertence a lista \"comida\"\n",
        "\n",
        "'Laran' in comida[0]\n",
        "print('Laran' in comida[0]) \n",
        "'''Retorna verdadeiro pois \"Laran\" percente a string na posição 0 da lista \n",
        "\"comida\" '''\n"
      ],
      "execution_count": 0,
      "outputs": []
    },
    {
      "cell_type": "markdown",
      "metadata": {
        "id": "wxFaudb_c8j6",
        "colab_type": "text"
      },
      "source": [
        "#### Operadores not,and e or"
      ]
    },
    {
      "cell_type": "markdown",
      "metadata": {
        "id": "xH1LEYkTdDvB",
        "colab_type": "text"
      },
      "source": [
        "O python tambem possuem os operadores **not, and** e **or** . O **not** é responsavel por inverter o valor de uma expressão. O **and** irá retornar verdadeiro apenas se as duas espressões forem veradeiras. O **or** ira retornar verdadeiro se qualquer uma das duas expressões forem veradeiras. Vejamos um exemplo abaixo."
      ]
    },
    {
      "cell_type": "code",
      "metadata": {
        "id": "Xn36wDlsetD5",
        "colab_type": "code",
        "colab": {}
      },
      "source": [
        "not True\n",
        "print(not True) #O termo True sempre retornará verdadeiro, porem neste caso como usamos o operador not esta função retornará False\n",
        "\n",
        "(1==1) and (2==2)\n",
        "print((1==1) and (2==2)) # Esta expressão retornará verdadeiro pois todas as duas condições impostas são verdadeiras\n",
        "\n",
        "(1==1) or (1==2)\n",
        "print((1==1) or (1==2)) # Esta expressão retornará verdadeiro pois uma das duas condições impostas são verdadeiras\n",
        "\n"
      ],
      "execution_count": 0,
      "outputs": []
    },
    {
      "cell_type": "markdown",
      "metadata": {
        "id": "8RP1GTRpgBLO",
        "colab_type": "text"
      },
      "source": [
        "### Condicionais"
      ]
    },
    {
      "cell_type": "markdown",
      "metadata": {
        "id": "WYhkQlS7gR-3",
        "colab_type": "text"
      },
      "source": [
        "As expressões condicionais utilizam de uma condição para executar um determinado codigo. Elas são escritas da seguinte forma:"
      ]
    },
    {
      "cell_type": "code",
      "metadata": {
        "id": "FCbqn7SkgnP6",
        "colab_type": "code",
        "colab": {}
      },
      "source": [
        "if (condição):\n",
        "  #Codigo a ser executado"
      ],
      "execution_count": 0,
      "outputs": []
    },
    {
      "cell_type": "markdown",
      "metadata": {
        "id": "1DUYJMEXgu0Q",
        "colab_type": "text"
      },
      "source": [
        "É imporante ressalatar que em Python a condição deve ser seguida de dois pontos, e que, o codigo a ser executado deve estar \"afastado\" de forma a estar dentro do **if**."
      ]
    },
    {
      "cell_type": "code",
      "metadata": {
        "id": "ozg7ixWwhS4W",
        "colab_type": "code",
        "colab": {}
      },
      "source": [
        "if (condição):\n",
        "  #Codigo que será executado pelo if\n",
        "#Codigo que NÃO está dentro do if "
      ],
      "execution_count": 0,
      "outputs": []
    },
    {
      "cell_type": "markdown",
      "metadata": {
        "id": "PFBk1lTbhfQG",
        "colab_type": "text"
      },
      "source": [
        "De forma a facilitar a visualização, utilizaremos o **Tab** uma vez para ajustar o código a ser executado pelo if."
      ]
    },
    {
      "cell_type": "code",
      "metadata": {
        "id": "DGSCf3ePh4-v",
        "colab_type": "code",
        "colab": {}
      },
      "source": [
        "if (condição):\n",
        "    #Codigo que será executado pelo if"
      ],
      "execution_count": 0,
      "outputs": []
    },
    {
      "cell_type": "markdown",
      "metadata": {
        "id": "Ac0HV5odiUGE",
        "colab_type": "text"
      },
      "source": [
        "Utilizemos então o if no dicionário romances criado anteriormente."
      ]
    },
    {
      "cell_type": "code",
      "metadata": {
        "id": "OiWvathci55N",
        "colab_type": "code",
        "colab": {}
      },
      "source": [
        "romances = {'Dom Casmurro':('Machado de Assis',1899), 'A Maçã do Escuro':('Clarice Lispector',1961), 'São Bernardo':('Graciliano Ramos',1934) }\n",
        "\n",
        "titulo = 'Dom Casmurro'\n",
        "if titulo in romances:\n",
        "    print('Romance encontrado.')\n",
        "    print('Autor: ', romances[titulo][0])\n",
        "    print('Ano: ', romances[titulo][1])"
      ],
      "execution_count": 0,
      "outputs": []
    },
    {
      "cell_type": "markdown",
      "metadata": {
        "id": "4Gohie6djpRh",
        "colab_type": "text"
      },
      "source": [
        "No código acima o fluxo será de forma que quando o titulo no dicionário romances for encontrado o codigo dentro do if será executado. Então o titulo será substituido nos comandos abaixo, vejamos como ficara o codigo executado quando o titulo for 'Dom Casmurro'.\n"
      ]
    },
    {
      "cell_type": "code",
      "metadata": {
        "id": "OtaBRK6UkQxv",
        "colab_type": "code",
        "outputId": "5b00c14c-30fb-4b5a-a63b-3dc6c102b486",
        "colab": {
          "base_uri": "https://localhost:8080/",
          "height": 70
        }
      },
      "source": [
        "print('Romance encontrado.')\n",
        "print('Autor: ', romances['Dom Casmurro'][0])\n",
        "print('Ano: ', romances['Dom Casmurro'][1])"
      ],
      "execution_count": 0,
      "outputs": [
        {
          "output_type": "stream",
          "text": [
            "Romance encontrado.\n",
            "Autor:  Machado de Assis\n",
            "Ano:  1899\n"
          ],
          "name": "stdout"
        }
      ]
    },
    {
      "cell_type": "markdown",
      "metadata": {
        "id": "ukJRQkICki4t",
        "colab_type": "text"
      },
      "source": [
        "Como visto anteriormente, o índice [0] e [1] irão determinar qual elemento do dicionário \"Dom Casmurro\" será selecionado."
      ]
    },
    {
      "cell_type": "markdown",
      "metadata": {
        "id": "a9uvsB_KowhX",
        "colab_type": "text"
      },
      "source": [
        "Existem também os condicionais **elif** e **else**. O **elif** tem uma execução bem parecida com a do if, porem, o elif pode ser usado para um caso de multiplas escolhas. O else será executado se nenhum dos outros condicionais anteriores forem executados."
      ]
    },
    {
      "cell_type": "code",
      "metadata": {
        "id": "FvSBtmfNqF4n",
        "colab_type": "code",
        "outputId": "1f102376-b219-42f3-f388-b96aace4f11d",
        "colab": {
          "base_uri": "https://localhost:8080/",
          "height": 34
        }
      },
      "source": [
        "romances = {'Dom Casmurro':('Machado de Assis',1899), 'A Maçã do Escuro':('Clarice Lispector',1961), 'São Bernardo':('Graciliano Ramos',1934) }\n",
        "\n",
        "titulo = 'A Maçã do Escuro'\n",
        "ano = romances[titulo][1]\n",
        "if ano < 1901:\n",
        "    print('Romance anterior ao século XX.')\n",
        "\n",
        "elif (ano>= 1901) and (ano <= 2000):\n",
        "    print('Romance do século XX.')\n",
        "\n",
        "else:\n",
        "    print('Romance do século XXI.')    \n",
        "\n"
      ],
      "execution_count": 0,
      "outputs": [
        {
          "output_type": "stream",
          "text": [
            "Romance do século XX.\n"
          ],
          "name": "stdout"
        }
      ]
    },
    {
      "cell_type": "markdown",
      "metadata": {
        "id": "UMkgRNVhrBI7",
        "colab_type": "text"
      },
      "source": [
        "Para testarmos o else vamos adicionar um romance do seculo XXI ao dicionário Romances."
      ]
    },
    {
      "cell_type": "code",
      "metadata": {
        "id": "TeIoLrMrripa",
        "colab_type": "code",
        "colab": {}
      },
      "source": [
        "romances['Romance XXI'] = ('Autor',2010)\n",
        "\n",
        "titulo = 'Romance XXI'\n",
        "ano = romances[titulo][1]\n",
        "if ano < 1901:\n",
        "    print('Romance anterior ao século XX.')\n",
        "\n",
        "elif (ano>= 1901) and (ano <= 2000):\n",
        "    print('Romance do século XX.')\n",
        "\n",
        "else:\n",
        "    print('Romance do século XXI.')    "
      ],
      "execution_count": 0,
      "outputs": []
    }
  ]
}