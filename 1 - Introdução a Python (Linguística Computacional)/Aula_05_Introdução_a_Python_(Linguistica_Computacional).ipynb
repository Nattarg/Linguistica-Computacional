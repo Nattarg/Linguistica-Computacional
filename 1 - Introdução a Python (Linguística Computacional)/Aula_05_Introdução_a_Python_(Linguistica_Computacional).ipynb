{
 "cells": [
  {
   "cell_type": "markdown",
   "metadata": {
    "colab_type": "text",
    "id": "view-in-github"
   },
   "source": [
    "<a href=\"https://colab.research.google.com/github/Nattarg/Linguistica-Computacional/blob/master/1%20-%20Introdu%C3%A7%C3%A3o%20a%20Python%20(Lingu%C3%ADstica%20Computacioal)/Untitled0.ipynb\" target=\"_parent\"><img src=\"https://colab.research.google.com/assets/colab-badge.svg\" alt=\"Open In Colab\"/></a>"
   ]
  },
  {
   "cell_type": "markdown",
   "metadata": {
    "colab_type": "text",
    "id": "Dm0XsXpF-5Ae"
   },
   "source": [
    "# **Introdução a Python - Aula 5**"
   ]
  },
  {
   "cell_type": "markdown",
   "metadata": {
    "colab_type": "text",
    "id": "BNlA_8rqZVAG"
   },
   "source": [
    "![python](https://www.python.org/static/img/python-logo@2x.png)"
   ]
  },
  {
   "cell_type": "markdown",
   "metadata": {
    "colab_type": "text",
    "id": "PgJ9vLuzBRXy"
   },
   "source": [
    "## Revisão do conteúdo da aula anterior"
   ]
  },
  {
   "cell_type": "markdown",
   "metadata": {
    "colab_type": "text",
    "id": "f3d1LLvsEJ7K"
   },
   "source": [
    "### Funções"
   ]
  },
  {
   "cell_type": "markdown",
   "metadata": {
    "colab_type": "text",
    "id": "4hbQti-eFxAG"
   },
   "source": [
    "Definindo funções:"
   ]
  },
  {
   "cell_type": "code",
   "execution_count": 1,
   "metadata": {
    "colab": {},
    "colab_type": "code",
    "id": "iTV3FEmdEMN2"
   },
   "outputs": [],
   "source": [
    "def soma(a,b):\n",
    "  return a+b;"
   ]
  },
  {
   "cell_type": "markdown",
   "metadata": {
    "colab_type": "text",
    "id": "SgthdwOeF0uJ"
   },
   "source": [
    "Funções lambda:"
   ]
  },
  {
   "cell_type": "code",
   "execution_count": 2,
   "metadata": {
    "colab": {},
    "colab_type": "code",
    "id": "BAc0nAn6F5Cw"
   },
   "outputs": [],
   "source": [
    "soma = lambda a,b : a + b;"
   ]
  },
  {
   "cell_type": "markdown",
   "metadata": {
    "colab_type": "text",
    "id": "RUyi2iTxi91x"
   },
   "source": [
    "Módulos externos:"
   ]
  },
  {
   "cell_type": "code",
   "execution_count": 3,
   "metadata": {
    "colab": {},
    "colab_type": "code",
    "id": "_ucfrVdwnsoA"
   },
   "outputs": [],
   "source": [
    "from collections import defaultdict;\n",
    "\n",
    "dic = defaultdict(lambda:0,{ 'Refrigerante':5.6, 'X-Tudo':7 });"
   ]
  },
  {
   "cell_type": "markdown",
   "metadata": {
    "colab_type": "text",
    "id": "IwfCUBLSDKx8"
   },
   "source": [
    "## Expressões Regulares"
   ]
  },
  {
   "cell_type": "markdown",
   "metadata": {
    "colab_type": "text",
    "id": "JT4X0gU_Sm6p"
   },
   "source": [
    "Expressoes regulares ou Regex permitem encontrar padrões em **strings** e representam um recurso muito poderoso para processar sentenças ou textos."
   ]
  },
  {
   "cell_type": "markdown",
   "metadata": {
    "colab_type": "text",
    "id": "B0RlMJDWQx0Y"
   },
   "source": [
    "Python disponibiliza um módulo nativo para se trabalhar com expressões regulares."
   ]
  },
  {
   "cell_type": "code",
   "execution_count": 1,
   "metadata": {
    "colab": {},
    "colab_type": "code",
    "id": "exejolXu-eUB"
   },
   "outputs": [],
   "source": [
    "import re;"
   ]
  },
  {
   "cell_type": "markdown",
   "metadata": {},
   "source": [
    "### A Função **match**"
   ]
  },
  {
   "cell_type": "markdown",
   "metadata": {
    "colab_type": "text",
    "id": "VTRyFYJJFsMQ"
   },
   "source": [
    "A função **match** verifica se o uma **string** obedece um padrão especificado no primeiro parâmetro."
   ]
  },
  {
   "cell_type": "markdown",
   "metadata": {
    "colab_type": "text",
    "id": "0Lb_8cF_UOSp"
   },
   "source": [
    "O código abaixo simplesmente verifica se a **string** é a letra **a**."
   ]
  },
  {
   "cell_type": "code",
   "execution_count": 5,
   "metadata": {
    "colab": {
     "base_uri": "https://localhost:8080/",
     "height": 34
    },
    "colab_type": "code",
    "executionInfo": {
     "elapsed": 1511,
     "status": "ok",
     "timestamp": 1591056123351,
     "user": {
      "displayName": "Daniel Santos",
      "photoUrl": "https://lh3.googleusercontent.com/a-/AOh14Gg01stYo4VIDzC67ybdUHn9tLlphUOcpwU-RFx0=s64",
      "userId": "05383206713853786422"
     },
     "user_tz": 180
    },
    "id": "zfAIHJnwF6mL",
    "outputId": "dfd075e1-a295-4189-bbf6-4fa20a06fd40"
   },
   "outputs": [
    {
     "name": "stdout",
     "output_type": "stream",
     "text": [
      "True\n"
     ]
    }
   ],
   "source": [
    "letra_a = re.match('a','a');\n",
    "\n",
    "verificado = bool(letra_a);\n",
    "\n",
    "print(verificado);"
   ]
  },
  {
   "cell_type": "markdown",
   "metadata": {
    "colab_type": "text",
    "id": "kHUjy741UKeK"
   },
   "source": [
    "o próximo exemplo identifica a letra **a** mesmo se for maiúscula. O símbolo \"|\" representa o \"ou\" lógico."
   ]
  },
  {
   "cell_type": "code",
   "execution_count": 6,
   "metadata": {
    "colab": {
     "base_uri": "https://localhost:8080/",
     "height": 34
    },
    "colab_type": "code",
    "executionInfo": {
     "elapsed": 930,
     "status": "ok",
     "timestamp": 1591056519180,
     "user": {
      "displayName": "Daniel Santos",
      "photoUrl": "https://lh3.googleusercontent.com/a-/AOh14Gg01stYo4VIDzC67ybdUHn9tLlphUOcpwU-RFx0=s64",
      "userId": "05383206713853786422"
     },
     "user_tz": 180
    },
    "id": "4YVq7nqVUsmr",
    "outputId": "c6a3f03c-83f0-4782-a532-4cc5544281fe"
   },
   "outputs": [
    {
     "name": "stdout",
     "output_type": "stream",
     "text": [
      "True\n"
     ]
    }
   ],
   "source": [
    "letra_a_ou_A = re.match('a|A','a');\n",
    "\n",
    "verificado = bool(letra_a_ou_A);\n",
    "\n",
    "print(verificado);"
   ]
  },
  {
   "cell_type": "markdown",
   "metadata": {
    "colab_type": "text",
    "id": "qa2KYTpXYbn7"
   },
   "source": [
    "**Exercício 5.1**: Crie uma expressão regular para identificar as letras **a**, **b** ou **c**. "
   ]
  },
  {
   "cell_type": "code",
   "execution_count": 7,
   "metadata": {
    "colab": {
     "base_uri": "https://localhost:8080/",
     "height": 34
    },
    "colab_type": "code",
    "executionInfo": {
     "elapsed": 876,
     "status": "ok",
     "timestamp": 1591057121524,
     "user": {
      "displayName": "Daniel Santos",
      "photoUrl": "https://lh3.googleusercontent.com/a-/AOh14Gg01stYo4VIDzC67ybdUHn9tLlphUOcpwU-RFx0=s64",
      "userId": "05383206713853786422"
     },
     "user_tz": 180
    },
    "id": "YlXutP81YupD",
    "outputId": "43dda5ce-64cf-465c-dc1f-9bfa4f7f5601"
   },
   "outputs": [
    {
     "name": "stdout",
     "output_type": "stream",
     "text": [
      "True\n"
     ]
    }
   ],
   "source": [
    "letra_a_b_c = re.match('','d');\n",
    "\n",
    "verificado = bool(letra_a_b_c);\n",
    "\n",
    "# deve ser verdadeiro apenas para a, b ou c\n",
    "print(verificado);"
   ]
  },
  {
   "cell_type": "markdown",
   "metadata": {
    "colab_type": "text",
    "id": "Ikd32o3KXAGD"
   },
   "source": [
    "Para identificar qualquer letra ou dígito é possível utilizar a seguinte expressão:"
   ]
  },
  {
   "cell_type": "code",
   "execution_count": 8,
   "metadata": {
    "colab": {
     "base_uri": "https://localhost:8080/",
     "height": 34
    },
    "colab_type": "code",
    "executionInfo": {
     "elapsed": 1098,
     "status": "ok",
     "timestamp": 1591057928545,
     "user": {
      "displayName": "Daniel Santos",
      "photoUrl": "https://lh3.googleusercontent.com/a-/AOh14Gg01stYo4VIDzC67ybdUHn9tLlphUOcpwU-RFx0=s64",
      "userId": "05383206713853786422"
     },
     "user_tz": 180
    },
    "id": "M4Q8ucvsXL2Z",
    "outputId": "dd66dc38-79ac-47e8-da55-0da096e50a2f"
   },
   "outputs": [
    {
     "name": "stdout",
     "output_type": "stream",
     "text": [
      "True\n"
     ]
    }
   ],
   "source": [
    "qualquer_letra_ou_numero = re.match('\\\\w','b');\n",
    "\n",
    "verificado = bool(qualquer_letra_ou_numero);\n",
    "\n",
    "print(verificado);"
   ]
  },
  {
   "cell_type": "markdown",
   "metadata": {
    "colab_type": "text",
    "id": "9FI0HJlzZlTK"
   },
   "source": [
    "O próximo exemplo identifica apenas dígitos:"
   ]
  },
  {
   "cell_type": "code",
   "execution_count": 9,
   "metadata": {
    "colab": {
     "base_uri": "https://localhost:8080/",
     "height": 34
    },
    "colab_type": "code",
    "executionInfo": {
     "elapsed": 1182,
     "status": "ok",
     "timestamp": 1591058071551,
     "user": {
      "displayName": "Daniel Santos",
      "photoUrl": "https://lh3.googleusercontent.com/a-/AOh14Gg01stYo4VIDzC67ybdUHn9tLlphUOcpwU-RFx0=s64",
      "userId": "05383206713853786422"
     },
     "user_tz": 180
    },
    "id": "AUREIdl3ZsQL",
    "outputId": "bfaefae4-e50b-4721-89db-b137935c1cb6"
   },
   "outputs": [
    {
     "name": "stdout",
     "output_type": "stream",
     "text": [
      "True\n"
     ]
    }
   ],
   "source": [
    "qualquer_digito = re.match('\\\\d','2');\n",
    "\n",
    "verificado = bool(qualquer_digito);\n",
    "\n",
    "print(verificado);"
   ]
  },
  {
   "cell_type": "markdown",
   "metadata": {
    "colab_type": "text",
    "id": "B_Ic_Adqc-Up"
   },
   "source": [
    "Também é possível identificar espaços em branco com regex:"
   ]
  },
  {
   "cell_type": "code",
   "execution_count": 10,
   "metadata": {
    "colab": {
     "base_uri": "https://localhost:8080/",
     "height": 34
    },
    "colab_type": "code",
    "executionInfo": {
     "elapsed": 856,
     "status": "ok",
     "timestamp": 1591058256680,
     "user": {
      "displayName": "Daniel Santos",
      "photoUrl": "https://lh3.googleusercontent.com/a-/AOh14Gg01stYo4VIDzC67ybdUHn9tLlphUOcpwU-RFx0=s64",
      "userId": "05383206713853786422"
     },
     "user_tz": 180
    },
    "id": "eXrYZBK3dDAk",
    "outputId": "e3e0f5eb-9289-4e65-b1a3-2f41d3bd8ae4"
   },
   "outputs": [
    {
     "name": "stdout",
     "output_type": "stream",
     "text": [
      "True\n"
     ]
    }
   ],
   "source": [
    "espaco_branco = re.match('\\\\s',' ');\n",
    "\n",
    "verificado = bool(espaco_branco);\n",
    "\n",
    "print(verificado);"
   ]
  },
  {
   "cell_type": "markdown",
   "metadata": {
    "colab_type": "text",
    "id": "yazEzVCUd2ry"
   },
   "source": [
    "Uma regex pode ser definida como um intervalo:"
   ]
  },
  {
   "cell_type": "code",
   "execution_count": 11,
   "metadata": {
    "colab": {
     "base_uri": "https://localhost:8080/",
     "height": 34
    },
    "colab_type": "code",
    "executionInfo": {
     "elapsed": 932,
     "status": "ok",
     "timestamp": 1591058452566,
     "user": {
      "displayName": "Daniel Santos",
      "photoUrl": "https://lh3.googleusercontent.com/a-/AOh14Gg01stYo4VIDzC67ybdUHn9tLlphUOcpwU-RFx0=s64",
      "userId": "05383206713853786422"
     },
     "user_tz": 180
    },
    "id": "P_OcrcdYd9Vf",
    "outputId": "8f2ad118-c6da-4c80-cec4-80dcdd8f6932"
   },
   "outputs": [
    {
     "name": "stdout",
     "output_type": "stream",
     "text": [
      "False\n"
     ]
    }
   ],
   "source": [
    "letra_a_f = re.match('[a-f]','g');\n",
    "\n",
    "verificado = bool(letra_a_f);\n",
    "\n",
    "print(verificado);"
   ]
  },
  {
   "cell_type": "code",
   "execution_count": 12,
   "metadata": {
    "colab": {
     "base_uri": "https://localhost:8080/",
     "height": 34
    },
    "colab_type": "code",
    "executionInfo": {
     "elapsed": 1148,
     "status": "ok",
     "timestamp": 1591058508682,
     "user": {
      "displayName": "Daniel Santos",
      "photoUrl": "https://lh3.googleusercontent.com/a-/AOh14Gg01stYo4VIDzC67ybdUHn9tLlphUOcpwU-RFx0=s64",
      "userId": "05383206713853786422"
     },
     "user_tz": 180
    },
    "id": "bl8SvSQ4eZF0",
    "outputId": "3cd1d943-170c-4ccb-a878-aaeeb4bafcfe"
   },
   "outputs": [
    {
     "name": "stdout",
     "output_type": "stream",
     "text": [
      "True\n"
     ]
    }
   ],
   "source": [
    "digito_1_5 = re.match('[1-5]','1');\n",
    "\n",
    "verificado = bool(digito_1_5);\n",
    "\n",
    "print(verificado);"
   ]
  },
  {
   "cell_type": "markdown",
   "metadata": {
    "colab_type": "text",
    "id": "hNh4Wktpeq3N"
   },
   "source": [
    "É possível identificar todo o alfabeto da seguinte forma:"
   ]
  },
  {
   "cell_type": "code",
   "execution_count": 13,
   "metadata": {
    "colab": {
     "base_uri": "https://localhost:8080/",
     "height": 34
    },
    "colab_type": "code",
    "executionInfo": {
     "elapsed": 1027,
     "status": "ok",
     "timestamp": 1591058654055,
     "user": {
      "displayName": "Daniel Santos",
      "photoUrl": "https://lh3.googleusercontent.com/a-/AOh14Gg01stYo4VIDzC67ybdUHn9tLlphUOcpwU-RFx0=s64",
      "userId": "05383206713853786422"
     },
     "user_tz": 180
    },
    "id": "clMuwzDbexVv",
    "outputId": "62b4778d-bb9a-4a50-b3ab-cfef5948b6a2"
   },
   "outputs": [
    {
     "name": "stdout",
     "output_type": "stream",
     "text": [
      "True\n"
     ]
    }
   ],
   "source": [
    "qualquer_letra = re.match('[a-zA-Z]','D');\n",
    "\n",
    "verificado = bool(qualquer_letra);\n",
    "\n",
    "print(verificado);"
   ]
  },
  {
   "cell_type": "markdown",
   "metadata": {
    "colab_type": "text",
    "id": "ayRnxn5hfG-d"
   },
   "source": [
    "**Exercício 5.2**: Crie uma expressão regular que identifica as letras entre **b** e **f** ou um dígito entre **5** e **9**."
   ]
  },
  {
   "cell_type": "code",
   "execution_count": 14,
   "metadata": {
    "colab": {
     "base_uri": "https://localhost:8080/",
     "height": 34
    },
    "colab_type": "code",
    "executionInfo": {
     "elapsed": 1607,
     "status": "ok",
     "timestamp": 1591058944867,
     "user": {
      "displayName": "Daniel Santos",
      "photoUrl": "https://lh3.googleusercontent.com/a-/AOh14Gg01stYo4VIDzC67ybdUHn9tLlphUOcpwU-RFx0=s64",
      "userId": "05383206713853786422"
     },
     "user_tz": 180
    },
    "id": "qEtX9-G-fxM_",
    "outputId": "07b95952-19ab-4ddc-9099-fb8b5258b04f"
   },
   "outputs": [
    {
     "name": "stdout",
     "output_type": "stream",
     "text": [
      "True\n"
     ]
    }
   ],
   "source": [
    "letra_ou_digitos_bf_59 = re.match('[b-f5-9]','5');\n",
    "\n",
    "verificado = bool(letra_ou_digitos_bf_59);\n",
    "\n",
    "# deve retornar verdadeiro apenas para letras entre b-f ou dígitos entre 5-9\n",
    "print(verificado);"
   ]
  },
  {
   "cell_type": "markdown",
   "metadata": {
    "colab_type": "text",
    "id": "FvTQYScsrRNr"
   },
   "source": [
    "Os próximos exemplos demonstram como identificar padrões por meio de exceções:"
   ]
  },
  {
   "cell_type": "code",
   "execution_count": 15,
   "metadata": {
    "colab": {
     "base_uri": "https://localhost:8080/",
     "height": 34
    },
    "colab_type": "code",
    "executionInfo": {
     "elapsed": 937,
     "status": "ok",
     "timestamp": 1591062090956,
     "user": {
      "displayName": "Daniel Santos",
      "photoUrl": "https://lh3.googleusercontent.com/a-/AOh14Gg01stYo4VIDzC67ybdUHn9tLlphUOcpwU-RFx0=s64",
      "userId": "05383206713853786422"
     },
     "user_tz": 180
    },
    "id": "7u0yGmPGrhDu",
    "outputId": "46f57ca2-f95b-4cb1-a5e2-806c8c24022f"
   },
   "outputs": [
    {
     "name": "stdout",
     "output_type": "stream",
     "text": [
      "True\n"
     ]
    }
   ],
   "source": [
    "exceto_letras_digitos = re.match('\\\\W','*');\n",
    "\n",
    "verificado = bool(exceto_letras_digitos);\n",
    "\n",
    "print(verificado);"
   ]
  },
  {
   "cell_type": "code",
   "execution_count": 16,
   "metadata": {
    "colab": {
     "base_uri": "https://localhost:8080/",
     "height": 34
    },
    "colab_type": "code",
    "executionInfo": {
     "elapsed": 2195,
     "status": "ok",
     "timestamp": 1591062204781,
     "user": {
      "displayName": "Daniel Santos",
      "photoUrl": "https://lh3.googleusercontent.com/a-/AOh14Gg01stYo4VIDzC67ybdUHn9tLlphUOcpwU-RFx0=s64",
      "userId": "05383206713853786422"
     },
     "user_tz": 180
    },
    "id": "DYMc2QtAsPSv",
    "outputId": "b88c2e36-d0ad-4aa0-c57c-80920cf0e473"
   },
   "outputs": [
    {
     "name": "stdout",
     "output_type": "stream",
     "text": [
      "False\n"
     ]
    }
   ],
   "source": [
    "exceto_digitos = re.match('\\\\D','2');\n",
    "\n",
    "verificado = bool(exceto_digitos);\n",
    "\n",
    "print(verificado);"
   ]
  },
  {
   "cell_type": "code",
   "execution_count": 17,
   "metadata": {
    "colab": {
     "base_uri": "https://localhost:8080/",
     "height": 34
    },
    "colab_type": "code",
    "executionInfo": {
     "elapsed": 1744,
     "status": "ok",
     "timestamp": 1591062253296,
     "user": {
      "displayName": "Daniel Santos",
      "photoUrl": "https://lh3.googleusercontent.com/a-/AOh14Gg01stYo4VIDzC67ybdUHn9tLlphUOcpwU-RFx0=s64",
      "userId": "05383206713853786422"
     },
     "user_tz": 180
    },
    "id": "LIPevHFesuGR",
    "outputId": "ce0cc772-70e3-4562-c99a-06cf1db7d493"
   },
   "outputs": [
    {
     "name": "stdout",
     "output_type": "stream",
     "text": [
      "False\n"
     ]
    }
   ],
   "source": [
    "exceto_espacos = re.match('\\\\S',' ');\n",
    "\n",
    "verificado = bool(exceto_espacos);\n",
    "\n",
    "print(verificado);"
   ]
  },
  {
   "cell_type": "code",
   "execution_count": 18,
   "metadata": {
    "colab": {
     "base_uri": "https://localhost:8080/",
     "height": 34
    },
    "colab_type": "code",
    "executionInfo": {
     "elapsed": 1736,
     "status": "ok",
     "timestamp": 1591116296326,
     "user": {
      "displayName": "Daniel Santos",
      "photoUrl": "https://lh3.googleusercontent.com/a-/AOh14Gg01stYo4VIDzC67ybdUHn9tLlphUOcpwU-RFx0=s64",
      "userId": "05383206713853786422"
     },
     "user_tz": 180
    },
    "id": "vzg_-g31s2-H",
    "outputId": "e44f8e0b-3d69-4710-f0b4-828448ec5721"
   },
   "outputs": [
    {
     "name": "stdout",
     "output_type": "stream",
     "text": [
      "True\n"
     ]
    }
   ],
   "source": [
    "exceto_letras = re.match('[^a-zA-Z]','-');\n",
    "\n",
    "verificado = bool(exceto_letras);\n",
    "\n",
    "print(verificado);"
   ]
  },
  {
   "cell_type": "markdown",
   "metadata": {
    "colab_type": "text",
    "id": "Ycif-gjD7NZu"
   },
   "source": [
    "**Exercício 5.3**: Crie uma expressão regular que identifique qualquer caractere exceto as letras **x**, **y** e **z**."
   ]
  },
  {
   "cell_type": "code",
   "execution_count": 19,
   "metadata": {
    "colab": {
     "base_uri": "https://localhost:8080/",
     "height": 34
    },
    "colab_type": "code",
    "executionInfo": {
     "elapsed": 3024,
     "status": "ok",
     "timestamp": 1591116599464,
     "user": {
      "displayName": "Daniel Santos",
      "photoUrl": "https://lh3.googleusercontent.com/a-/AOh14Gg01stYo4VIDzC67ybdUHn9tLlphUOcpwU-RFx0=s64",
      "userId": "05383206713853786422"
     },
     "user_tz": 180
    },
    "id": "SDIxcU9E7BaA",
    "outputId": "dda0a821-4ece-450d-abe8-9500e68fe06a"
   },
   "outputs": [
    {
     "name": "stdout",
     "output_type": "stream",
     "text": [
      "True\n"
     ]
    }
   ],
   "source": [
    "exceto_x_y_z = re.match('','x');\n",
    "\n",
    "verificado = bool(exceto_x_y_z);\n",
    "\n",
    "# deve retornar false para as letras x, y e z\n",
    "print(verificado);"
   ]
  },
  {
   "cell_type": "markdown",
   "metadata": {
    "colab_type": "text",
    "id": "WJebgaie8SqK"
   },
   "source": [
    "Expressões regulares também podem validar strings com múltiplos caracteres."
   ]
  },
  {
   "cell_type": "code",
   "execution_count": 20,
   "metadata": {
    "colab": {
     "base_uri": "https://localhost:8080/",
     "height": 34
    },
    "colab_type": "code",
    "executionInfo": {
     "elapsed": 3126,
     "status": "ok",
     "timestamp": 1591117800825,
     "user": {
      "displayName": "Daniel Santos",
      "photoUrl": "https://lh3.googleusercontent.com/a-/AOh14Gg01stYo4VIDzC67ybdUHn9tLlphUOcpwU-RFx0=s64",
      "userId": "05383206713853786422"
     },
     "user_tz": 180
    },
    "id": "xgDYw-ZWAASx",
    "outputId": "a03222a5-4c29-48a0-e1e3-9b934de5a343"
   },
   "outputs": [
    {
     "name": "stdout",
     "output_type": "stream",
     "text": [
      "True\n"
     ]
    }
   ],
   "source": [
    "homem_mulher = re.match('(homem|mulher)','homem');\n",
    "\n",
    "verificado = bool(homem_mulher);\n",
    "\n",
    "print(verificado);"
   ]
  },
  {
   "cell_type": "code",
   "execution_count": 21,
   "metadata": {
    "colab": {
     "base_uri": "https://localhost:8080/",
     "height": 34
    },
    "colab_type": "code",
    "executionInfo": {
     "elapsed": 2024,
     "status": "ok",
     "timestamp": 1591117809087,
     "user": {
      "displayName": "Daniel Santos",
      "photoUrl": "https://lh3.googleusercontent.com/a-/AOh14Gg01stYo4VIDzC67ybdUHn9tLlphUOcpwU-RFx0=s64",
      "userId": "05383206713853786422"
     },
     "user_tz": 180
    },
    "id": "S3krFCYT_hdX",
    "outputId": "eecc8848-e85e-4b9d-fe19-7ca565789066"
   },
   "outputs": [
    {
     "name": "stdout",
     "output_type": "stream",
     "text": [
      "True\n"
     ]
    }
   ],
   "source": [
    "letra_seguida_digito = re.match('[a-zA-Z]\\\\d','a5');\n",
    "\n",
    "verificado = bool(letra_seguida_digito);\n",
    "\n",
    "# deve retornar false para as letras x, y e z\n",
    "print(verificado);"
   ]
  },
  {
   "cell_type": "code",
   "execution_count": 22,
   "metadata": {
    "colab": {
     "base_uri": "https://localhost:8080/",
     "height": 34
    },
    "colab_type": "code",
    "executionInfo": {
     "elapsed": 1214,
     "status": "ok",
     "timestamp": 1591118750752,
     "user": {
      "displayName": "Daniel Santos",
      "photoUrl": "https://lh3.googleusercontent.com/a-/AOh14Gg01stYo4VIDzC67ybdUHn9tLlphUOcpwU-RFx0=s64",
      "userId": "05383206713853786422"
     },
     "user_tz": 180
    },
    "id": "pyThzl-vA4sx",
    "outputId": "837df897-ba28-498f-dec1-33f04aa96849"
   },
   "outputs": [
    {
     "name": "stdout",
     "output_type": "stream",
     "text": [
      "True\n"
     ]
    }
   ],
   "source": [
    "tres_letras_traco_tres_digitos = re.match('[a-zA-Z][a-zA-Z][a-zA-Z]-\\\\d\\\\d\\\\d','abc-125');\n",
    "\n",
    "verificado = bool(tres_letras_traco_tres_digitos);\n",
    "\n",
    "print(verificado);"
   ]
  },
  {
   "cell_type": "markdown",
   "metadata": {
    "colab_type": "text",
    "id": "DZ2hHIzOCmM9"
   },
   "source": [
    "**Exercício 5.4**: Crie uma expressão regular para validar o modelo de placas de automóveis composto por três letras maiúsculas, traço e quatro dígitos **AAA-1111**."
   ]
  },
  {
   "cell_type": "code",
   "execution_count": 23,
   "metadata": {
    "colab": {
     "base_uri": "https://localhost:8080/",
     "height": 34
    },
    "colab_type": "code",
    "executionInfo": {
     "elapsed": 1250,
     "status": "ok",
     "timestamp": 1591118537846,
     "user": {
      "displayName": "Daniel Santos",
      "photoUrl": "https://lh3.googleusercontent.com/a-/AOh14Gg01stYo4VIDzC67ybdUHn9tLlphUOcpwU-RFx0=s64",
      "userId": "05383206713853786422"
     },
     "user_tz": 180
    },
    "id": "_1e9OD8dDWt6",
    "outputId": "23bd15cb-9f55-4709-a370-037df6214981"
   },
   "outputs": [
    {
     "name": "stdout",
     "output_type": "stream",
     "text": [
      "True\n"
     ]
    }
   ],
   "source": [
    "placa_valida = re.match('','ABC-1234');\n",
    "\n",
    "verificado = bool(placa_valida);\n",
    "\n",
    "# deve retornar verdadeiro apenas o modelo LLL-DDDD\n",
    "print(verificado);"
   ]
  },
  {
   "cell_type": "markdown",
   "metadata": {
    "colab_type": "text",
    "id": "9uCotw5ODvPw"
   },
   "source": [
    "Em algumas situações é mais conveniente especificar quantas vezes um determinado caractere pode ocorrer em uma expressão."
   ]
  },
  {
   "cell_type": "code",
   "execution_count": 24,
   "metadata": {
    "colab": {
     "base_uri": "https://localhost:8080/",
     "height": 34
    },
    "colab_type": "code",
    "executionInfo": {
     "elapsed": 1001,
     "status": "ok",
     "timestamp": 1591118919973,
     "user": {
      "displayName": "Daniel Santos",
      "photoUrl": "https://lh3.googleusercontent.com/a-/AOh14Gg01stYo4VIDzC67ybdUHn9tLlphUOcpwU-RFx0=s64",
      "userId": "05383206713853786422"
     },
     "user_tz": 180
    },
    "id": "MpIw61e6EAOa",
    "outputId": "89ea83bb-c652-404c-a77c-0c6faa942784"
   },
   "outputs": [
    {
     "name": "stdout",
     "output_type": "stream",
     "text": [
      "True\n"
     ]
    }
   ],
   "source": [
    "tres_letras_traco_tres_digitos = re.match('[a-zA-Z]{3}\\\\d{3}','abc511');\n",
    "\n",
    "verificado = bool(tres_letras_traco_tres_digitos);\n",
    "\n",
    "print(verificado);"
   ]
  },
  {
   "cell_type": "markdown",
   "metadata": {
    "colab_type": "text",
    "id": "5F_Ym8iaFE0S"
   },
   "source": [
    "É possível declarar o número máximo e também mínimo de vezes que um caractere ou expressão pode apresentar."
   ]
  },
  {
   "cell_type": "code",
   "execution_count": 26,
   "metadata": {
    "colab": {
     "base_uri": "https://localhost:8080/",
     "height": 34
    },
    "colab_type": "code",
    "executionInfo": {
     "elapsed": 1049,
     "status": "ok",
     "timestamp": 1591119083806,
     "user": {
      "displayName": "Daniel Santos",
      "photoUrl": "https://lh3.googleusercontent.com/a-/AOh14Gg01stYo4VIDzC67ybdUHn9tLlphUOcpwU-RFx0=s64",
      "userId": "05383206713853786422"
     },
     "user_tz": 180
    },
    "id": "eyNTkljeFAvP",
    "outputId": "4d95bae7-ed07-4749-f6fd-320c3a546e77"
   },
   "outputs": [
    {
     "name": "stdout",
     "output_type": "stream",
     "text": [
      "False\n"
     ]
    }
   ],
   "source": [
    "tres_letras_traco_tres_digitos = re.match('[a-zA-Z]{2,4}\\\\d{3}','a511');\n",
    "\n",
    "verificado = bool(tres_letras_traco_tres_digitos);\n",
    "\n",
    "print(verificado);"
   ]
  },
  {
   "cell_type": "markdown",
   "metadata": {
    "colab_type": "text",
    "id": "qRijlMxGF9Et"
   },
   "source": [
    "Há alguns caracteres especiais que também representam o número de ocorrências:\n",
    "- ( **+** ): Uma expressao ocorre uma ou mais vezes.\n",
    "- ( __*__ ): Uma expressao ocorre nenhuma ou várias vezes."
   ]
  },
  {
   "cell_type": "code",
   "execution_count": 12,
   "metadata": {},
   "outputs": [
    {
     "name": "stdout",
     "output_type": "stream",
     "text": [
      "False\n"
     ]
    }
   ],
   "source": [
    "b_uma_mais_vezes = re.match('ab+','a');\n",
    "\n",
    "verificado = bool(b_uma_mais_vezes);\n",
    "\n",
    "print(verificado);"
   ]
  },
  {
   "cell_type": "code",
   "execution_count": 11,
   "metadata": {},
   "outputs": [
    {
     "name": "stdout",
     "output_type": "stream",
     "text": [
      "True\n"
     ]
    }
   ],
   "source": [
    "b_nenhuma_mais_vezes = re.match('ab*','a');\n",
    "\n",
    "verificado = bool(b_nenhuma_mais_vezes);\n",
    "\n",
    "print(verificado);"
   ]
  },
  {
   "cell_type": "markdown",
   "metadata": {},
   "source": [
    "**Exercício 5.5**: Crie uma regex que valide um número de celular, o padrão deve ser formado por cinco ou quatro dígitos (se for cinco o primeiro deve ser 9) seguido de espaço e mais quatro dígitos. Exemplos: **98855 3588** ou **9853 9458**."
   ]
  },
  {
   "cell_type": "code",
   "execution_count": 19,
   "metadata": {},
   "outputs": [
    {
     "name": "stdout",
     "output_type": "stream",
     "text": [
      "True\n"
     ]
    }
   ],
   "source": [
    "celular = re.match('','8855 3588');\n",
    "\n",
    "verificado = bool(celular);\n",
    "\n",
    "print(verificado);"
   ]
  },
  {
   "cell_type": "markdown",
   "metadata": {},
   "source": [
    "Com expressões regulares também é possível especificar a posição de uma expressão dentro de uma **string**."
   ]
  },
  {
   "cell_type": "markdown",
   "metadata": {},
   "source": [
    "O caractere especial \"**^**\" quando pode indicar excessões como já estudado, mas também pode indicar o início da string."
   ]
  },
  {
   "cell_type": "code",
   "execution_count": 24,
   "metadata": {},
   "outputs": [
    {
     "name": "stdout",
     "output_type": "stream",
     "text": [
      "True\n"
     ]
    }
   ],
   "source": [
    "palavra_inicia_a = re.match('^[a|A]','ameba');\n",
    "\n",
    "verificado = bool(palavra_inicia_a);\n",
    "\n",
    "print(verificado);"
   ]
  },
  {
   "cell_type": "markdown",
   "metadata": {},
   "source": [
    "Já o caractere \"**$**\" indica o final da string."
   ]
  },
  {
   "cell_type": "code",
   "execution_count": 27,
   "metadata": {},
   "outputs": [
    {
     "name": "stdout",
     "output_type": "stream",
     "text": [
      "True\n"
     ]
    }
   ],
   "source": [
    "palavra_finaliza_a = re.match('\\\\w*[a|A]$','amebA');\n",
    "\n",
    "verificado = bool(palavra_finaliza_a);\n",
    "\n",
    "print(verificado);"
   ]
  },
  {
   "cell_type": "markdown",
   "metadata": {},
   "source": [
    "Por fim, a expressão \"\\\\\\\\b\" representa a fronteira de um string ou palavra."
   ]
  },
  {
   "cell_type": "code",
   "execution_count": 40,
   "metadata": {},
   "outputs": [
    {
     "name": "stdout",
     "output_type": "stream",
     "text": [
      "False\n"
     ]
    }
   ],
   "source": [
    "e_sozinho = re.match('\\\\bé\\\\b','café');\n",
    "\n",
    "verificado = bool(e_sozinho);\n",
    "\n",
    "print(verificado);"
   ]
  },
  {
   "cell_type": "markdown",
   "metadata": {},
   "source": [
    "**Exercício 5.6**: Crie uma regex para identificar strings que iniciam com uma vogal e terminem com \"ismo\"."
   ]
  },
  {
   "cell_type": "code",
   "execution_count": 41,
   "metadata": {},
   "outputs": [
    {
     "name": "stdout",
     "output_type": "stream",
     "text": [
      "True\n"
     ]
    }
   ],
   "source": [
    "palavra_vogal_ismo = re.match('','iluminismo');\n",
    "\n",
    "verificado = bool(palavra_vogal_ismo);\n",
    "\n",
    "print(verificado);"
   ]
  },
  {
   "cell_type": "markdown",
   "metadata": {},
   "source": [
    "### Outras Funções"
   ]
  },
  {
   "cell_type": "markdown",
   "metadata": {},
   "source": [
    "O módulo **re** disponibiliza várias outras funções que utilizam expressões regulares, veremos mais duas a **findall** e **sub**."
   ]
  },
  {
   "cell_type": "markdown",
   "metadata": {},
   "source": [
    "A função **findall** encontra todas os subconjuntos de uma string que obdecem uma regex."
   ]
  },
  {
   "cell_type": "code",
   "execution_count": 49,
   "metadata": {},
   "outputs": [
    {
     "name": "stdout",
     "output_type": "stream",
     "text": [
      "['amarelo', 'ainda', 'azul']\n"
     ]
    }
   ],
   "source": [
    "texto = \"minha cor favorita é amarelo, ainda que minha roupa seja azul\";\n",
    "\n",
    "palavras_iniciam_a = re.findall('\\\\ba\\w*\\\\b',texto);\n",
    "\n",
    "print(palavras_iniciam_a);"
   ]
  },
  {
   "cell_type": "markdown",
   "metadata": {},
   "source": [
    "A função **sub** permite substituir subconjuntos de caracteres em uma string capturados por uma regex."
   ]
  },
  {
   "cell_type": "code",
   "execution_count": 51,
   "metadata": {},
   "outputs": [
    {
     "name": "stdout",
     "output_type": "stream",
     "text": [
      "* bastante hoje. * últimos dias * muito *\n"
     ]
    }
   ],
   "source": [
    "texto = 'andei bastante hoje. esses últimos dias estão muito agradáveis';\n",
    "\n",
    "nao_iniciam_com_vogal =  re.sub('\\\\b[aeiou]\\\\w*\\\\b','*',texto);\n",
    "\n",
    "print(nao_iniciam_com_vogal);"
   ]
  },
  {
   "cell_type": "markdown",
   "metadata": {},
   "source": [
    "Expressões regulares é um conteúdo muito vasto e complexo. Os padrões apresentados aqui são somente introdutórios, para dar continuidade sobre esse assunto consulte livros específicos ou exemplos disponíveis na [documentação do da linguagem Python](https://docs.python.org/3/library/re.html)."
   ]
  },
  {
   "cell_type": "markdown",
   "metadata": {},
   "source": [
    "## Próximos Passos"
   ]
  },
  {
   "cell_type": "markdown",
   "metadata": {},
   "source": [
    "- [Natural Language Toolkit (NLTK)](https://www.nltk.org/index.html)"
   ]
  },
  {
   "cell_type": "markdown",
   "metadata": {},
   "source": [
    "- [Industrial-Strength Natural Language Processing (spaCy)](https://spacy.io/)"
   ]
  }
 ],
 "metadata": {
  "colab": {
   "collapsed_sections": [],
   "name": "Aula_05_Introdução_a_Python_(Linguistica_Computacional).ipynb",
   "provenance": [],
   "toc_visible": true
  },
  "kernelspec": {
   "display_name": "Python 3",
   "language": "python",
   "name": "python3"
  },
  "language_info": {
   "codemirror_mode": {
    "name": "ipython",
    "version": 3
   },
   "file_extension": ".py",
   "mimetype": "text/x-python",
   "name": "python",
   "nbconvert_exporter": "python",
   "pygments_lexer": "ipython3",
   "version": "3.7.4"
  }
 },
 "nbformat": 4,
 "nbformat_minor": 4
}
