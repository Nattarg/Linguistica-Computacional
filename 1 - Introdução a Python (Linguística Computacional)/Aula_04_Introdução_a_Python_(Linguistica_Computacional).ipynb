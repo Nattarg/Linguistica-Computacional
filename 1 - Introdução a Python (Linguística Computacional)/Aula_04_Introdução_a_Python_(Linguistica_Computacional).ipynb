{
 "cells": [
  {
   "cell_type": "markdown",
   "metadata": {
    "colab_type": "text",
    "id": "view-in-github"
   },
   "source": [
    "<a href=\"https://colab.research.google.com/github/Nattarg/Linguistica-Computacional/blob/master/1%20-%20Introdu%C3%A7%C3%A3o%20a%20Python%20(Lingu%C3%ADstica%20Computacioal)/Untitled0.ipynb\" target=\"_parent\"><img src=\"https://colab.research.google.com/assets/colab-badge.svg\" alt=\"Open In Colab\"/></a>"
   ]
  },
  {
   "cell_type": "markdown",
   "metadata": {
    "colab_type": "text",
    "id": "Dm0XsXpF-5Ae"
   },
   "source": [
    "# **Introdução a Python - Aula 4**"
   ]
  },
  {
   "cell_type": "markdown",
   "metadata": {
    "colab_type": "text",
    "id": "BNlA_8rqZVAG"
   },
   "source": [
    "![python](https://www.python.org/static/img/python-logo@2x.png)"
   ]
  },
  {
   "cell_type": "markdown",
   "metadata": {
    "colab_type": "text",
    "id": "PgJ9vLuzBRXy"
   },
   "source": [
    "## Revisão do conteúdo da aula anterior"
   ]
  },
  {
   "cell_type": "markdown",
   "metadata": {
    "colab_type": "text",
    "id": "f3d1LLvsEJ7K"
   },
   "source": [
    "### Loops"
   ]
  },
  {
   "cell_type": "markdown",
   "metadata": {
    "colab_type": "text",
    "id": "4hbQti-eFxAG"
   },
   "source": [
    "Laço **for**:"
   ]
  },
  {
   "cell_type": "code",
   "execution_count": null,
   "metadata": {
    "colab": {
     "base_uri": "https://localhost:8080/",
     "height": 68
    },
    "colab_type": "code",
    "executionInfo": {
     "elapsed": 1532,
     "status": "ok",
     "timestamp": 1590850675443,
     "user": {
      "displayName": "Daniel Santos",
      "photoUrl": "https://lh3.googleusercontent.com/a-/AOh14Gg01stYo4VIDzC67ybdUHn9tLlphUOcpwU-RFx0=s64",
      "userId": "05383206713853786422"
     },
     "user_tz": 180
    },
    "id": "iTV3FEmdEMN2",
    "outputId": "8d2f7eee-f9bf-4c8e-9a01-4f6f6b404950"
   },
   "outputs": [],
   "source": [
    "frutas = ['uva','abacaxi','manga'];\n",
    "\n",
    "for fruta in frutas:\n",
    "  print(fruta); "
   ]
  },
  {
   "cell_type": "markdown",
   "metadata": {
    "colab_type": "text",
    "id": "SgthdwOeF0uJ"
   },
   "source": [
    "Laço **while**:"
   ]
  },
  {
   "cell_type": "code",
   "execution_count": null,
   "metadata": {
    "colab": {
     "base_uri": "https://localhost:8080/",
     "height": 187
    },
    "colab_type": "code",
    "executionInfo": {
     "elapsed": 1365,
     "status": "ok",
     "timestamp": 1590850753394,
     "user": {
      "displayName": "Daniel Santos",
      "photoUrl": "https://lh3.googleusercontent.com/a-/AOh14Gg01stYo4VIDzC67ybdUHn9tLlphUOcpwU-RFx0=s64",
      "userId": "05383206713853786422"
     },
     "user_tz": 180
    },
    "id": "BAc0nAn6F5Cw",
    "outputId": "b391e10d-8782-4037-e5b1-10b4bc01847c"
   },
   "outputs": [],
   "source": [
    "contador = 1;\n",
    "\n",
    "while(contador<=10):\n",
    "  print(contador);\n",
    "  contador+=1;"
   ]
  },
  {
   "cell_type": "markdown",
   "metadata": {
    "colab_type": "text",
    "id": "UN3QstFyE8DU"
   },
   "source": [
    "### Filtragem"
   ]
  },
  {
   "cell_type": "markdown",
   "metadata": {
    "colab_type": "text",
    "id": "Cxf9fqnzGyIg"
   },
   "source": [
    "Utilizando listas compactas:"
   ]
  },
  {
   "cell_type": "code",
   "execution_count": null,
   "metadata": {
    "colab": {
     "base_uri": "https://localhost:8080/",
     "height": 34
    },
    "colab_type": "code",
    "executionInfo": {
     "elapsed": 807,
     "status": "ok",
     "timestamp": 1590850910385,
     "user": {
      "displayName": "Daniel Santos",
      "photoUrl": "https://lh3.googleusercontent.com/a-/AOh14Gg01stYo4VIDzC67ybdUHn9tLlphUOcpwU-RFx0=s64",
      "userId": "05383206713853786422"
     },
     "user_tz": 180
    },
    "id": "_g-KUY3dFIpU",
    "outputId": "ad124aeb-3e4b-4338-9b18-600da89d8f8a"
   },
   "outputs": [],
   "source": [
    "estados = ('Rio Grande do Norte','Ceará','Paraíba','Pernambuco');\n",
    "\n",
    "estados_inicia_p = [ estado for estado in estados if estado.startswith('P') ];\n",
    "\n",
    "print(estados_inicia_p);"
   ]
  },
  {
   "cell_type": "markdown",
   "metadata": {
    "colab_type": "text",
    "id": "IwfCUBLSDKx8"
   },
   "source": [
    "## Funções"
   ]
  },
  {
   "cell_type": "markdown",
   "metadata": {
    "colab_type": "text",
    "id": "DwKovJozL-nx"
   },
   "source": [
    "A possibilidade de declarar funções é um dos recursos mais importantes de qualquer linguagem de programação. Funções permitem reaproveitar códigos e simplificar problemas complexos."
   ]
  },
  {
   "cell_type": "markdown",
   "metadata": {
    "colab_type": "text",
    "id": "tsznFGV9PkJo"
   },
   "source": [
    "### Definindo uma função"
   ]
  },
  {
   "cell_type": "markdown",
   "metadata": {
    "colab_type": "text",
    "id": "JT4X0gU_Sm6p"
   },
   "source": [
    "Desde o início do curso, já utilizamos várias funções, um exemplo é o comando **print**, que imprime algo na tela. Essa é uma das muitas funções nativamente definidas pelo Python. Essas funções são muito úteis e devem ser utilizadas quando disponíveis, todavia, as vezes é necessário criarmos nossas próprias funções."
   ]
  },
  {
   "cell_type": "markdown",
   "metadata": {
    "colab_type": "text",
    "id": "B0RlMJDWQx0Y"
   },
   "source": [
    "O exemplo abaixo demonstra como definir uma função em Python"
   ]
  },
  {
   "cell_type": "code",
   "execution_count": null,
   "metadata": {
    "colab": {},
    "colab_type": "code",
    "id": "exejolXu-eUB"
   },
   "outputs": [],
   "source": [
    "def soma(a,b):\n",
    "  soma = a + b;\n",
    "  print(soma);"
   ]
  },
  {
   "cell_type": "markdown",
   "metadata": {
    "colab_type": "text",
    "id": "VTRyFYJJFsMQ"
   },
   "source": [
    "Uma vez definida, uma função pode ser utilizada quantas vezes forem necessárias."
   ]
  },
  {
   "cell_type": "code",
   "execution_count": null,
   "metadata": {
    "colab": {
     "base_uri": "https://localhost:8080/",
     "height": 34
    },
    "colab_type": "code",
    "executionInfo": {
     "elapsed": 1019,
     "status": "ok",
     "timestamp": 1590853616472,
     "user": {
      "displayName": "Daniel Santos",
      "photoUrl": "https://lh3.googleusercontent.com/a-/AOh14Gg01stYo4VIDzC67ybdUHn9tLlphUOcpwU-RFx0=s64",
      "userId": "05383206713853786422"
     },
     "user_tz": 180
    },
    "id": "zfAIHJnwF6mL",
    "outputId": "7718a713-737f-45dd-f962-8c15e522ea8d"
   },
   "outputs": [],
   "source": [
    "soma(5,2);"
   ]
  },
  {
   "cell_type": "code",
   "execution_count": null,
   "metadata": {
    "colab": {
     "base_uri": "https://localhost:8080/",
     "height": 34
    },
    "colab_type": "code",
    "executionInfo": {
     "elapsed": 898,
     "status": "ok",
     "timestamp": 1590853630924,
     "user": {
      "displayName": "Daniel Santos",
      "photoUrl": "https://lh3.googleusercontent.com/a-/AOh14Gg01stYo4VIDzC67ybdUHn9tLlphUOcpwU-RFx0=s64",
      "userId": "05383206713853786422"
     },
     "user_tz": 180
    },
    "id": "rHKcuS6NQ9Z3",
    "outputId": "4f43c748-24be-4829-f766-f2aefc4cf1cb"
   },
   "outputs": [],
   "source": [
    "soma(10,5);"
   ]
  },
  {
   "cell_type": "markdown",
   "metadata": {
    "colab_type": "text",
    "id": "QxlOihUNRrNr"
   },
   "source": [
    "A função **soma**, definida acima, realiza uma soma e imprime o resultado como já foi visto. Apesar de funcionar corretamente, é uma boa prática definir uma função que realize alguma operação e \"retorne algo\". Para retornar algum valor em uma função, pode-se utilizar o comando **return**."
   ]
  },
  {
   "cell_type": "code",
   "execution_count": null,
   "metadata": {
    "colab": {},
    "colab_type": "code",
    "id": "Rzy-x_d-YA1D"
   },
   "outputs": [],
   "source": [
    "def retorne_soma(a,b):\n",
    "  soma = a + b;\n",
    "  return soma;"
   ]
  },
  {
   "cell_type": "markdown",
   "metadata": {
    "colab_type": "text",
    "id": "zlec9AEoVv4Z"
   },
   "source": [
    "O valor retornado pela função pode agora ser guardado em uma variável por exemplo."
   ]
  },
  {
   "cell_type": "code",
   "execution_count": null,
   "metadata": {
    "colab": {
     "base_uri": "https://localhost:8080/",
     "height": 34
    },
    "colab_type": "code",
    "executionInfo": {
     "elapsed": 875,
     "status": "ok",
     "timestamp": 1590854838151,
     "user": {
      "displayName": "Daniel Santos",
      "photoUrl": "https://lh3.googleusercontent.com/a-/AOh14Gg01stYo4VIDzC67ybdUHn9tLlphUOcpwU-RFx0=s64",
      "userId": "05383206713853786422"
     },
     "user_tz": 180
    },
    "id": "ANcVWE5-cWrY",
    "outputId": "9cabae41-ab36-4e8f-f3d9-6b69c1c559ff"
   },
   "outputs": [],
   "source": [
    "resultado = retorne_soma(15,25);\n",
    "\n",
    "print(resultado);"
   ]
  },
  {
   "cell_type": "markdown",
   "metadata": {
    "colab_type": "text",
    "id": "UtuEEcMLbxx_"
   },
   "source": [
    "Retornar um valor é uma boa prática pois a função agora pode ser utilizada para qualquer propósito, não apenas para exibir algo na tela. \n"
   ]
  },
  {
   "cell_type": "code",
   "execution_count": null,
   "metadata": {
    "colab": {
     "base_uri": "https://localhost:8080/",
     "height": 34
    },
    "colab_type": "code",
    "executionInfo": {
     "elapsed": 940,
     "status": "ok",
     "timestamp": 1590855066594,
     "user": {
      "displayName": "Daniel Santos",
      "photoUrl": "https://lh3.googleusercontent.com/a-/AOh14Gg01stYo4VIDzC67ybdUHn9tLlphUOcpwU-RFx0=s64",
      "userId": "05383206713853786422"
     },
     "user_tz": 180
    },
    "id": "-9GPQQVfWBt9",
    "outputId": "8302038b-20ea-4006-f3f5-39110113b169"
   },
   "outputs": [],
   "source": [
    "resultado_1 = retorne_soma(67,82);\n",
    "\n",
    "resultado_2= retorne_soma(23,92);\n",
    "\n",
    "resultado_final = retorne_soma(resultado_1, resultado_2);\n",
    "\n",
    "print(resultado_final);"
   ]
  },
  {
   "cell_type": "markdown",
   "metadata": {
    "colab_type": "text",
    "id": "6VzUxkh_WmxR"
   },
   "source": [
    "Sempre que possível declare uma função retornando o resultado."
   ]
  },
  {
   "cell_type": "markdown",
   "metadata": {
    "colab_type": "text",
    "id": "pZHGvKnIYQ6J"
   },
   "source": [
    "**Exercício 4.1**: Declare uma função que receba um número como parâmetro e retorne **True** se esse número for par, caso contrário, retorne **False**."
   ]
  },
  {
   "cell_type": "code",
   "execution_count": null,
   "metadata": {
    "colab": {},
    "colab_type": "code",
    "id": "KcOiVNg_YmAt"
   },
   "outputs": [],
   "source": [
    "# construa a funçao\n",
    "\n",
    "# sua_funcao(8) deve retornar True\n",
    "\n",
    "# sua_funcao(11) deve retornar False"
   ]
  },
  {
   "cell_type": "markdown",
   "metadata": {
    "colab_type": "text",
    "id": "UTTQygpDT0wK"
   },
   "source": [
    "### Escopo de uma função"
   ]
  },
  {
   "cell_type": "markdown",
   "metadata": {
    "colab_type": "text",
    "id": "Ukz4i7bxT_Vb"
   },
   "source": [
    "Ao se trabalhar com funções é muito importante perceber que as variáveis definidas no interior de uma declaração está disponível apenas para essa função.\n"
   ]
  },
  {
   "cell_type": "code",
   "execution_count": null,
   "metadata": {
    "colab": {},
    "colab_type": "code",
    "id": "OFX_5_4EX8BI"
   },
   "outputs": [],
   "source": [
    "def multiplicar(a,b):\n",
    "  produto = a * b;\n",
    "  return produto;"
   ]
  },
  {
   "cell_type": "markdown",
   "metadata": {
    "colab_type": "text",
    "id": "FWTR-LGJeRKX"
   },
   "source": [
    "Nao é possível utilizar a variável \"produto\" fora do corpo da função, mesmo que essa função seja executada. Diz-se que a variável possui escopo local"
   ]
  },
  {
   "cell_type": "code",
   "execution_count": null,
   "metadata": {
    "colab": {},
    "colab_type": "code",
    "id": "TWwz-e_zejtn"
   },
   "outputs": [],
   "source": [
    "multiplicar(2,4);\n",
    "# retorna um erro, pois \"produto\" não está definida fora da função\n",
    "print(produto);"
   ]
  },
  {
   "cell_type": "markdown",
   "metadata": {
    "colab_type": "text",
    "id": "EeipHXV-3ZzI"
   },
   "source": [
    "### Funções com múltiplos argumentos"
   ]
  },
  {
   "cell_type": "markdown",
   "metadata": {
    "colab_type": "text",
    "id": "yrIQI7zD3ox4"
   },
   "source": [
    "Quando se constrói uma função, o programador pode declarar quantos argumentos forem necessários para o funcionamento dessa função. Entretanto, em algumas situações, nem mesmo o programador pode definir quantos argumentos a função utilizará. Digamos que queremos construir uma função para somar vários números, não apenas dois, como processeguir? "
   ]
  },
  {
   "cell_type": "markdown",
   "metadata": {
    "colab_type": "text",
    "id": "-whpKayt6MWr"
   },
   "source": [
    "Uma solução é utilizar um lista ou uma tupla como um argumento. Funções podem receber e retornar qualquer objeto, incluindo listas, tuplas, dicionários etc."
   ]
  },
  {
   "cell_type": "code",
   "execution_count": null,
   "metadata": {
    "colab": {},
    "colab_type": "code",
    "id": "GZluSKS_4NHD"
   },
   "outputs": [],
   "source": [
    "def somar_tudo(numeros):\n",
    "  \n",
    "  soma_total = 0;\n",
    "\n",
    "  for numero in numeros:\n",
    "    soma_total += numero;\n",
    "\n",
    "  return soma_total;"
   ]
  },
  {
   "cell_type": "code",
   "execution_count": null,
   "metadata": {
    "colab": {
     "base_uri": "https://localhost:8080/",
     "height": 34
    },
    "colab_type": "code",
    "executionInfo": {
     "elapsed": 878,
     "status": "ok",
     "timestamp": 1590860330773,
     "user": {
      "displayName": "Daniel Santos",
      "photoUrl": "https://lh3.googleusercontent.com/a-/AOh14Gg01stYo4VIDzC67ybdUHn9tLlphUOcpwU-RFx0=s64",
      "userId": "05383206713853786422"
     },
     "user_tz": 180
    },
    "id": "1JYH-D_OqXfx",
    "outputId": "8195c1d3-294c-400a-b12f-52c04d8d43a5"
   },
   "outputs": [],
   "source": [
    "resultado_soma_total = somar_tudo([1,5,10,20]);\n",
    "\n",
    "print(resultado_soma_total);"
   ]
  },
  {
   "cell_type": "markdown",
   "metadata": {
    "colab_type": "text",
    "id": "QZKt0JGI6vYx"
   },
   "source": [
    "Um método \"mais elegante\" de resolver o problema anterior é apenas inserir o símbolo * ao argumento:"
   ]
  },
  {
   "cell_type": "code",
   "execution_count": null,
   "metadata": {
    "colab": {},
    "colab_type": "code",
    "id": "XybjK-xo7BKr"
   },
   "outputs": [],
   "source": [
    "def somar_tudo(*numeros):\n",
    "  \n",
    "  soma_total = 0;\n",
    "\n",
    "  for numero in numeros:\n",
    "    soma_total += numero;\n",
    "\n",
    "  return soma_total;\n"
   ]
  },
  {
   "cell_type": "code",
   "execution_count": null,
   "metadata": {
    "colab": {
     "base_uri": "https://localhost:8080/",
     "height": 34
    },
    "colab_type": "code",
    "executionInfo": {
     "elapsed": 5315,
     "status": "ok",
     "timestamp": 1590860779747,
     "user": {
      "displayName": "Daniel Santos",
      "photoUrl": "https://lh3.googleusercontent.com/a-/AOh14Gg01stYo4VIDzC67ybdUHn9tLlphUOcpwU-RFx0=s64",
      "userId": "05383206713853786422"
     },
     "user_tz": 180
    },
    "id": "MqMOjn8trnS4",
    "outputId": "418588e3-ae24-4cf9-d123-50d9fd7b1864"
   },
   "outputs": [],
   "source": [
    "resultado_soma_total = somar_tudo(1,5,10,20);\n",
    "\n",
    "print(resultado_soma_total);"
   ]
  },
  {
   "cell_type": "markdown",
   "metadata": {
    "colab_type": "text",
    "id": "CskX1w12sWNK"
   },
   "source": [
    "**Exercício 4.2**: Crie uma função que receba vários números e retorne o maior deles."
   ]
  },
  {
   "cell_type": "code",
   "execution_count": null,
   "metadata": {
    "colab": {},
    "colab_type": "code",
    "id": "7GYq8tiyst4o"
   },
   "outputs": [],
   "source": [
    "# sua_funcao(10,20,50) deve retornar 50"
   ]
  },
  {
   "cell_type": "markdown",
   "metadata": {
    "colab_type": "text",
    "id": "GfmansiPs4En"
   },
   "source": [
    "**Exercício 4.3**: Crie uma função que calcule o produto (resultado da multiplicação) de vários números."
   ]
  },
  {
   "cell_type": "code",
   "execution_count": null,
   "metadata": {
    "colab": {},
    "colab_type": "code",
    "id": "VKbmpgcBtLQz"
   },
   "outputs": [],
   "source": [
    "# sua_funcao(3,2,5) deve retornar 30"
   ]
  },
  {
   "cell_type": "markdown",
   "metadata": {
    "colab_type": "text",
    "id": "ARoz0WEctc4M"
   },
   "source": [
    "**Exercício 4.4**: Crie uma função que receba várias palavras como argumentos e retorne uma lista com a quantidade de letras de cada palavra."
   ]
  },
  {
   "cell_type": "code",
   "execution_count": null,
   "metadata": {
    "colab": {},
    "colab_type": "code",
    "id": "p8QxCH65uj4M"
   },
   "outputs": [],
   "source": [
    "# sua_funcao('casa','carro','cachorro') deve retornar [4,5,8]"
   ]
  },
  {
   "cell_type": "markdown",
   "metadata": {
    "colab_type": "text",
    "id": "ywHONx9y79_X"
   },
   "source": [
    "### Funções Lambda"
   ]
  },
  {
   "cell_type": "markdown",
   "metadata": {
    "colab_type": "text",
    "id": "Fqh91SQW8ajv"
   },
   "source": [
    "Funções lambda sao conhecidas como \"funções anônimas\", ou seja, sao funções sem nomes. Essas funções funcionam da mesma forma que \"funções nomeadas\", entretanto, podem ser declaradas de maneira mais compacta e armazenadas em variáveis.\n",
    "\n",
    "\n",
    "\n",
    "```\n",
    "lambda <a,b,c,d> :<expressao de retorno>\n",
    "```\n",
    "\n"
   ]
  },
  {
   "cell_type": "code",
   "execution_count": null,
   "metadata": {
    "colab": {},
    "colab_type": "code",
    "id": "z4Cunn6Rx27C"
   },
   "outputs": [],
   "source": [
    "soma_lambda = lambda a,b:a+b;"
   ]
  },
  {
   "cell_type": "code",
   "execution_count": null,
   "metadata": {
    "colab": {
     "base_uri": "https://localhost:8080/",
     "height": 34
    },
    "colab_type": "code",
    "executionInfo": {
     "elapsed": 2191,
     "status": "ok",
     "timestamp": 1590862414397,
     "user": {
      "displayName": "Daniel Santos",
      "photoUrl": "https://lh3.googleusercontent.com/a-/AOh14Gg01stYo4VIDzC67ybdUHn9tLlphUOcpwU-RFx0=s64",
      "userId": "05383206713853786422"
     },
     "user_tz": 180
    },
    "id": "lbvkHTQDyQuu",
    "outputId": "9759d170-e873-4f7f-d04f-8fd2e9608795"
   },
   "outputs": [],
   "source": [
    "resultado_soma_lambda = soma_lambda(2,2);\n",
    "\n",
    "print(resultado_soma_lambda);"
   ]
  },
  {
   "cell_type": "markdown",
   "metadata": {
    "colab_type": "text",
    "id": "BL7Mt6wVzsy1"
   },
   "source": [
    "Funções lambda são muito utilizadas como parâmetros de outras funções."
   ]
  },
  {
   "cell_type": "code",
   "execution_count": null,
   "metadata": {
    "colab": {},
    "colab_type": "code",
    "id": "a73OHIjN0JEd"
   },
   "outputs": [],
   "source": [
    "def filtre(lista,filtro):\n",
    "\n",
    "  lista_filtrada = [ elemento for elemento in lista if filtro(elemento) ];\n",
    "\n",
    "  return lista_filtrada;"
   ]
  },
  {
   "cell_type": "code",
   "execution_count": null,
   "metadata": {
    "colab": {
     "base_uri": "https://localhost:8080/",
     "height": 34
    },
    "colab_type": "code",
    "executionInfo": {
     "elapsed": 862,
     "status": "ok",
     "timestamp": 1590863348481,
     "user": {
      "displayName": "Daniel Santos",
      "photoUrl": "https://lh3.googleusercontent.com/a-/AOh14Gg01stYo4VIDzC67ybdUHn9tLlphUOcpwU-RFx0=s64",
      "userId": "05383206713853786422"
     },
     "user_tz": 180
    },
    "id": "wsmY-TGR1AFJ",
    "outputId": "12104f2a-b425-439c-b793-af6c2478c455"
   },
   "outputs": [],
   "source": [
    "numeros = [20,40,60,1,5];\n",
    "\n",
    "filtro = lambda numero:numero>10;\n",
    "\n",
    "numeros_filtrados = filtre(numeros,filtro);\n",
    "\n",
    "print(numeros_filtrados);"
   ]
  },
  {
   "cell_type": "markdown",
   "metadata": {
    "colab_type": "text",
    "id": "4PCi1jHd2RHU"
   },
   "source": [
    "**Exercício 4.5**: Abaixo há novamente uma lista com nomes de pessoas, utilize a função \"filtre\" já definida para filtrar aqueles que possuem mais de 5 letras, para isso, construa a função lambda e atribua a variável \"filtro_nomes\"."
   ]
  },
  {
   "cell_type": "code",
   "execution_count": null,
   "metadata": {
    "colab": {
     "base_uri": "https://localhost:8080/",
     "height": 34
    },
    "colab_type": "code",
    "executionInfo": {
     "elapsed": 552,
     "status": "ok",
     "timestamp": 1590865570340,
     "user": {
      "displayName": "Daniel Santos",
      "photoUrl": "https://lh3.googleusercontent.com/a-/AOh14Gg01stYo4VIDzC67ybdUHn9tLlphUOcpwU-RFx0=s64",
      "userId": "05383206713853786422"
     },
     "user_tz": 180
    },
    "id": "i45OfEmP9Yp_",
    "outputId": "523eb58e-413a-4b73-e899-c8dce3cd7c9e"
   },
   "outputs": [],
   "source": [
    "nomes = ['Léo','Pedro','Cassandra','Cristiano','Edilma','Rafa'];\n",
    "\n",
    "# construa uma funçao lambda e atribua a variável abaixo\n",
    "filtro_nomes; \n",
    "\n",
    "nomes_filtrados = filtre(nomes, filtro_nomes);\n",
    "\n",
    "# deve retornar ['Cassandra', 'Cristiano', 'Edilma']\n",
    "print(nomes_filtrados);"
   ]
  },
  {
   "cell_type": "markdown",
   "metadata": {
    "colab_type": "text",
    "id": "j94ejeHddD7V"
   },
   "source": [
    "## Módulos Externos"
   ]
  },
  {
   "cell_type": "markdown",
   "metadata": {
    "colab_type": "text",
    "id": "azXw7bujleZu"
   },
   "source": [
    "Um módulo pode ser entendido como um conjunto de funções já declaradas que podem ser reaproveitadas em muitos projetos. Python oferece aos programadores, além de muitas funções nativas, também vários módulos nativos.\n",
    "\n"
   ]
  },
  {
   "cell_type": "markdown",
   "metadata": {
    "colab_type": "text",
    "id": "bklD7Y5dw6BZ"
   },
   "source": [
    "Um exemplo de módulo é **math**, que contém funções matemáticas. Para utilizar um pacote, primeiro se deve importá-lo ao programa."
   ]
  },
  {
   "cell_type": "code",
   "execution_count": null,
   "metadata": {
    "colab": {},
    "colab_type": "code",
    "id": "gvfrdOGEegk3"
   },
   "outputs": [],
   "source": [
    "# imporar módulo de matemática\n",
    "import math;"
   ]
  },
  {
   "cell_type": "markdown",
   "metadata": {
    "colab_type": "text",
    "id": "cOpLfIS8yIsW"
   },
   "source": [
    "É possível listar todas as funções e também propriedades de um módulo por meio do comando **dir**."
   ]
  },
  {
   "cell_type": "code",
   "execution_count": null,
   "metadata": {
    "colab": {
     "base_uri": "https://localhost:8080/",
     "height": 935
    },
    "colab_type": "code",
    "executionInfo": {
     "elapsed": 9710,
     "status": "ok",
     "timestamp": 1590963048324,
     "user": {
      "displayName": "Daniel Santos",
      "photoUrl": "https://lh3.googleusercontent.com/a-/AOh14Gg01stYo4VIDzC67ybdUHn9tLlphUOcpwU-RFx0=s64",
      "userId": "05383206713853786422"
     },
     "user_tz": 180
    },
    "id": "JDt-s-EfmA-S",
    "outputId": "d804ecfc-6b81-4130-8940-b79f084ae454"
   },
   "outputs": [],
   "source": [
    "dir(math)"
   ]
  },
  {
   "cell_type": "markdown",
   "metadata": {
    "colab_type": "text",
    "id": "4rzr0bQfyf_A"
   },
   "source": [
    "Alguns módulos disponibilizam uma descrição sobre suas funções. Para ter acesso a essa descrição se deve utilizar o comando **help**."
   ]
  },
  {
   "cell_type": "code",
   "execution_count": null,
   "metadata": {
    "colab": {
     "base_uri": "https://localhost:8080/",
     "height": 136
    },
    "colab_type": "code",
    "executionInfo": {
     "elapsed": 36471,
     "status": "ok",
     "timestamp": 1590963412184,
     "user": {
      "displayName": "Daniel Santos",
      "photoUrl": "https://lh3.googleusercontent.com/a-/AOh14Gg01stYo4VIDzC67ybdUHn9tLlphUOcpwU-RFx0=s64",
      "userId": "05383206713853786422"
     },
     "user_tz": 180
    },
    "id": "T9_81Jb9mZGO",
    "outputId": "c60cd6f4-33b6-4e58-a689-10b98136d602"
   },
   "outputs": [],
   "source": [
    "help(math.sqrt);"
   ]
  },
  {
   "cell_type": "code",
   "execution_count": null,
   "metadata": {
    "colab": {
     "base_uri": "https://localhost:8080/",
     "height": 34
    },
    "colab_type": "code",
    "executionInfo": {
     "elapsed": 1730,
     "status": "ok",
     "timestamp": 1590963515392,
     "user": {
      "displayName": "Daniel Santos",
      "photoUrl": "https://lh3.googleusercontent.com/a-/AOh14Gg01stYo4VIDzC67ybdUHn9tLlphUOcpwU-RFx0=s64",
      "userId": "05383206713853786422"
     },
     "user_tz": 180
    },
    "id": "SgKFrzLr0C_u",
    "outputId": "15af07a8-0cfe-408c-b1a3-0c4d9564db7d"
   },
   "outputs": [],
   "source": [
    "raiz_81 = math.sqrt(81);\n",
    "\n",
    "print(raiz_81);"
   ]
  },
  {
   "cell_type": "markdown",
   "metadata": {
    "colab_type": "text",
    "id": "8v39o61gz8Os"
   },
   "source": [
    "É possível importar um módulo e atribuir um \"apelido\" a esse."
   ]
  },
  {
   "cell_type": "code",
   "execution_count": null,
   "metadata": {
    "colab": {},
    "colab_type": "code",
    "id": "3NYq4GWt0UEM"
   },
   "outputs": [],
   "source": [
    "import math as matematica;"
   ]
  },
  {
   "cell_type": "code",
   "execution_count": null,
   "metadata": {
    "colab": {
     "base_uri": "https://localhost:8080/",
     "height": 34
    },
    "colab_type": "code",
    "executionInfo": {
     "elapsed": 1662,
     "status": "ok",
     "timestamp": 1590964536357,
     "user": {
      "displayName": "Daniel Santos",
      "photoUrl": "https://lh3.googleusercontent.com/a-/AOh14Gg01stYo4VIDzC67ybdUHn9tLlphUOcpwU-RFx0=s64",
      "userId": "05383206713853786422"
     },
     "user_tz": 180
    },
    "id": "bYGdoA4L1QDI",
    "outputId": "048f477d-9c8b-4643-f696-562c3a05b6f8"
   },
   "outputs": [],
   "source": [
    "raiz_121 = matematica.sqrt(121);\n",
    "\n",
    "print(raiz_121);"
   ]
  },
  {
   "cell_type": "markdown",
   "metadata": {
    "colab_type": "text",
    "id": "832R6Q5o1sfW"
   },
   "source": [
    "Python possui muitos outros módulos que podem ser utilizados no desenvolvimento de seu programa e ainda conta com um repositório enorme de outros módulos e pacotes mantidos por programadores de todo o mundo denominado de [PyPI](https://pypi.org/). Conhecer essa biblioteca de módulos é muito importante para um programador que utiliza Python."
   ]
  },
  {
   "cell_type": "markdown",
   "metadata": {
    "colab_type": "text",
    "id": "Yww5aN3bMT3V"
   },
   "source": [
    "## Biblioteca Collections"
   ]
  },
  {
   "cell_type": "markdown",
   "metadata": {
    "colab_type": "text",
    "id": "nKGkyuwMN09z"
   },
   "source": [
    "O módulo **Collections** oferece estruturas de dados adicionais além das listas, tuplas, conjuntos e dicionários já estudados."
   ]
  },
  {
   "cell_type": "markdown",
   "metadata": {
    "colab_type": "text",
    "id": "J33jJBWAN4Y1"
   },
   "source": [
    "Nessa seção trataremos da coleção **defaultdict** disponível nesse módulo. Essa estrutura de dados funciona como um dicionário, entretanto, permite tratar valores não definidos adequadamente."
   ]
  },
  {
   "cell_type": "code",
   "execution_count": null,
   "metadata": {
    "colab": {},
    "colab_type": "code",
    "id": "5KsTpo3mNQ78"
   },
   "outputs": [],
   "source": [
    "sinais = {'verde':'prossiga','amarelo':'atençao','vermelho':'pare'};"
   ]
  },
  {
   "cell_type": "markdown",
   "metadata": {
    "colab_type": "text",
    "id": "fol-uQEIQsuP"
   },
   "source": [
    "Caso um valor não definido seja requisitado em dicionário comum, um erro será lançado."
   ]
  },
  {
   "cell_type": "code",
   "execution_count": null,
   "metadata": {
    "colab": {
     "base_uri": "https://localhost:8080/",
     "height": 163
    },
    "colab_type": "code",
    "executionInfo": {
     "elapsed": 977,
     "status": "error",
     "timestamp": 1590971073170,
     "user": {
      "displayName": "Daniel Santos",
      "photoUrl": "https://lh3.googleusercontent.com/a-/AOh14Gg01stYo4VIDzC67ybdUHn9tLlphUOcpwU-RFx0=s64",
      "userId": "05383206713853786422"
     },
     "user_tz": 180
    },
    "id": "RshtDPj8Q25B",
    "outputId": "6fb260cc-b09d-43a3-c37b-baf0da9ba20c"
   },
   "outputs": [],
   "source": [
    "sinais['azul'];"
   ]
  },
  {
   "cell_type": "markdown",
   "metadata": {
    "colab_type": "text",
    "id": "DKzdn46RRDYE"
   },
   "source": [
    "É possível, como se segue, importar uma única função de um módulo."
   ]
  },
  {
   "cell_type": "code",
   "execution_count": null,
   "metadata": {
    "colab": {},
    "colab_type": "code",
    "id": "GjsXw8hsRlqy"
   },
   "outputs": [],
   "source": [
    "from collections import defaultdict;"
   ]
  },
  {
   "cell_type": "markdown",
   "metadata": {
    "colab_type": "text",
    "id": "Bf2715ptS-tW"
   },
   "source": [
    "Um **defaultdict** pode executar uma função caso um valor não definido seja requisitado."
   ]
  },
  {
   "cell_type": "code",
   "execution_count": null,
   "metadata": {
    "colab": {},
    "colab_type": "code",
    "id": "9fVLc5URSLsZ"
   },
   "outputs": [],
   "source": [
    "def sinal_padrao():\n",
    "  return 'valor inválido';\n",
    "\n",
    "sinais_com_padrao = defaultdict(sinal_padrao,{'verde':'prossiga','amarelo':'atençao','vermelho':'pare'});"
   ]
  },
  {
   "cell_type": "code",
   "execution_count": null,
   "metadata": {
    "colab": {
     "base_uri": "https://localhost:8080/",
     "height": 34
    },
    "colab_type": "code",
    "executionInfo": {
     "elapsed": 1484,
     "status": "ok",
     "timestamp": 1590973903000,
     "user": {
      "displayName": "Daniel Santos",
      "photoUrl": "https://lh3.googleusercontent.com/a-/AOh14Gg01stYo4VIDzC67ybdUHn9tLlphUOcpwU-RFx0=s64",
      "userId": "05383206713853786422"
     },
     "user_tz": 180
    },
    "id": "E4xOOCA5Trv7",
    "outputId": "49cef4f8-b675-4120-c0fa-f1663a6c7468"
   },
   "outputs": [],
   "source": [
    "print(sinais_com_padrao['azul']);"
   ]
  },
  {
   "cell_type": "markdown",
   "metadata": {
    "colab_type": "text",
    "id": "Jb74kj3UT--m"
   },
   "source": [
    "**Exercício 4.6**: Crie uma função que recebe um número (1 a 7) como parâmetro e retorne o dia da semana correspondente, por exemplo, se 1 for passado, a função deve retornar 'domingo', se 2, deve retornar 'segunda-feira' e assim sucessivamente. Caso um número menor que 1 ou maior que 7 seja fornecido, a funçao deve retornar 'domingo' por padrão. Utilize um dicionário com valor padrão para resolver esse problema."
   ]
  },
  {
   "cell_type": "code",
   "execution_count": null,
   "metadata": {
    "colab": {},
    "colab_type": "code",
    "id": "ZXG6ne6ocKs_"
   },
   "outputs": [],
   "source": [
    "# sua_funcao(1) deve retornar 'domingo'\n",
    "# sua_funcao(2) deve retornar 'segunda-feira'\n",
    "# sua_funcao(9) deve retornar 'domingo'"
   ]
  }
 ],
 "metadata": {
  "colab": {
   "collapsed_sections": [],
   "name": "Aula_04_Introdução_a_Python_(Linguistica_Computacional).ipynb",
   "provenance": [],
   "toc_visible": true
  },
  "kernelspec": {
   "display_name": "Python 3",
   "language": "python",
   "name": "python3"
  },
  "language_info": {
   "codemirror_mode": {
    "name": "ipython",
    "version": 3
   },
   "file_extension": ".py",
   "mimetype": "text/x-python",
   "name": "python",
   "nbconvert_exporter": "python",
   "pygments_lexer": "ipython3",
   "version": "3.7.4"
  }
 },
 "nbformat": 4,
 "nbformat_minor": 4
}
