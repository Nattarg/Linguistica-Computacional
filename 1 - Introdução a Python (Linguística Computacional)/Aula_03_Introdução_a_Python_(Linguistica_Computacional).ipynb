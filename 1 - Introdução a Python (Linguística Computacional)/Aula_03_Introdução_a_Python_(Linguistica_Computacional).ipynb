{
 "cells": [
  {
   "cell_type": "markdown",
   "metadata": {
    "colab_type": "text",
    "id": "view-in-github"
   },
   "source": [
    "<a href=\"https://colab.research.google.com/github/Nattarg/Linguistica-Computacional/blob/master/1%20-%20Introdu%C3%A7%C3%A3o%20a%20Python%20(Lingu%C3%ADstica%20Computacioal)/Untitled0.ipynb\" target=\"_parent\"><img src=\"https://colab.research.google.com/assets/colab-badge.svg\" alt=\"Open In Colab\"/></a>"
   ]
  },
  {
   "cell_type": "markdown",
   "metadata": {
    "colab_type": "text",
    "id": "Dm0XsXpF-5Ae"
   },
   "source": [
    "# **Introdução a Python - Aula 3**"
   ]
  },
  {
   "cell_type": "markdown",
   "metadata": {
    "colab_type": "text",
    "id": "BNlA_8rqZVAG"
   },
   "source": [
    "![python](https://www.python.org/static/img/python-logo@2x.png)"
   ]
  },
  {
   "cell_type": "markdown",
   "metadata": {
    "colab_type": "text",
    "id": "PgJ9vLuzBRXy"
   },
   "source": [
    "## Revisão do conteúdo da aula anterior"
   ]
  },
  {
   "cell_type": "markdown",
   "metadata": {
    "colab_type": "text",
    "id": "f3d1LLvsEJ7K"
   },
   "source": [
    "### Listas"
   ]
  },
  {
   "cell_type": "markdown",
   "metadata": {
    "colab_type": "text",
    "id": "l_xrsyUQEo9m"
   },
   "source": [
    "Uma estrutura de dados dinâmica e indexada por inteiros.\n"
   ]
  },
  {
   "cell_type": "code",
   "execution_count": 5,
   "metadata": {
    "colab": {
     "base_uri": "https://localhost:8080/",
     "height": 34
    },
    "colab_type": "code",
    "executionInfo": {
     "elapsed": 1149,
     "status": "ok",
     "timestamp": 1590581944136,
     "user": {
      "displayName": "Daniel Santos",
      "photoUrl": "https://lh3.googleusercontent.com/a-/AOh14Gg01stYo4VIDzC67ybdUHn9tLlphUOcpwU-RFx0=s64",
      "userId": "05383206713853786422"
     },
     "user_tz": 180
    },
    "id": "iTV3FEmdEMN2",
    "outputId": "d78f8171-ac61-4b1f-a796-8d93d628a5e8"
   },
   "outputs": [
    {
     "name": "stdout",
     "output_type": "stream",
     "text": [
      "['uva', 'laranja', 'pera', 'banana']\n"
     ]
    }
   ],
   "source": [
    "lista = ['uva','laranja','pera'];\n",
    "\n",
    "lista.append('banana');\n",
    "\n",
    "print(lista);"
   ]
  },
  {
   "cell_type": "markdown",
   "metadata": {
    "colab_type": "text",
    "id": "UN3QstFyE8DU"
   },
   "source": [
    "### Tuplas"
   ]
  },
  {
   "cell_type": "markdown",
   "metadata": {
    "colab_type": "text",
    "id": "6ApR9xW-E_BB"
   },
   "source": [
    "Semelhante a uma lista, mas que não pode ser alterada."
   ]
  },
  {
   "cell_type": "code",
   "execution_count": 6,
   "metadata": {
    "colab": {},
    "colab_type": "code",
    "id": "_g-KUY3dFIpU"
   },
   "outputs": [],
   "source": [
    "estados = ('Rio Grande do Norte','Ceará','Paraíba','Pernambuco');\n",
    "\n",
    "# estados.append('Piauí');"
   ]
  },
  {
   "cell_type": "markdown",
   "metadata": {
    "colab_type": "text",
    "id": "k3VTNuceGLP7"
   },
   "source": [
    "### Conjuntos"
   ]
  },
  {
   "cell_type": "markdown",
   "metadata": {
    "colab_type": "text",
    "id": "upztsC_wGROw"
   },
   "source": [
    "Conjuntos são estruturas de dados não organizada e que não permitem elementos repetidos."
   ]
  },
  {
   "cell_type": "code",
   "execution_count": 7,
   "metadata": {
    "colab": {
     "base_uri": "https://localhost:8080/",
     "height": 34
    },
    "colab_type": "code",
    "executionInfo": {
     "elapsed": 1057,
     "status": "ok",
     "timestamp": 1590582832196,
     "user": {
      "displayName": "Daniel Santos",
      "photoUrl": "https://lh3.googleusercontent.com/a-/AOh14Gg01stYo4VIDzC67ybdUHn9tLlphUOcpwU-RFx0=s64",
      "userId": "05383206713853786422"
     },
     "user_tz": 180
    },
    "id": "yosptaeyG3Il",
    "outputId": "0ffc3f2a-5638-4203-8673-b105e87ddea4"
   },
   "outputs": [
    {
     "name": "stdout",
     "output_type": "stream",
     "text": [
      "{'Professor', 'Engenheiro', 'Médico', 'Advogado'}\n"
     ]
    }
   ],
   "source": [
    "profissoes = {'Professor','Professor','Engenheiro','Médico','Advogado'};\n",
    "\n",
    "print(profissoes);"
   ]
  },
  {
   "cell_type": "markdown",
   "metadata": {
    "colab_type": "text",
    "id": "i8JoYdnSIy8t"
   },
   "source": [
    "### Dicionários"
   ]
  },
  {
   "cell_type": "markdown",
   "metadata": {
    "colab_type": "text",
    "id": "UFKXewX4I1Po"
   },
   "source": [
    "Dicionários permitem indexar elemenos por meio de outros elementos, não apenas por números inteiros com uma lista."
   ]
  },
  {
   "cell_type": "code",
   "execution_count": 8,
   "metadata": {
    "colab": {
     "base_uri": "https://localhost:8080/",
     "height": 34
    },
    "colab_type": "code",
    "executionInfo": {
     "elapsed": 1014,
     "status": "ok",
     "timestamp": 1590583282617,
     "user": {
      "displayName": "Daniel Santos",
      "photoUrl": "https://lh3.googleusercontent.com/a-/AOh14Gg01stYo4VIDzC67ybdUHn9tLlphUOcpwU-RFx0=s64",
      "userId": "05383206713853786422"
     },
     "user_tz": 180
    },
    "id": "vgfRjscLI_50",
    "outputId": "e21451ce-3465-4e6c-b5ee-a1639dd4e41b"
   },
   "outputs": [
    {
     "name": "stdout",
     "output_type": "stream",
     "text": [
      "Roberto\n"
     ]
    }
   ],
   "source": [
    "pessoa = {'nome':'Roberto','profissao':'Pedreiro'};\n",
    "\n",
    "print(pessoa['nome']);"
   ]
  },
  {
   "cell_type": "markdown",
   "metadata": {
    "colab_type": "text",
    "id": "4utPewieJyB0"
   },
   "source": [
    "### Operadores Lógicos"
   ]
  },
  {
   "cell_type": "markdown",
   "metadata": {
    "colab_type": "text",
    "id": "q3pfT982J1cI"
   },
   "source": [
    "Os operadores lógicos são essenciais para implementar condições em um programa."
   ]
  },
  {
   "cell_type": "code",
   "execution_count": 9,
   "metadata": {
    "colab": {
     "base_uri": "https://localhost:8080/",
     "height": 68
    },
    "colab_type": "code",
    "executionInfo": {
     "elapsed": 1592,
     "status": "ok",
     "timestamp": 1590583478106,
     "user": {
      "displayName": "Daniel Santos",
      "photoUrl": "https://lh3.googleusercontent.com/a-/AOh14Gg01stYo4VIDzC67ybdUHn9tLlphUOcpwU-RFx0=s64",
      "userId": "05383206713853786422"
     },
     "user_tz": 180
    },
    "id": "ms76WVELKGTo",
    "outputId": "785ae03e-84ef-4a35-9f0e-ab7711eefc39"
   },
   "outputs": [
    {
     "name": "stdout",
     "output_type": "stream",
     "text": [
      "And: True\n",
      "OR: False\n",
      "NOT: True\n"
     ]
    }
   ],
   "source": [
    "print('And:',True and True);\n",
    "print('OR:',False or False);\n",
    "print('NOT:',not(False));"
   ]
  },
  {
   "cell_type": "markdown",
   "metadata": {
    "colab_type": "text",
    "id": "9urhdVQmKz97"
   },
   "source": [
    "### Comando **if**"
   ]
  },
  {
   "cell_type": "markdown",
   "metadata": {
    "colab_type": "text",
    "id": "UIBqC0OkK7_B"
   },
   "source": [
    "**if** é a estrutura básica para implementar condições a um programa, é um comando comum a praticamente todas as linguagens de programação."
   ]
  },
  {
   "cell_type": "code",
   "execution_count": 11,
   "metadata": {
    "colab": {
     "base_uri": "https://localhost:8080/",
     "height": 34
    },
    "colab_type": "code",
    "executionInfo": {
     "elapsed": 1379,
     "status": "ok",
     "timestamp": 1590583676274,
     "user": {
      "displayName": "Daniel Santos",
      "photoUrl": "https://lh3.googleusercontent.com/a-/AOh14Gg01stYo4VIDzC67ybdUHn9tLlphUOcpwU-RFx0=s64",
      "userId": "05383206713853786422"
     },
     "user_tz": 180
    },
    "id": "OGk5dv16LGYi",
    "outputId": "e59458e1-4391-47f6-e076-394972ba01b6"
   },
   "outputs": [
    {
     "name": "stdout",
     "output_type": "stream",
     "text": [
      "5 é maior que 2\n"
     ]
    }
   ],
   "source": [
    "if(5>2):\n",
    "  print('5 é maior que 2');"
   ]
  },
  {
   "cell_type": "markdown",
   "metadata": {
    "colab_type": "text",
    "id": "IwfCUBLSDKx8"
   },
   "source": [
    "## Loops"
   ]
  },
  {
   "cell_type": "markdown",
   "metadata": {
    "colab_type": "text",
    "id": "DwKovJozL-nx"
   },
   "source": [
    "Frequentemente em programação surge a necessidade de executarmos um código de maneira repetitiva. Python, assim como todas as linguagens de programação, oferece as denominadas estruturas de repetições ou *loops* que permitem executar uma tarefa definida pelo programador mais de uma vez."
   ]
  },
  {
   "cell_type": "markdown",
   "metadata": {
    "colab_type": "text",
    "id": "JVy1C_xrPME_"
   },
   "source": [
    "Há duas estruturas de repetições disponíveis em Python:\n",
    "- Laço **for**\n",
    "- Laço **while**"
   ]
  },
  {
   "cell_type": "markdown",
   "metadata": {
    "colab_type": "text",
    "id": "tsznFGV9PkJo"
   },
   "source": [
    "### Laço **for**"
   ]
  },
  {
   "cell_type": "markdown",
   "metadata": {
    "colab_type": "text",
    "id": "B0RlMJDWQx0Y"
   },
   "source": [
    "O laço **for** é comando comum a praticamente todas as linguagens de programação, entrentanto, em Python, esse comando possui uma sintaxe um pouco diferente:\n",
    "\n",
    "```\n",
    "for <variável> in <iterável>:\n",
    "  <bloco de execuçao>\n",
    "```"
   ]
  },
  {
   "cell_type": "markdown",
   "metadata": {
    "colab_type": "text",
    "id": "Hx9CkQL6S-by"
   },
   "source": [
    "O exemplo abaixo demonstra como um laço **for** funciona, nesse caso o iterável é uma lista contendo nomes de pessoas, o laço executa o comando para imprimir na tela uma saudação para cada uma dessas pessoas."
   ]
  },
  {
   "cell_type": "code",
   "execution_count": 12,
   "metadata": {
    "colab": {
     "base_uri": "https://localhost:8080/",
     "height": 102
    },
    "colab_type": "code",
    "executionInfo": {
     "elapsed": 1543,
     "status": "ok",
     "timestamp": 1590451786909,
     "user": {
      "displayName": "Daniel Santos",
      "photoUrl": "https://lh3.googleusercontent.com/a-/AOh14Gg01stYo4VIDzC67ybdUHn9tLlphUOcpwU-RFx0=s64",
      "userId": "05383206713853786422"
     },
     "user_tz": 180
    },
    "id": "exejolXu-eUB",
    "outputId": "14d31223-5da4-4abe-d3a6-b240d5f8ef24"
   },
   "outputs": [
    {
     "name": "stdout",
     "output_type": "stream",
     "text": [
      "Olá Arthur\n",
      "Olá Rafael\n",
      "Olá Fernanda\n",
      "Olá Camila\n",
      "Olá Pedro\n"
     ]
    }
   ],
   "source": [
    "pessoas = ['Arthur', 'Rafael','Fernanda','Camila','Pedro'];\n",
    "\n",
    "for pessoa in pessoas:\n",
    "  print('Olá',pessoa);"
   ]
  },
  {
   "cell_type": "markdown",
   "metadata": {
    "colab_type": "text",
    "id": "VTRyFYJJFsMQ"
   },
   "source": [
    "Uma **string** também é um objeto iterável, conforme pode ser observado abaixo."
   ]
  },
  {
   "cell_type": "code",
   "execution_count": 13,
   "metadata": {
    "colab": {
     "base_uri": "https://localhost:8080/",
     "height": 459
    },
    "colab_type": "code",
    "executionInfo": {
     "elapsed": 1958,
     "status": "ok",
     "timestamp": 1590498483265,
     "user": {
      "displayName": "Daniel Santos",
      "photoUrl": "https://lh3.googleusercontent.com/a-/AOh14Gg01stYo4VIDzC67ybdUHn9tLlphUOcpwU-RFx0=s64",
      "userId": "05383206713853786422"
     },
     "user_tz": 180
    },
    "id": "zfAIHJnwF6mL",
    "outputId": "58f35a4b-d810-40cb-cb4d-c1530e4f9990"
   },
   "outputs": [
    {
     "name": "stdout",
     "output_type": "stream",
     "text": [
      "a\n",
      "b\n",
      "c\n",
      "d\n",
      "e\n",
      "f\n",
      "g\n",
      "h\n",
      "i\n",
      "j\n",
      "k\n",
      "l\n",
      "m\n",
      "n\n",
      "o\n",
      "p\n",
      "q\n",
      "r\n",
      "s\n",
      "t\n",
      "u\n",
      "v\n",
      "w\n",
      "x\n",
      "y\n",
      "z\n"
     ]
    }
   ],
   "source": [
    "alfabeto = 'abcdefghijklmnopqrstuvwxyz';\n",
    "\n",
    "for letra in alfabeto:\n",
    "  print(letra);"
   ]
  },
  {
   "cell_type": "markdown",
   "metadata": {
    "colab_type": "text",
    "id": "4k_fU_0YXE9L"
   },
   "source": [
    "Já o código a seguir imprime o quadrado de alguns números."
   ]
  },
  {
   "cell_type": "code",
   "execution_count": 14,
   "metadata": {
    "colab": {
     "base_uri": "https://localhost:8080/",
     "height": 119
    },
    "colab_type": "code",
    "executionInfo": {
     "elapsed": 1253,
     "status": "ok",
     "timestamp": 1590452932801,
     "user": {
      "displayName": "Daniel Santos",
      "photoUrl": "https://lh3.googleusercontent.com/a-/AOh14Gg01stYo4VIDzC67ybdUHn9tLlphUOcpwU-RFx0=s64",
      "userId": "05383206713853786422"
     },
     "user_tz": 180
    },
    "id": "Rzy-x_d-YA1D",
    "outputId": "6c49cd7c-cbd7-405c-8f8f-0b28984f8aaf"
   },
   "outputs": [
    {
     "name": "stdout",
     "output_type": "stream",
     "text": [
      "4\n",
      "9\n",
      "25\n",
      "49\n",
      "121\n",
      "169\n"
     ]
    }
   ],
   "source": [
    "numeros_primos = [2,3,5,7,11,13];\n",
    "\n",
    "for num in numeros_primos:\n",
    "  quadrado = num ** 2;\n",
    "  print(quadrado);"
   ]
  },
  {
   "cell_type": "markdown",
   "metadata": {
    "colab_type": "text",
    "id": "UtuEEcMLbxx_"
   },
   "source": [
    "O bloco de código que se repete pode incluir qualquer outra instrução, inclusive estruturas condicionais.\n"
   ]
  },
  {
   "cell_type": "code",
   "execution_count": 15,
   "metadata": {
    "colab": {
     "base_uri": "https://localhost:8080/",
     "height": 68
    },
    "colab_type": "code",
    "executionInfo": {
     "elapsed": 1667,
     "status": "ok",
     "timestamp": 1590454196461,
     "user": {
      "displayName": "Daniel Santos",
      "photoUrl": "https://lh3.googleusercontent.com/a-/AOh14Gg01stYo4VIDzC67ybdUHn9tLlphUOcpwU-RFx0=s64",
      "userId": "05383206713853786422"
     },
     "user_tz": 180
    },
    "id": "ANcVWE5-cWrY",
    "outputId": "a6d0de4a-49c1-4835-af66-572ecb68df39"
   },
   "outputs": [
    {
     "name": "stdout",
     "output_type": "stream",
     "text": [
      "49\n",
      "121\n",
      "169\n"
     ]
    }
   ],
   "source": [
    "for num in numeros_primos:\n",
    "  if num > 6:\n",
    "    quadrado = num ** 2;\n",
    "    print(quadrado);"
   ]
  },
  {
   "cell_type": "markdown",
   "metadata": {
    "colab_type": "text",
    "id": "sBZdqdeNhTzK"
   },
   "source": [
    "Laços podem ser utilizados para acumular valores ou para gerar um resultado que envolva uma série de elementos, o exemplo abaixo realiza a soma de valores numéricos presentes em uma lista."
   ]
  },
  {
   "cell_type": "code",
   "execution_count": 16,
   "metadata": {
    "colab": {
     "base_uri": "https://localhost:8080/",
     "height": 34
    },
    "colab_type": "code",
    "executionInfo": {
     "elapsed": 1428,
     "status": "ok",
     "timestamp": 1590455536434,
     "user": {
      "displayName": "Daniel Santos",
      "photoUrl": "https://lh3.googleusercontent.com/a-/AOh14Gg01stYo4VIDzC67ybdUHn9tLlphUOcpwU-RFx0=s64",
      "userId": "05383206713853786422"
     },
     "user_tz": 180
    },
    "id": "nwnFvyKuhSnM",
    "outputId": "e756a5dc-bcfd-4e12-b9cd-d0d7ecee4cb6"
   },
   "outputs": [
    {
     "name": "stdout",
     "output_type": "stream",
     "text": [
      "soma: 216\n"
     ]
    }
   ],
   "source": [
    "soma_total = 0;\n",
    "\n",
    "numeros_para_somar = [5,30,55,13,92,21];\n",
    "\n",
    "for num in numeros_para_somar:\n",
    "  # ou soma_total += num;\n",
    "  soma_total = soma_total + num;\n",
    "\n",
    "print('soma:',soma_total);"
   ]
  },
  {
   "cell_type": "markdown",
   "metadata": {
    "colab_type": "text",
    "id": "x361l_genK9Y"
   },
   "source": [
    "É possível construir um laço dentro de outro laço:"
   ]
  },
  {
   "cell_type": "code",
   "execution_count": 17,
   "metadata": {
    "colab": {
     "base_uri": "https://localhost:8080/",
     "height": 153
    },
    "colab_type": "code",
    "executionInfo": {
     "elapsed": 1011,
     "status": "ok",
     "timestamp": 1590457479189,
     "user": {
      "displayName": "Daniel Santos",
      "photoUrl": "https://lh3.googleusercontent.com/a-/AOh14Gg01stYo4VIDzC67ybdUHn9tLlphUOcpwU-RFx0=s64",
      "userId": "05383206713853786422"
     },
     "user_tz": 180
    },
    "id": "MQpCPfWTngKY",
    "outputId": "aa2cf8e6-62c3-4681-93d3-1518d6e890b3"
   },
   "outputs": [
    {
     "name": "stdout",
     "output_type": "stream",
     "text": [
      "MANGA\n",
      "BANANA\n",
      "MORANGO\n",
      "UVA\n",
      "LARANJA\n",
      "MELANCIA\n",
      "CAJÚ\n",
      "MAÇÃ\n"
     ]
    }
   ],
   "source": [
    "frutas = [\n",
    "          ['manga','banana','morango'],\n",
    "          ['uva','laranja','melancia'],\n",
    "          ['cajú','maçã']\n",
    "];\n",
    "\n",
    "for lista in frutas:\n",
    "  for fruta in lista:\n",
    "    nome_maiusc = fruta.upper();\n",
    "    print(nome_maiusc);"
   ]
  },
  {
   "cell_type": "markdown",
   "metadata": {
    "colab_type": "text",
    "id": "04kl3ZMUfyVx"
   },
   "source": [
    "**Exercício 3.1:** Crie um laço de repetição **for** para contar a quantidade de  números pares presentes na lista \"numeros\". Lembre-se que os números pares são aqueles que quando divididos por 2 tem resto 0."
   ]
  },
  {
   "cell_type": "code",
   "execution_count": 18,
   "metadata": {
    "colab": {
     "base_uri": "https://localhost:8080/",
     "height": 34
    },
    "colab_type": "code",
    "executionInfo": {
     "elapsed": 1342,
     "status": "ok",
     "timestamp": 1590456555181,
     "user": {
      "displayName": "Daniel Santos",
      "photoUrl": "https://lh3.googleusercontent.com/a-/AOh14Gg01stYo4VIDzC67ybdUHn9tLlphUOcpwU-RFx0=s64",
      "userId": "05383206713853786422"
     },
     "user_tz": 180
    },
    "id": "ijfteqXie4y9",
    "outputId": "97e562b5-1700-407b-cb52-460a848a278a"
   },
   "outputs": [
    {
     "name": "stdout",
     "output_type": "stream",
     "text": [
      "0\n"
     ]
    }
   ],
   "source": [
    "# variável que deve contar quantidade de números pares\n",
    "quantidade_de_pares = 0;\n",
    "\n",
    "numeros = [ 2, 5, 10, 21, 9, 8, 7, 4 ];\n",
    "\n",
    "#  ----------- crie o laço aqui -----------\n",
    "\n",
    "\n",
    "\n",
    "\n",
    "# -----------------------------------------\n",
    "\n",
    "# deve exibir o valor 4\n",
    "print(quantidade_de_pares);"
   ]
  },
  {
   "cell_type": "markdown",
   "metadata": {
    "colab_type": "text",
    "id": "-ZckWy-VryUp"
   },
   "source": [
    "**Exercício 3.2:** No último exemplo, foi declarada uma lista de lista de frutas, construa novamente dois laços que exibam apenas os nomes das frutas que começam com a letra 'M', se recorde das funções para **strings** apresentadas em aulas anteriores."
   ]
  },
  {
   "cell_type": "code",
   "execution_count": 19,
   "metadata": {
    "colab": {},
    "colab_type": "code",
    "id": "oKxSHeGcspmn"
   },
   "outputs": [],
   "source": [
    "frutas = [\n",
    "          ['manga','banana','morango'],\n",
    "          ['uva','laranja','melancia'],\n",
    "          ['cajú','maçã']\n",
    "];\n",
    "\n",
    "#  ----------- crie os laços aqui -----------\n",
    "\n",
    "\n",
    "\n",
    "\n",
    "\n",
    "# --------------------------------------------\n",
    "\n",
    "# Deve exibir: MANGA MORANGO MELANCIA MAÇÃ"
   ]
  },
  {
   "cell_type": "markdown",
   "metadata": {
    "colab_type": "text",
    "id": "c9e9nPEiG8J8"
   },
   "source": [
    "### A função **range**"
   ]
  },
  {
   "cell_type": "markdown",
   "metadata": {
    "colab_type": "text",
    "id": "mAvnfpglI1au"
   },
   "source": [
    "A função **range** é muito útil para gerar um objeto iterável (uma sequência numérica) e, portanto, é bastante utilizada junto com o laço **for**. Sua declaração é bastante simples:\n",
    "```\n",
    "range(começo,fim,passo);\n",
    "```\n",
    "\n"
   ]
  },
  {
   "cell_type": "code",
   "execution_count": 21,
   "metadata": {
    "colab": {
     "base_uri": "https://localhost:8080/",
     "height": 102
    },
    "colab_type": "code",
    "executionInfo": {
     "elapsed": 903,
     "status": "ok",
     "timestamp": 1590499637986,
     "user": {
      "displayName": "Daniel Santos",
      "photoUrl": "https://lh3.googleusercontent.com/a-/AOh14Gg01stYo4VIDzC67ybdUHn9tLlphUOcpwU-RFx0=s64",
      "userId": "05383206713853786422"
     },
     "user_tz": 180
    },
    "id": "1olzFQT3G7X5",
    "outputId": "5df6c9e4-691f-4c20-82e8-37ff60f9bd25"
   },
   "outputs": [
    {
     "name": "stdout",
     "output_type": "stream",
     "text": [
      "0\n",
      "1\n",
      "2\n",
      "3\n",
      "4\n"
     ]
    }
   ],
   "source": [
    "for valor in range(0,5,1):\n",
    "  print(valor);"
   ]
  },
  {
   "cell_type": "markdown",
   "metadata": {
    "colab_type": "text",
    "id": "7fb4ocmPKotk"
   },
   "source": [
    "Por padrão, o range assume que o início da sequencia é 0 e passo 1 (se o final for um valor maior que 0), dessa forma, é possível declarar essa função fornecendo somente o fim da sequência."
   ]
  },
  {
   "cell_type": "code",
   "execution_count": 24,
   "metadata": {
    "colab": {
     "base_uri": "https://localhost:8080/",
     "height": 102
    },
    "colab_type": "code",
    "executionInfo": {
     "elapsed": 914,
     "status": "ok",
     "timestamp": 1590499725577,
     "user": {
      "displayName": "Daniel Santos",
      "photoUrl": "https://lh3.googleusercontent.com/a-/AOh14Gg01stYo4VIDzC67ybdUHn9tLlphUOcpwU-RFx0=s64",
      "userId": "05383206713853786422"
     },
     "user_tz": 180
    },
    "id": "RQKoupAgK47i",
    "outputId": "b34e10ec-56c6-420a-d37c-a0af177abba7"
   },
   "outputs": [
    {
     "name": "stdout",
     "output_type": "stream",
     "text": [
      "0\n",
      "1\n",
      "2\n",
      "3\n",
      "4\n"
     ]
    }
   ],
   "source": [
    "for valor in range(5):\n",
    "  print(valor);"
   ]
  },
  {
   "cell_type": "markdown",
   "metadata": {
    "colab_type": "text",
    "id": "DZ2ur_pLLBZ8"
   },
   "source": [
    "O passo é um valor interessante para gerar uma sequência com apenas valores que nos interessam."
   ]
  },
  {
   "cell_type": "code",
   "execution_count": 25,
   "metadata": {
    "colab": {
     "base_uri": "https://localhost:8080/",
     "height": 187
    },
    "colab_type": "code",
    "executionInfo": {
     "elapsed": 964,
     "status": "ok",
     "timestamp": 1590499881732,
     "user": {
      "displayName": "Daniel Santos",
      "photoUrl": "https://lh3.googleusercontent.com/a-/AOh14Gg01stYo4VIDzC67ybdUHn9tLlphUOcpwU-RFx0=s64",
      "userId": "05383206713853786422"
     },
     "user_tz": 180
    },
    "id": "CcjAUQs8LZct",
    "outputId": "4feafe4f-a103-4059-efe8-b3aa03620d14"
   },
   "outputs": [
    {
     "name": "stdout",
     "output_type": "stream",
     "text": [
      "0\n",
      "2\n",
      "4\n",
      "6\n",
      "8\n",
      "10\n",
      "12\n",
      "14\n",
      "16\n",
      "18\n"
     ]
    }
   ],
   "source": [
    "for valor in range(0,20,2):\n",
    "  print(valor);"
   ]
  },
  {
   "cell_type": "markdown",
   "metadata": {
    "colab_type": "text",
    "id": "DnfjYCNOLXsB"
   },
   "source": [
    "É possível gerar uma sequência decrescente, informando um valor final para a sequência menor do que o valor inicial e o passo como um valor negativo."
   ]
  },
  {
   "cell_type": "code",
   "execution_count": 26,
   "metadata": {
    "colab": {
     "base_uri": "https://localhost:8080/",
     "height": 187
    },
    "colab_type": "code",
    "executionInfo": {
     "elapsed": 818,
     "status": "ok",
     "timestamp": 1590500187455,
     "user": {
      "displayName": "Daniel Santos",
      "photoUrl": "https://lh3.googleusercontent.com/a-/AOh14Gg01stYo4VIDzC67ybdUHn9tLlphUOcpwU-RFx0=s64",
      "userId": "05383206713853786422"
     },
     "user_tz": 180
    },
    "id": "ZQzhZEwBMQuK",
    "outputId": "c956c772-71c4-4891-bcd0-c6adc15a34c6"
   },
   "outputs": [
    {
     "name": "stdout",
     "output_type": "stream",
     "text": [
      "15\n",
      "14\n",
      "13\n",
      "12\n",
      "11\n",
      "10\n",
      "9\n",
      "8\n",
      "7\n",
      "6\n"
     ]
    }
   ],
   "source": [
    "for valor in range(15, 5,-1):\n",
    "  print(valor);"
   ]
  },
  {
   "cell_type": "markdown",
   "metadata": {
    "colab_type": "text",
    "id": "PdAPyLtYM2xF"
   },
   "source": [
    "O **range** pode ser utilizado para percorrer os valores de uma lista, essa abordagem, apesar de mais comum em algumas linguagens, não é recomendada em Python."
   ]
  },
  {
   "cell_type": "code",
   "execution_count": 27,
   "metadata": {
    "colab": {
     "base_uri": "https://localhost:8080/",
     "height": 102
    },
    "colab_type": "code",
    "executionInfo": {
     "elapsed": 803,
     "status": "ok",
     "timestamp": 1590500409760,
     "user": {
      "displayName": "Daniel Santos",
      "photoUrl": "https://lh3.googleusercontent.com/a-/AOh14Gg01stYo4VIDzC67ybdUHn9tLlphUOcpwU-RFx0=s64",
      "userId": "05383206713853786422"
     },
     "user_tz": 180
    },
    "id": "55KNq0aeNLUB",
    "outputId": "b64f36a1-10ca-4154-9469-c28419286cee"
   },
   "outputs": [
    {
     "name": "stdout",
     "output_type": "stream",
     "text": [
      "matemática\n",
      "física\n",
      "português\n",
      "geografia\n",
      "história\n"
     ]
    }
   ],
   "source": [
    "disciplinas = ['matemática','física','português','geografia','história'];\n",
    "\n",
    "for i in range(5):\n",
    "  print(disciplinas[i]);"
   ]
  },
  {
   "cell_type": "markdown",
   "metadata": {
    "colab_type": "text",
    "id": "ftb1UpimNxrE"
   },
   "source": [
    "O **range** e mais interessante quando se deseja repetir um código que não dependa de um lista, tupla ou outra coleção. O exemplo abaixo mostra como calcular o valor de $2^{10}$."
   ]
  },
  {
   "cell_type": "code",
   "execution_count": 28,
   "metadata": {
    "colab": {
     "base_uri": "https://localhost:8080/",
     "height": 34
    },
    "colab_type": "code",
    "executionInfo": {
     "elapsed": 755,
     "status": "ok",
     "timestamp": 1590500929953,
     "user": {
      "displayName": "Daniel Santos",
      "photoUrl": "https://lh3.googleusercontent.com/a-/AOh14Gg01stYo4VIDzC67ybdUHn9tLlphUOcpwU-RFx0=s64",
      "userId": "05383206713853786422"
     },
     "user_tz": 180
    },
    "id": "4Ww6LxneNwcp",
    "outputId": "6779dd8b-db33-4dcf-8c2d-f6339170c2bb"
   },
   "outputs": [
    {
     "name": "stdout",
     "output_type": "stream",
     "text": [
      "1024\n"
     ]
    }
   ],
   "source": [
    "base = 2;\n",
    "\n",
    "expoente = 10;\n",
    "\n",
    "resultado = 1\n",
    "\n",
    "for i in range(expoente):\n",
    "  resultado = resultado * base;\n",
    "\n",
    "print(resultado);"
   ]
  },
  {
   "cell_type": "markdown",
   "metadata": {
    "colab_type": "text",
    "id": "b-cHn4biQYzN"
   },
   "source": [
    "**Exercício 3.3:** Utilize o laço **for** e a função **range** para calcular a soma de todos os números entre 1 e 100, incluindo o valor 100."
   ]
  },
  {
   "cell_type": "code",
   "execution_count": 29,
   "metadata": {
    "colab": {
     "base_uri": "https://localhost:8080/",
     "height": 34
    },
    "colab_type": "code",
    "executionInfo": {
     "elapsed": 2038,
     "status": "ok",
     "timestamp": 1590501682834,
     "user": {
      "displayName": "Daniel Santos",
      "photoUrl": "https://lh3.googleusercontent.com/a-/AOh14Gg01stYo4VIDzC67ybdUHn9tLlphUOcpwU-RFx0=s64",
      "userId": "05383206713853786422"
     },
     "user_tz": 180
    },
    "id": "oJvqEueBR4Te",
    "outputId": "e0f10414-cf2a-491d-973c-5dce478213d3"
   },
   "outputs": [
    {
     "name": "stdout",
     "output_type": "stream",
     "text": [
      "0\n"
     ]
    }
   ],
   "source": [
    "soma = 0;\n",
    "\n",
    "#  ----------- crie o laço aqui -----------\n",
    "\n",
    "\n",
    "\n",
    "# -----------------------------------------\n",
    "\n",
    "# deve exibir 5050\n",
    "print(soma);"
   ]
  },
  {
   "cell_type": "markdown",
   "metadata": {
    "colab_type": "text",
    "id": "UTTQygpDT0wK"
   },
   "source": [
    "### Laço **while**"
   ]
  },
  {
   "cell_type": "markdown",
   "metadata": {
    "colab_type": "text",
    "id": "Ukz4i7bxT_Vb"
   },
   "source": [
    "O segundo laço que será apresentado é o **while**, um comando tambémm presente em praticamente todas as linguagens de programação. O while é um laço que executa um bloco de código enquanto uma condição específica for verdadeira, sua sintaxe é a seguinte:\n",
    "\n",
    "\n",
    "\n",
    "```\n",
    "while (<condiçao verdadeira>):\n",
    "  <bloco de instruçoes>\n",
    "```\n",
    "\n"
   ]
  },
  {
   "cell_type": "markdown",
   "metadata": {
    "colab_type": "text",
    "id": "rb49m_l8Uk-a"
   },
   "source": [
    "O clássico exemplo a seguir demonstra como realizar uma contagem até 10."
   ]
  },
  {
   "cell_type": "code",
   "execution_count": 30,
   "metadata": {
    "colab": {
     "base_uri": "https://localhost:8080/",
     "height": 187
    },
    "colab_type": "code",
    "executionInfo": {
     "elapsed": 860,
     "status": "ok",
     "timestamp": 1590503215837,
     "user": {
      "displayName": "Daniel Santos",
      "photoUrl": "https://lh3.googleusercontent.com/a-/AOh14Gg01stYo4VIDzC67ybdUHn9tLlphUOcpwU-RFx0=s64",
      "userId": "05383206713853786422"
     },
     "user_tz": 180
    },
    "id": "OFX_5_4EX8BI",
    "outputId": "b9ef5dde-9780-4897-9801-f36c4ca513b5"
   },
   "outputs": [
    {
     "name": "stdout",
     "output_type": "stream",
     "text": [
      "1\n",
      "2\n",
      "3\n",
      "4\n",
      "5\n",
      "6\n",
      "7\n",
      "8\n",
      "9\n",
      "10\n"
     ]
    }
   ],
   "source": [
    "contador = 1;\n",
    "\n",
    "while(contador <= 10):\n",
    "  print(contador);\n",
    "  contador += 1;"
   ]
  },
  {
   "cell_type": "markdown",
   "metadata": {
    "colab_type": "text",
    "id": "t255YHF4YVup"
   },
   "source": [
    "Se deve ter muito cuidado com o **while**, ao utilizar esse comando, o progamador dever garantir que em algum momento a condição de repetição deve se tornar falsa, caso contrário, o laço nunca será interrompido causando um problema chamado de *loop infinito*."
   ]
  },
  {
   "cell_type": "code",
   "execution_count": null,
   "metadata": {
    "colab": {},
    "colab_type": "code",
    "id": "fIhhd_DOY5MS"
   },
   "outputs": [],
   "source": [
    "contador = 1;\n",
    "\n",
    "# cuidado!\n",
    "while (contador <=10):\n",
    "  print(contador);"
   ]
  },
  {
   "cell_type": "markdown",
   "metadata": {
    "colab_type": "text",
    "id": "xGPjxBXUZhxe"
   },
   "source": [
    "O laço **while** é muito útil em situações nas quais o programador não pode definir quantas vezes um bloco de comandos deve ser executado."
   ]
  },
  {
   "cell_type": "code",
   "execution_count": 32,
   "metadata": {
    "colab": {},
    "colab_type": "code",
    "id": "PqG-iduwaLDs"
   },
   "outputs": [
    {
     "name": "stdout",
     "output_type": "stream",
     "text": [
      "loop executado\n"
     ]
    },
    {
     "name": "stdin",
     "output_type": "stream",
     "text": [
      "deseja executar o loop novamente? (s/n):\n",
      " s\n"
     ]
    },
    {
     "name": "stdout",
     "output_type": "stream",
     "text": [
      "loop executado\n"
     ]
    },
    {
     "name": "stdin",
     "output_type": "stream",
     "text": [
      "deseja executar o loop novamente? (s/n):\n",
      " s\n"
     ]
    },
    {
     "name": "stdout",
     "output_type": "stream",
     "text": [
      "loop executado\n"
     ]
    },
    {
     "name": "stdin",
     "output_type": "stream",
     "text": [
      "deseja executar o loop novamente? (s/n):\n",
      " n\n"
     ]
    },
    {
     "name": "stdout",
     "output_type": "stream",
     "text": [
      "loop finalizado!\n"
     ]
    }
   ],
   "source": [
    "resposta = 's';\n",
    "\n",
    "while(resposta != 'n'):\n",
    "  print('loop executado');\n",
    "  resposta = input('deseja executar o loop novamente? (s/n):\\n');\n",
    "\n",
    "print('loop finalizado!');"
   ]
  },
  {
   "cell_type": "markdown",
   "metadata": {
    "colab_type": "text",
    "id": "8DZDXysSaBBJ"
   },
   "source": [
    "O exemplo a seguir demonstra como somar quantos números o usuário desejar."
   ]
  },
  {
   "cell_type": "code",
   "execution_count": 33,
   "metadata": {
    "colab": {
     "base_uri": "https://localhost:8080/",
     "height": 102
    },
    "colab_type": "code",
    "executionInfo": {
     "elapsed": 5098,
     "status": "ok",
     "timestamp": 1590528830158,
     "user": {
      "displayName": "Daniel Santos",
      "photoUrl": "https://lh3.googleusercontent.com/a-/AOh14Gg01stYo4VIDzC67ybdUHn9tLlphUOcpwU-RFx0=s64",
      "userId": "05383206713853786422"
     },
     "user_tz": 180
    },
    "id": "_Dh0REN7bpA3",
    "outputId": "a522c68c-9c23-431c-d341-9246cb57270a"
   },
   "outputs": [
    {
     "name": "stdin",
     "output_type": "stream",
     "text": [
      "digite o número para acrescentar na soma:\n",
      " 2\n",
      "deseja somar outro número? (s/n):\n",
      " n\n"
     ]
    },
    {
     "name": "stdout",
     "output_type": "stream",
     "text": [
      "soma total: 2\n"
     ]
    }
   ],
   "source": [
    "soma = 0;\n",
    "\n",
    "resposta = 's'\n",
    "\n",
    "while(resposta=='s'):\n",
    "  numero_digitado = input('digite o número para acrescentar na soma:\\n');\n",
    "  numero = int(numero_digitado);\n",
    "  soma += numero;\n",
    "  resposta = input('deseja somar outro número? (s/n):\\n');\n",
    "\n",
    "print('soma total:',soma);"
   ]
  },
  {
   "cell_type": "markdown",
   "metadata": {
    "colab_type": "text",
    "id": "EeipHXV-3ZzI"
   },
   "source": [
    "### **pass**, **continue** e **break**"
   ]
  },
  {
   "cell_type": "markdown",
   "metadata": {
    "colab_type": "text",
    "id": "yrIQI7zD3ox4"
   },
   "source": [
    "**pass**, **continue** e **break** são comandos bastantes úteis quando se utiliza laços, esses permitem manipular as iterações dentro do bloco de comandos que se repete."
   ]
  },
  {
   "cell_type": "markdown",
   "metadata": {
    "colab_type": "text",
    "id": "-whpKayt6MWr"
   },
   "source": [
    "o comando **pass** pode ser compreendido como uma instrução que diz ao Python para nao fazer \"nada\"."
   ]
  },
  {
   "cell_type": "code",
   "execution_count": 34,
   "metadata": {
    "colab": {
     "base_uri": "https://localhost:8080/",
     "height": 102
    },
    "colab_type": "code",
    "executionInfo": {
     "elapsed": 708,
     "status": "ok",
     "timestamp": 1590529164194,
     "user": {
      "displayName": "Daniel Santos",
      "photoUrl": "https://lh3.googleusercontent.com/a-/AOh14Gg01stYo4VIDzC67ybdUHn9tLlphUOcpwU-RFx0=s64",
      "userId": "05383206713853786422"
     },
     "user_tz": 180
    },
    "id": "GZluSKS_4NHD",
    "outputId": "dd8655a4-3c2d-41cc-cece-4c037eac8ed1"
   },
   "outputs": [
    {
     "name": "stdout",
     "output_type": "stream",
     "text": [
      "1\n",
      "2\n",
      "3\n",
      "4\n",
      "5\n"
     ]
    }
   ],
   "source": [
    "contador = 1;\n",
    "\n",
    "while (contador <= 10):\n",
    "  \n",
    "  if(contador > 5):\n",
    "    pass;\n",
    "\n",
    "  else: \n",
    "    print(contador);\n",
    "  \n",
    "  contador+=1;"
   ]
  },
  {
   "cell_type": "markdown",
   "metadata": {
    "colab_type": "text",
    "id": "QZKt0JGI6vYx"
   },
   "source": [
    "o comando **continue** diz ao interpretador do Python para \"saltar\" uma iteração."
   ]
  },
  {
   "cell_type": "code",
   "execution_count": 35,
   "metadata": {
    "colab": {
     "base_uri": "https://localhost:8080/",
     "height": 102
    },
    "colab_type": "code",
    "executionInfo": {
     "elapsed": 1420,
     "status": "ok",
     "timestamp": 1590529250883,
     "user": {
      "displayName": "Daniel Santos",
      "photoUrl": "https://lh3.googleusercontent.com/a-/AOh14Gg01stYo4VIDzC67ybdUHn9tLlphUOcpwU-RFx0=s64",
      "userId": "05383206713853786422"
     },
     "user_tz": 180
    },
    "id": "XybjK-xo7BKr",
    "outputId": "7e326b6a-f308-45a2-ac02-67e5f9135f74"
   },
   "outputs": [
    {
     "name": "stdout",
     "output_type": "stream",
     "text": [
      "1\n",
      "2\n",
      "3\n",
      "4\n",
      "5\n"
     ]
    }
   ],
   "source": [
    "contador = 1;\n",
    "\n",
    "while (contador <= 10):\n",
    "  \n",
    "  if(contador > 5):\n",
    "    contador+=1;\n",
    "    continue;\n",
    "\n",
    "  print(contador);\n",
    "  \n",
    "  contador+=1;"
   ]
  },
  {
   "cell_type": "markdown",
   "metadata": {
    "colab_type": "text",
    "id": "AeHMBlKq7v4W"
   },
   "source": [
    "O comando **break** interrompe todas as iterações do laço."
   ]
  },
  {
   "cell_type": "code",
   "execution_count": 36,
   "metadata": {
    "colab": {
     "base_uri": "https://localhost:8080/",
     "height": 102
    },
    "colab_type": "code",
    "executionInfo": {
     "elapsed": 961,
     "status": "ok",
     "timestamp": 1590529426300,
     "user": {
      "displayName": "Daniel Santos",
      "photoUrl": "https://lh3.googleusercontent.com/a-/AOh14Gg01stYo4VIDzC67ybdUHn9tLlphUOcpwU-RFx0=s64",
      "userId": "05383206713853786422"
     },
     "user_tz": 180
    },
    "id": "GGx3fQi18Jh8",
    "outputId": "1f5b8f79-2894-451b-b26e-4cc86d5b8f82"
   },
   "outputs": [
    {
     "name": "stdout",
     "output_type": "stream",
     "text": [
      "1\n",
      "2\n",
      "3\n",
      "4\n",
      "5\n"
     ]
    }
   ],
   "source": [
    "contador = 1;\n",
    "\n",
    "while (contador <= 10):\n",
    "  \n",
    "  if(contador > 5):\n",
    "    break;\n",
    "\n",
    "  print(contador);\n",
    "  \n",
    "  contador+=1;"
   ]
  },
  {
   "cell_type": "markdown",
   "metadata": {
    "colab_type": "text",
    "id": "ywHONx9y79_X"
   },
   "source": [
    "## Filtragem"
   ]
  },
  {
   "cell_type": "markdown",
   "metadata": {
    "colab_type": "text",
    "id": "Fqh91SQW8ajv"
   },
   "source": [
    "Ao se trabalhar com dados com alguma linguagem de programação, uma das atividades mais frequentes é realizar uma filtragem, isto é, criar subconjuntos de interesse maior a partir de um conjunto de dados original. Loops, já estudados, são essenciais para realizar essa operação."
   ]
  },
  {
   "cell_type": "code",
   "execution_count": 37,
   "metadata": {
    "colab": {
     "base_uri": "https://localhost:8080/",
     "height": 34
    },
    "colab_type": "code",
    "executionInfo": {
     "elapsed": 1581,
     "status": "ok",
     "timestamp": 1590531690096,
     "user": {
      "displayName": "Daniel Santos",
      "photoUrl": "https://lh3.googleusercontent.com/a-/AOh14Gg01stYo4VIDzC67ybdUHn9tLlphUOcpwU-RFx0=s64",
      "userId": "05383206713853786422"
     },
     "user_tz": 180
    },
    "id": "iVgFprvTCiQ8",
    "outputId": "175a7aa8-36ac-4a06-e240-e66ab8f79cfa"
   },
   "outputs": [
    {
     "name": "stdout",
     "output_type": "stream",
     "text": [
      "['Brasil', 'Bolívia']\n"
     ]
    }
   ],
   "source": [
    "paises = ['Brasil','EUA','França','Portugal','Bolívia','Canadá','China','Japão'];\n",
    "\n",
    "paises_inicia_com_b = [];\n",
    "\n",
    "for pais in paises:\n",
    "  if(pais.startswith('B')):\n",
    "    paises_inicia_com_b.append(pais);\n",
    "\n",
    "print(paises_inicia_com_b);"
   ]
  },
  {
   "cell_type": "markdown",
   "metadata": {
    "colab_type": "text",
    "id": "ucyUkR5XFD3H"
   },
   "source": [
    "Python possui uma sintaxe muito interessante para gerar listas a partir de loops e que permite realizar filtragens de dados de maneira muito compacta:\n",
    "\n",
    "```\n",
    "\n",
    "[  <comando> for <item> in iteravel if <condiçao>]\n",
    "\n",
    "```\n",
    "\n"
   ]
  },
  {
   "cell_type": "code",
   "execution_count": 38,
   "metadata": {
    "colab": {
     "base_uri": "https://localhost:8080/",
     "height": 51
    },
    "colab_type": "code",
    "executionInfo": {
     "elapsed": 874,
     "status": "ok",
     "timestamp": 1590532181311,
     "user": {
      "displayName": "Daniel Santos",
      "photoUrl": "https://lh3.googleusercontent.com/a-/AOh14Gg01stYo4VIDzC67ybdUHn9tLlphUOcpwU-RFx0=s64",
      "userId": "05383206713853786422"
     },
     "user_tz": 180
    },
    "id": "L8nC6K88F5-5",
    "outputId": "8e90ecff-2df1-4c0c-cb95-12e35830c7e6"
   },
   "outputs": [
    {
     "name": "stdout",
     "output_type": "stream",
     "text": [
      "['Brasil', 'Bolívia']\n",
      "['BRASIL', 'BOLÍVIA']\n"
     ]
    }
   ],
   "source": [
    "paises = ['Brasil','EUA','França','Portugal','Bolívia','Canadá','China','Japão'];\n",
    "\n",
    "paises_inicia_com_b = [ pais for pais in paises if pais.startswith('B') ];\n",
    "\n",
    "paises_inicia_com_b_maiusc = [ pais.upper() for pais in paises if pais.startswith('B') ];\n",
    "\n",
    "print(paises_inicia_com_b);\n",
    "\n",
    "print(paises_inicia_com_b_maiusc);"
   ]
  },
  {
   "cell_type": "code",
   "execution_count": 39,
   "metadata": {
    "colab": {
     "base_uri": "https://localhost:8080/",
     "height": 34
    },
    "colab_type": "code",
    "executionInfo": {
     "elapsed": 1170,
     "status": "ok",
     "timestamp": 1590578929206,
     "user": {
      "displayName": "Daniel Santos",
      "photoUrl": "https://lh3.googleusercontent.com/a-/AOh14Gg01stYo4VIDzC67ybdUHn9tLlphUOcpwU-RFx0=s64",
      "userId": "05383206713853786422"
     },
     "user_tz": 180
    },
    "id": "tYNspHqLG0kL",
    "outputId": "7b07557e-7d88-4cdf-8cea-f5829b0cc943"
   },
   "outputs": [
    {
     "name": "stdout",
     "output_type": "stream",
     "text": [
      "['Paulo', 'Lucas', 'Roberta']\n"
     ]
    }
   ],
   "source": [
    "alunos = [ \n",
    "          { 'nome':'Paulo', 'nota': 8 },\n",
    "          { 'nome':'Lucas', 'nota': 10 },\n",
    "          { 'nome':'José', 'nota':6 },\n",
    "          { 'nome':'Lorena', 'nota':5 },\n",
    "          { 'nome':'Carlos', 'nota':4 },\n",
    "          { 'nome':'Roberta', 'nota':9.5 }\n",
    "];\n",
    "\n",
    "nomes_aprovados = [aluno['nome'] for aluno in alunos if aluno['nota'] >= 7];\n",
    "\n",
    "print(nomes_aprovados);"
   ]
  },
  {
   "cell_type": "markdown",
   "metadata": {
    "colab_type": "text",
    "id": "fAFWgUk-5Lja"
   },
   "source": [
    "O comando **in** pode ser utilizado para verificar se um valor está inserido em alguma coleção e pode ser utilizado para simplificar condições, como se pode observar no código abaixo que filtra as consoantes do alfabeto."
   ]
  },
  {
   "cell_type": "code",
   "execution_count": 40,
   "metadata": {
    "colab": {
     "base_uri": "https://localhost:8080/",
     "height": 34
    },
    "colab_type": "code",
    "executionInfo": {
     "elapsed": 855,
     "status": "ok",
     "timestamp": 1590579454497,
     "user": {
      "displayName": "Daniel Santos",
      "photoUrl": "https://lh3.googleusercontent.com/a-/AOh14Gg01stYo4VIDzC67ybdUHn9tLlphUOcpwU-RFx0=s64",
      "userId": "05383206713853786422"
     },
     "user_tz": 180
    },
    "id": "tNmcqTrr57GA",
    "outputId": "5a1acb88-69ab-4d16-ac1e-953b816b03db"
   },
   "outputs": [
    {
     "name": "stdout",
     "output_type": "stream",
     "text": [
      "['b', 'c', 'd', 'f', 'g', 'h', 'j', 'k', 'l', 'm', 'n', 'p', 'q', 'r', 's', 't', 'v', 'w', 'x', 'y', 'z']\n"
     ]
    }
   ],
   "source": [
    "alfabeto = 'abcdefghijklmnopqrstuvwxyz';\n",
    "\n",
    "vogais = 'aeiou';\n",
    "\n",
    "consoantes = [ letra for letra in alfabeto if not(letra in vogais) ];\n",
    "\n",
    "print(consoantes);"
   ]
  },
  {
   "cell_type": "markdown",
   "metadata": {
    "colab_type": "text",
    "id": "wmuB1-rl7LRt"
   },
   "source": [
    "**Exercício 3.4:** Há uma lista com nomes de pessoas abaixo, realize uma filtragem para obter apenas os nomes que iniciam com a letra 'P'."
   ]
  },
  {
   "cell_type": "code",
   "execution_count": 42,
   "metadata": {
    "colab": {
     "base_uri": "https://localhost:8080/",
     "height": 34
    },
    "colab_type": "code",
    "executionInfo": {
     "elapsed": 840,
     "status": "ok",
     "timestamp": 1590580419560,
     "user": {
      "displayName": "Daniel Santos",
      "photoUrl": "https://lh3.googleusercontent.com/a-/AOh14Gg01stYo4VIDzC67ybdUHn9tLlphUOcpwU-RFx0=s64",
      "userId": "05383206713853786422"
     },
     "user_tz": 180
    },
    "id": "OJhoX-gb8u-g",
    "outputId": "1bf0383a-ec5c-43db-a11b-f678c71b284a"
   },
   "outputs": [
    {
     "name": "stdout",
     "output_type": "stream",
     "text": [
      "[]\n"
     ]
    }
   ],
   "source": [
    "nomes = ['Paulo','José','Augusto','Pedro','Calos','Rafael','Amanda','Israel','Picasso','Priscila'];\n",
    "\n",
    "# crie o código para filtrar os nomes dentro dos parenteses.\n",
    "nomes_inicia_p = [ ];\n",
    "\n",
    "# ['Paulo', 'Pedro', 'Picasso', 'Priscila']\n",
    "print(nomes_inicia_p);"
   ]
  },
  {
   "cell_type": "markdown",
   "metadata": {
    "colab_type": "text",
    "id": "vs6znXH3-6rh"
   },
   "source": [
    "**Exercício 3.5:** Relize um filtro para obter apenas os nomes dos brasileiros a partir da lista de pessoas no código a seguir."
   ]
  },
  {
   "cell_type": "code",
   "execution_count": 43,
   "metadata": {
    "colab": {
     "base_uri": "https://localhost:8080/",
     "height": 34
    },
    "colab_type": "code",
    "executionInfo": {
     "elapsed": 791,
     "status": "ok",
     "timestamp": 1590581636723,
     "user": {
      "displayName": "Daniel Santos",
      "photoUrl": "https://lh3.googleusercontent.com/a-/AOh14Gg01stYo4VIDzC67ybdUHn9tLlphUOcpwU-RFx0=s64",
      "userId": "05383206713853786422"
     },
     "user_tz": 180
    },
    "id": "haM0hLVdASRs",
    "outputId": "57eb5cde-95b2-411f-ccce-6ebcd41d057a"
   },
   "outputs": [
    {
     "name": "stdout",
     "output_type": "stream",
     "text": [
      "[]\n"
     ]
    }
   ],
   "source": [
    "pessoas_mundo = [ \n",
    "          { 'nome':'Paulo', 'nacionalidade': 'Brasil' },\n",
    "          { 'nome':'Lucas', 'nacionalidade': 'Brasil' },\n",
    "          { 'nome':'Brian','nacionalidade':'EUA' },\n",
    "          { 'nome':'Iolanda', 'nacionalidade':'Argentina' },\n",
    "          { 'nome':'Carlitos', 'nacionalidade':'Uruguai' },\n",
    "          { 'nome':'José', 'nacionalidade':'Brasil' },\n",
    "          { 'nome':'Chris', 'nacionalidade':'EUA' },\n",
    "          { 'nome':'Peter', 'nacionalidade':'França' },\n",
    "          { 'nome':'Cristiano', 'nacionalidade':'Portugal' },\n",
    "          { 'nome':'Roberto', 'nacionalidade':'Espanha' },\n",
    "          { 'nome':'Moana', 'nacionalidade':'Itália' },\n",
    "          { 'nome':'Bill', 'nacionalidade':'EUA' },\n",
    "          { 'nome':'Harry','nacionalidade':'Inglaterra' },\n",
    "          { 'nome': 'Sérgio', 'nacionalidade':'Itália' },\n",
    "          { 'nome':'Jhon','nacionalidade':'Inglaterra' }\n",
    "];\n",
    "\n",
    "\n",
    "# crie o código para filtrar os nomes dentro dos parenteses.\n",
    "brasileiros = [  ];\n",
    "\n",
    "# ['Paulo', 'Lucas', 'José']\n",
    "print(brasileiros);"
   ]
  }
 ],
 "metadata": {
  "colab": {
   "collapsed_sections": [],
   "name": "Aula_03_Introdução_a_Python_(Linguistica_Computacional).ipynb",
   "provenance": [],
   "toc_visible": true
  },
  "kernelspec": {
   "display_name": "Python 3",
   "language": "python",
   "name": "python3"
  },
  "language_info": {
   "codemirror_mode": {
    "name": "ipython",
    "version": 3
   },
   "file_extension": ".py",
   "mimetype": "text/x-python",
   "name": "python",
   "nbconvert_exporter": "python",
   "pygments_lexer": "ipython3",
   "version": "3.7.4"
  }
 },
 "nbformat": 4,
 "nbformat_minor": 4
}
