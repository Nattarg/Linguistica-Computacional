{
  "nbformat": 4,
  "nbformat_minor": 0,
  "metadata": {
    "colab": {
      "name": "Projeto Final.ipynb",
      "provenance": [],
      "collapsed_sections": [],
      "authorship_tag": "ABX9TyNvfOJoteqEQL8M9SIIHCgf",
      "include_colab_link": true
    },
    "kernelspec": {
      "name": "python3",
      "display_name": "Python 3"
    }
  },
  "cells": [
    {
      "cell_type": "markdown",
      "metadata": {
        "id": "view-in-github",
        "colab_type": "text"
      },
      "source": [
        "<a href=\"https://colab.research.google.com/github/Nattarg/Linguistica-Computacional/blob/master/1%20-%20Introdu%C3%A7%C3%A3o%20a%20Python%20(Lingu%C3%ADstica%20Computacional)/Projeto_Final.ipynb\" target=\"_parent\"><img src=\"https://colab.research.google.com/assets/colab-badge.svg\" alt=\"Open In Colab\"/></a>"
      ]
    },
    {
      "cell_type": "markdown",
      "metadata": {
        "id": "z_YAzkQRBCh0",
        "colab_type": "text"
      },
      "source": [
        "#**Projeto Final**"
      ]
    },
    {
      "cell_type": "markdown",
      "metadata": {
        "id": "e1bPBz04BKDp",
        "colab_type": "text"
      },
      "source": [
        "Utilizando a biblioteca expressões regulares desenvolva um programa seguindo as seguintes caracteristicas:\n",
        "\n",
        "\n",
        "\n",
        "1.   O programa deve possuir um menu que exiba diversas opções, desta forma, o usuário irá escolher qual opção deseja utilizar(para isso pode-se enumerar as opções para que então o usuário indique qual a opção desejada).\n",
        "\n",
        "2.   A primeira opção será para o usuário inserir um texto a sua escolha.\n",
        "\n",
        "3.   A segunda função do programa deverá exibir quantas vezes determinada palavra aparece no texto(A função findall da biblioteca r.e pode ser bem util para tal).Caso a palavra não se econtre no texto, deverá exibir: \"'O termo procurado não foi encontrado no texto!'!\".\n",
        "\n",
        "4.   O terceiro item deve então permitir que o usuário escolha uma palavra que pertence ao texto, e então troque todas as aparições desta por uma nova palavra a escolha dele.(o re dispoe da função sub para este proposito.)\n",
        "\n",
        "5.  O quarto item será um \"help\", ou uma função de ajuda que explica o funcionamento das demais funções. Esta função deve perguntar ao usuário sobre qual função ele precisa de ajuda, assim, através de um sub-menu o usuário podera selecionar qualquer uma das opções.\n",
        "\n",
        "6. Por fim o usuário deve dispor de uma opção \"sair\" a qual encerra o programa.\n",
        "\n"
      ]
    },
    {
      "cell_type": "markdown",
      "metadata": {
        "id": "So62nPa1OWbN",
        "colab_type": "text"
      },
      "source": [
        "Para melhor visualização, eis um exemplo do menu que será visto pelo usuário:"
      ]
    },
    {
      "cell_type": "code",
      "metadata": {
        "id": "TLtpJM5pLBIc",
        "colab_type": "code",
        "colab": {
          "base_uri": "https://localhost:8080/",
          "height": 119
        },
        "outputId": "d435e2fc-d23c-421e-af49-479589f677ba"
      },
      "source": [
        "print( '---------------Expressões Regulares---------------\\n1 - Inserir novo \\\n",
        "texto ! \\n2 - Verificar existência. \\n3 - Substituir Palavra. \\n4 - \\\n",
        "Ajuda. \\n5 - Sair. ')"
      ],
      "execution_count": 1,
      "outputs": [
        {
          "output_type": "stream",
          "text": [
            "---------------Expressões Regulares---------------\n",
            "1 - Inserir novo texto ! \n",
            "2 - Verificar existência. \n",
            "3 - Substituir Palavra. \n",
            "4 - Ajuda. \n",
            "5 - Sair. \n"
          ],
          "name": "stdout"
        }
      ]
    },
    {
      "cell_type": "markdown",
      "metadata": {
        "id": "-GjhjC9YOl2b",
        "colab_type": "text"
      },
      "source": [
        "Aqui, um exemplo do menu de ajuda:"
      ]
    },
    {
      "cell_type": "code",
      "metadata": {
        "id": "zTpOz3oCL70a",
        "colab_type": "code",
        "colab": {
          "base_uri": "https://localhost:8080/",
          "height": 102
        },
        "outputId": "2a666165-ef80-467b-ff7a-05c34caa7045"
      },
      "source": [
        "print('-------------Menu De ajuda-------------\\\n",
        "    \\n1 - Inserir novo texto.\\n2 - Verificar existência.\\n3 - \\\n",
        "Substituir Palavra. \\n4 - Voltar ao menu.')"
      ],
      "execution_count": 3,
      "outputs": [
        {
          "output_type": "stream",
          "text": [
            "-------------Menu De ajuda-------------    \n",
            "1 - Inserir novo texto.\n",
            "2 - Verificar existência.\n",
            "3 - Substituir Palavra. \n",
            "4 - Voltar ao menu.\n"
          ],
          "name": "stdout"
        }
      ]
    }
  ]
}