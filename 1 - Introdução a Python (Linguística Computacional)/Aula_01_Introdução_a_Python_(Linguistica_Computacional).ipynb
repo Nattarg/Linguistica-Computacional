{
  "nbformat": 4,
  "nbformat_minor": 0,
  "metadata": {
    "colab": {
      "name": "Aula 01 - Introdução a Python (Linguistica Computacional).ipynb",
      "provenance": [],
      "collapsed_sections": [],
      "include_colab_link": true
    },
    "kernelspec": {
      "name": "python3",
      "display_name": "Python 3"
    }
  },
  "cells": [
    {
      "cell_type": "markdown",
      "metadata": {
        "id": "view-in-github",
        "colab_type": "text"
      },
      "source": [
        "<a href=\"https://colab.research.google.com/github/Nattarg/Linguistica-Computacional/blob/master/1%20-%20Introdu%C3%A7%C3%A3o%20a%20Python%20(Lingu%C3%ADstica%20Computacional)/Aula_01_Introdu%C3%A7%C3%A3o_a_Python_(Linguistica_Computacional).ipynb\" target=\"_parent\"><img src=\"https://colab.research.google.com/assets/colab-badge.svg\" alt=\"Open In Colab\"/></a>"
      ]
    },
    {
      "cell_type": "markdown",
      "metadata": {
        "id": "v2rtfLUMSttY",
        "colab_type": "text"
      },
      "source": [
        "#Aula 01\n",
        "---"
      ]
    },
    {
      "cell_type": "markdown",
      "metadata": {
        "id": "t13EzfAdSxkt",
        "colab_type": "text"
      },
      "source": [
        "###Linguagem de Programação\n",
        "\n",
        "\n",
        "\n"
      ]
    },
    {
      "cell_type": "markdown",
      "metadata": {
        "id": "qkF8j3FPHHLC",
        "colab_type": "text"
      },
      "source": [
        "* O que é?\n",
        "* Como funciona?\n",
        "* Onde é utilizado?"
      ]
    },
    {
      "cell_type": "markdown",
      "metadata": {
        "id": "F8txTKTmUMAA",
        "colab_type": "text"
      },
      "source": [
        "![alt text](https://encrypted-tbn0.gstatic.com/images?q=tbn%3AANd9GcTR1pWrPuBxWvOq6vCnRbQWnevDUFullUH8xlqXjRGA2EXxnvsI)"
      ]
    },
    {
      "cell_type": "markdown",
      "metadata": {
        "id": "lU-DuEHqUc1W",
        "colab_type": "text"
      },
      "source": [
        "![alt text](https://www.python.org/static/img/python-logo@2x.png)"
      ]
    },
    {
      "cell_type": "markdown",
      "metadata": {
        "id": "54c5-etMVhGV",
        "colab_type": "text"
      },
      "source": [
        "\n",
        "\n",
        "*   Por que Python?\n",
        "\n",
        "\n"
      ]
    },
    {
      "cell_type": "markdown",
      "metadata": {
        "id": "KmhCemmvWKDa",
        "colab_type": "text"
      },
      "source": [
        "![alt text](https://miro.medium.com/max/776/1*g_x1-5iYRn-SmdVucceiWw.png)"
      ]
    },
    {
      "cell_type": "markdown",
      "metadata": {
        "id": "HcVvdbFNWgmt",
        "colab_type": "text"
      },
      "source": [
        "\n",
        "\n",
        "*   Facil acesso\n",
        "*   Salvo em nuvem\n",
        "*   Processamento em nuvem \n",
        "*   Estilo notebook\n",
        "\n",
        "![alt text](https://encrypted-tbn0.gstatic.com/images?q=tbn%3AANd9GcTPpeasXmNIHhaizmmDMyjUJMeeevVT8SxS9XTcJ7_zEkArKSce)\n"
      ]
    },
    {
      "cell_type": "markdown",
      "metadata": {
        "id": "1fgt-Q1SY_Sw",
        "colab_type": "text"
      },
      "source": [
        "### Primeiro programa em Python"
      ]
    },
    {
      "cell_type": "markdown",
      "metadata": {
        "id": "1TPZn50Pwg3p",
        "colab_type": "text"
      },
      "source": [
        "A função print tem como objetivo mostrar algo na tela, a parte que sera exibida na tela estará após o comando **print** e entre **parenteses** e **aspas simples**. No exemplo abaixo o computador exibirá \"Olá mundo!\" como resposta."
      ]
    },
    {
      "cell_type": "code",
      "metadata": {
        "id": "mqcuAUONwIAe",
        "colab_type": "code",
        "outputId": "21e4d5b9-1bb2-4db4-8c3c-cdc7ee10270c",
        "colab": {
          "base_uri": "https://localhost:8080/",
          "height": 34
        }
      },
      "source": [
        " print('Olá mundo !')"
      ],
      "execution_count": 0,
      "outputs": [
        {
          "output_type": "stream",
          "text": [
            "Olá mundo !\n"
          ],
          "name": "stdout"
        }
      ]
    },
    {
      "cell_type": "markdown",
      "metadata": {
        "id": "he8pYdaExEAj",
        "colab_type": "text"
      },
      "source": [
        "A função print tambem pode ser escrita com aspas duplas."
      ]
    },
    {
      "cell_type": "code",
      "metadata": {
        "id": "ikeTBqG_xDgs",
        "colab_type": "code",
        "outputId": "be50c7e3-649f-42e6-bdae-e170ab72bf13",
        "colab": {
          "base_uri": "https://localhost:8080/",
          "height": 34
        }
      },
      "source": [
        "print(\" Com aspas duplas tambem esta correto!\")"
      ],
      "execution_count": 0,
      "outputs": [
        {
          "output_type": "stream",
          "text": [
            " Com aspas duplas tambem esta correto!\n"
          ],
          "name": "stdout"
        }
      ]
    },
    {
      "cell_type": "markdown",
      "metadata": {
        "id": "d5j6_RjlxP7i",
        "colab_type": "text"
      },
      "source": [
        "Agora, salvo algumas exeções (que serão trabalhadas posteriormente), se não colocarmos nenhum tipo de aspas obteremos um erro como resposta."
      ]
    },
    {
      "cell_type": "code",
      "metadata": {
        "id": "5_AwQH_Uy9bE",
        "colab_type": "code",
        "outputId": "06fb7be8-f816-4e58-9327-dc03323d766e",
        "colab": {
          "base_uri": "https://localhost:8080/",
          "height": 132
        }
      },
      "source": [
        "print(Esse codigo esta errado)"
      ],
      "execution_count": 0,
      "outputs": [
        {
          "output_type": "error",
          "ename": "SyntaxError",
          "evalue": "ignored",
          "traceback": [
            "\u001b[0;36m  File \u001b[0;32m\"<ipython-input-3-0714d41ffe89>\"\u001b[0;36m, line \u001b[0;32m1\u001b[0m\n\u001b[0;31m    print(Esse codigo esta errado)\u001b[0m\n\u001b[0m                    ^\u001b[0m\n\u001b[0;31mSyntaxError\u001b[0m\u001b[0;31m:\u001b[0m invalid syntax\n"
          ]
        }
      ]
    },
    {
      "cell_type": "markdown",
      "metadata": {
        "id": "l_agJJD2y_no",
        "colab_type": "text"
      },
      "source": [
        "### Operações matemáticas Basicas em Python"
      ]
    },
    {
      "cell_type": "markdown",
      "metadata": {
        "id": "ALp9GRkFzL6S",
        "colab_type": "text"
      },
      "source": [
        "####O Python dispõe das operações matematicas basicas e estas são:\n",
        "\n",
        "Adição     **(+)**,Subtração   **(-)**,Multiplicação   **(*)**,Divisão   **(/)** e exponenciação (**).\n",
        "\n",
        "\n"
      ]
    },
    {
      "cell_type": "markdown",
      "metadata": {
        "id": "OJLFBkt41MXL",
        "colab_type": "text"
      },
      "source": [
        "####No exemplo a baixo teremos a soma de 5 + 3, como resposta teremos 8. É importante notar que neste exemplo não usamos aspas visto que queremos somar números e não strings (que serão abordadas mais a frente)."
      ]
    },
    {
      "cell_type": "code",
      "metadata": {
        "id": "uw0PU0Bt1mPx",
        "colab_type": "code",
        "outputId": "bbd09c66-8e7e-4ba9-cc54-08ac350aef4f",
        "colab": {
          "base_uri": "https://localhost:8080/",
          "height": 34
        }
      },
      "source": [
        "print(5 + 3)"
      ],
      "execution_count": 0,
      "outputs": [
        {
          "output_type": "stream",
          "text": [
            "8\n"
          ],
          "name": "stdout"
        }
      ]
    },
    {
      "cell_type": "markdown",
      "metadata": {
        "id": "OwVrXshF1tTf",
        "colab_type": "text"
      },
      "source": [
        "####Apenas para compreensão, se tentarmos escrever o codigo com aspas o resultado será, como podemos observar abaixo, literalmente o que foi escrito."
      ]
    },
    {
      "cell_type": "code",
      "metadata": {
        "id": "qWVG3SsJ2ChX",
        "colab_type": "code",
        "outputId": "d9f216f4-03b2-454d-8ada-9c88734f9213",
        "colab": {
          "base_uri": "https://localhost:8080/",
          "height": 34
        }
      },
      "source": [
        "print('5 + 3')"
      ],
      "execution_count": 0,
      "outputs": [
        {
          "output_type": "stream",
          "text": [
            "5 + 3\n"
          ],
          "name": "stdout"
        }
      ]
    },
    {
      "cell_type": "markdown",
      "metadata": {
        "id": "pM6TUKdy2PQS",
        "colab_type": "text"
      },
      "source": [
        "####Exemplo de subtração:"
      ]
    },
    {
      "cell_type": "code",
      "metadata": {
        "id": "Vo5zfZhO2W5K",
        "colab_type": "code",
        "outputId": "30d101af-7df9-4086-b42b-561598d7f94c",
        "colab": {
          "base_uri": "https://localhost:8080/",
          "height": 34
        }
      },
      "source": [
        "print (5 - 3)"
      ],
      "execution_count": 0,
      "outputs": [
        {
          "output_type": "stream",
          "text": [
            "2\n"
          ],
          "name": "stdout"
        }
      ]
    },
    {
      "cell_type": "markdown",
      "metadata": {
        "id": "-2mh2_oN2bUb",
        "colab_type": "text"
      },
      "source": [
        "####Exemplo de multiplicação:"
      ]
    },
    {
      "cell_type": "code",
      "metadata": {
        "id": "--RVtw0y2sIc",
        "colab_type": "code",
        "outputId": "a8e1ae4b-d9e8-488e-9edd-374a5aa67ab6",
        "colab": {
          "base_uri": "https://localhost:8080/",
          "height": 34
        }
      },
      "source": [
        "print(3 * 6)"
      ],
      "execution_count": 0,
      "outputs": [
        {
          "output_type": "stream",
          "text": [
            "18\n"
          ],
          "name": "stdout"
        }
      ]
    },
    {
      "cell_type": "markdown",
      "metadata": {
        "id": "hu-t4XII2_C6",
        "colab_type": "text"
      },
      "source": [
        "####Exemplo de divisão:"
      ]
    },
    {
      "cell_type": "code",
      "metadata": {
        "id": "oGK8fRLH3CBC",
        "colab_type": "code",
        "outputId": "49cea819-b376-4068-bea4-05fecff7150c",
        "colab": {
          "base_uri": "https://localhost:8080/",
          "height": 34
        }
      },
      "source": [
        "print(10 / 2)"
      ],
      "execution_count": 0,
      "outputs": [
        {
          "output_type": "stream",
          "text": [
            "5.0\n"
          ],
          "name": "stdout"
        }
      ]
    },
    {
      "cell_type": "markdown",
      "metadata": {
        "id": "cswM91kT3Eqi",
        "colab_type": "text"
      },
      "source": [
        "####Exemplo de exponenciação:"
      ]
    },
    {
      "cell_type": "code",
      "metadata": {
        "id": "x3w07DSB3HLS",
        "colab_type": "code",
        "outputId": "62480ade-0fb4-43d8-d0b5-d862073d729a",
        "colab": {
          "base_uri": "https://localhost:8080/",
          "height": 34
        }
      },
      "source": [
        "print(3**2)"
      ],
      "execution_count": 0,
      "outputs": [
        {
          "output_type": "stream",
          "text": [
            "9\n"
          ],
          "name": "stdout"
        }
      ]
    },
    {
      "cell_type": "markdown",
      "metadata": {
        "id": "J2Ij1SA936sN",
        "colab_type": "text"
      },
      "source": [
        "#### Outro ponto importante são os parenteses, o computador sempre irá dar prioridade para as sentenças entre os parenteses. Vejamos a diferença entre \"( 5 + 3 ) * 2\" e \"5 + 3 * 2\" "
      ]
    },
    {
      "cell_type": "code",
      "metadata": {
        "id": "G5L4OMLR4z4b",
        "colab_type": "code",
        "outputId": "49d68da4-630f-47c8-da0f-51834dc2be03",
        "colab": {
          "base_uri": "https://localhost:8080/",
          "height": 34
        }
      },
      "source": [
        "print((5 + 3)*2)"
      ],
      "execution_count": 0,
      "outputs": [
        {
          "output_type": "stream",
          "text": [
            "16\n"
          ],
          "name": "stdout"
        }
      ]
    },
    {
      "cell_type": "code",
      "metadata": {
        "id": "gdad-dzo47Xi",
        "colab_type": "code",
        "outputId": "a5165ac3-752b-4649-b7f9-c6de0dfeb685",
        "colab": {
          "base_uri": "https://localhost:8080/",
          "height": 34
        }
      },
      "source": [
        "print(5 + 3 * 2)"
      ],
      "execution_count": 0,
      "outputs": [
        {
          "output_type": "stream",
          "text": [
            "11\n"
          ],
          "name": "stdout"
        }
      ]
    },
    {
      "cell_type": "markdown",
      "metadata": {
        "id": "mg4S8Maj5JgW",
        "colab_type": "text"
      },
      "source": [
        "###Variáveis"
      ]
    },
    {
      "cell_type": "markdown",
      "metadata": {
        "id": "DOemfrwg5706",
        "colab_type": "text"
      },
      "source": [
        "As variáveis são como \"gavetas\" que guardam os valores a elas atribuidos. Por exemplo: Eu tenho três gavetas, a gaveta 1 temos uma camisa; na gaveta 2 temos meias e na gaveta 3 temos um short. Cada gaveta terá um valor ou \"peça de roupa\" atribuida a ela.\n",
        "\n",
        "![alt text](https://encrypted-tbn0.gstatic.com/images?q=tbn%3AANd9GcQfUqjf7E76mQVA58HAxVJ8hkSJr5g4mGLchBwjQUpSRqJlGADC)"
      ]
    },
    {
      "cell_type": "markdown",
      "metadata": {
        "id": "uhWLOwBq7Pu5",
        "colab_type": "text"
      },
      "source": [
        "**Importante:** Quando criamos uma variavel **não** podemos usar **caracteres especiais** ou **espaços**(em caso de um nome composto usualmente é usado um _ para separar, ex: camisa_vermelha).\n",
        "\n",
        "**Alem disso** o computador é sensivel ao **capslock**, ou seja, para o computador \"Gaveta\" e \"gaveta\" são variáveis **totalmente diferentes.**\n",
        "\n"
      ]
    },
    {
      "cell_type": "markdown",
      "metadata": {
        "id": "ld1hrQ5Q8MhT",
        "colab_type": "text"
      },
      "source": [
        "Tendo em vista estes pontos, vamos criar um programa com 3 variaveis chamadas gaveta1, gaveta 2 e gaveta 3. E vamos guardar, repectivamente, \"camisa\", \"meias\" e \"short\" nelas ."
      ]
    },
    {
      "cell_type": "markdown",
      "metadata": {
        "id": "8A_Lh6PV82JT",
        "colab_type": "text"
      },
      "source": [
        "Criando as variaveis:"
      ]
    },
    {
      "cell_type": "code",
      "metadata": {
        "id": "5sEfTdsx84G_",
        "colab_type": "code",
        "colab": {}
      },
      "source": [
        "gaveta1 = 'camisa'\n",
        "gaveta2 = 'meias'\n",
        "gaveta3 = 'short'"
      ],
      "execution_count": 0,
      "outputs": []
    },
    {
      "cell_type": "markdown",
      "metadata": {
        "id": "ouKQfkI29B4a",
        "colab_type": "text"
      },
      "source": [
        "Como podemos perceber, para guardar um valor na variável utilizamos o \"=\".\n",
        "\n",
        "Outro ponto a se notar é o uso de aspas simples para indicarmos que \"camisa\" é uma string (ou seja um texto)."
      ]
    },
    {
      "cell_type": "markdown",
      "metadata": {
        "id": "3nYDRf7J9bir",
        "colab_type": "text"
      },
      "source": [
        "Assim podemos seguir e mostrar qualquer uma das variaveis usando o **print()**."
      ]
    },
    {
      "cell_type": "code",
      "metadata": {
        "id": "ExSF-kPD9iu3",
        "colab_type": "code",
        "outputId": "9b5e2c7b-070c-47fb-f1bb-a3d9ed5bc3b8",
        "colab": {
          "base_uri": "https://localhost:8080/",
          "height": 70
        }
      },
      "source": [
        "print(gaveta1)\n",
        "print(gaveta2)\n",
        "print(gaveta3)"
      ],
      "execution_count": 0,
      "outputs": [
        {
          "output_type": "stream",
          "text": [
            "camisa\n",
            "meias\n",
            "short\n"
          ],
          "name": "stdout"
        }
      ]
    },
    {
      "cell_type": "markdown",
      "metadata": {
        "id": "My4sYGT39rTZ",
        "colab_type": "text"
      },
      "source": [
        "**Importante:** Como estamos utilizando um programa no estilo notebook, é necessario executar a célula das variáveis antes de executar o print."
      ]
    },
    {
      "cell_type": "markdown",
      "metadata": {
        "id": "uxlp98Mv-F_w",
        "colab_type": "text"
      },
      "source": [
        "As variaveis tambem podem receber valores que estão em outras variáveis. Imaginemos que agora a gaveta 1 tambem vai receber meias junto a gaveta 2."
      ]
    },
    {
      "cell_type": "code",
      "metadata": {
        "id": "MbwU7IRF-XbG",
        "colab_type": "code",
        "outputId": "3612c990-0eec-4443-fa64-d71035a73882",
        "colab": {
          "base_uri": "https://localhost:8080/",
          "height": 87
        }
      },
      "source": [
        "print(gaveta1)\n",
        "print(gaveta2)\n",
        "gaveta1 = gaveta2\n",
        "print(gaveta1)\n",
        "print(gaveta2)"
      ],
      "execution_count": 0,
      "outputs": [
        {
          "output_type": "stream",
          "text": [
            "camisa\n",
            "meias\n",
            "meias\n",
            "meias\n"
          ],
          "name": "stdout"
        }
      ]
    },
    {
      "cell_type": "markdown",
      "metadata": {
        "id": "tkrO-zQz-4UQ",
        "colab_type": "text"
      },
      "source": [
        "Assim, observamos que apenas o valor da gaveta 1 foi alterado."
      ]
    },
    {
      "cell_type": "markdown",
      "metadata": {
        "id": "6CNZmt7S_69y",
        "colab_type": "text"
      },
      "source": [
        "#### Calculando a média"
      ]
    },
    {
      "cell_type": "markdown",
      "metadata": {
        "id": "PjoY3D0rABcB",
        "colab_type": "text"
      },
      "source": [
        "Dado o que aprendemos ja podemos construir um programa para calculo da média das notas. A fórmula para cálculo da media é :\n",
        "\n",
        " media = (nota1 + nota2 + nota3)/3"
      ]
    },
    {
      "cell_type": "code",
      "metadata": {
        "id": "YohxS7HUBAKA",
        "colab_type": "code",
        "outputId": "e6f7beb0-f0fb-4015-9326-d74db0b7a72d",
        "colab": {
          "base_uri": "https://localhost:8080/",
          "height": 34
        }
      },
      "source": [
        "nota1 = 5\n",
        "nota2 = 8\n",
        "nota3 = 8\n",
        "media = (nota1 + nota2 + nota3)/3\n",
        "print(media)"
      ],
      "execution_count": 0,
      "outputs": [
        {
          "output_type": "stream",
          "text": [
            "7.0\n"
          ],
          "name": "stdout"
        }
      ]
    },
    {
      "cell_type": "markdown",
      "metadata": {
        "id": "sHsLTTm-DCP5",
        "colab_type": "text"
      },
      "source": [
        "### Comando Input"
      ]
    },
    {
      "cell_type": "markdown",
      "metadata": {
        "id": "Mk_zx-gFDFiv",
        "colab_type": "text"
      },
      "source": [
        "O comando input irá ler um valor do usuário e armazenar este valor em uma variavel. \n",
        "\n",
        "Normalmente escrevemos algo para escrever na tela de forma a instruir o usuário sobre qual iformação queremos.\n",
        "\n",
        "Retomando o exemplo das gavetas vamos agora deixar o usuário decidir o que ele quer colocar em cada gaveta."
      ]
    },
    {
      "cell_type": "code",
      "metadata": {
        "id": "EF207JiDDeaA",
        "colab_type": "code",
        "colab": {}
      },
      "source": [
        "gaveta1 = input('O que você quer colocar na gaveta 1? ')\n",
        "gaveta2 = input('O que você quer colocar na gaveta 2? ')\n",
        "gaveta3 = input('O que você quer colocar na gaveta 3? ')"
      ],
      "execution_count": 0,
      "outputs": []
    },
    {
      "cell_type": "markdown",
      "metadata": {
        "id": "9KNUUhksEFdB",
        "colab_type": "text"
      },
      "source": [
        "Como podemos ver o programa não nos retornou nada ja que apenas fizemos com que os valores para as gavetas fossem lidos. Agora vamos fazer um programa para imprimir os novos valores que definimos.\n",
        "\n"
      ]
    },
    {
      "cell_type": "code",
      "metadata": {
        "id": "2o4MlGT_El3g",
        "colab_type": "code",
        "colab": {}
      },
      "source": [
        "print(gaveta1)\n",
        "print(gaveta2)\n",
        "print(gaveta3)"
      ],
      "execution_count": 0,
      "outputs": []
    },
    {
      "cell_type": "markdown",
      "metadata": {
        "id": "K89IfJ7iEwIQ",
        "colab_type": "text"
      },
      "source": [
        "Para fazermos operações com números se faz necessário o uso do comando float, de forma que o comando input sempre lê a informação do usuário como string, e o comando *float* ira tornar esse valor em um numero real.\n"
      ]
    },
    {
      "cell_type": "code",
      "metadata": {
        "id": "CZGvpd2GFCto",
        "colab_type": "code",
        "colab": {}
      },
      "source": [
        "nota1 = float(input('Insira a primeira nota: '))\n",
        "nota2 = float(input('Insira a segunda nota: '))\n",
        "nota3 = float(input('Insira a terceira nota: '))\n",
        "media = (nota1 + nota2 + nota3)/3\n",
        "print(media)"
      ],
      "execution_count": 0,
      "outputs": []
    },
    {
      "cell_type": "markdown",
      "metadata": {
        "id": "8gOk9GlYmLh8",
        "colab_type": "text"
      },
      "source": [
        "### Variáveis do tipo String"
      ]
    },
    {
      "cell_type": "markdown",
      "metadata": {
        "id": "6qhdgmU1mw1V",
        "colab_type": "text"
      },
      "source": [
        "As strings são de longe o tipo mais importante de variável dentro da linguistica computacional, uma vez que, armazenam os dados do tipo \"texto\". Strings são definidas como uma sequencia de caracteres numericos,alfabeticos,especiais,etc.\n",
        "\n",
        "Normalmente Strings são indentificadas pelo uso de aspas simples ou aspas duplas. \n",
        "\n",
        "Segue um exemplo de String:\n"
      ]
    },
    {
      "cell_type": "code",
      "metadata": {
        "id": "HyXpIsLYo9RX",
        "colab_type": "code",
        "colab": {}
      },
      "source": [
        "autor = 'Machado de Assis'\n",
        "print(autor)"
      ],
      "execution_count": 0,
      "outputs": []
    },
    {
      "cell_type": "markdown",
      "metadata": {
        "id": "hjxL7QmlpIHV",
        "colab_type": "text"
      },
      "source": [
        "No codigo acima temos uma variável recebendo o valor string \"Machado de Assis\"."
      ]
    },
    {
      "cell_type": "markdown",
      "metadata": {
        "id": "sVisLVx5pVhO",
        "colab_type": "text"
      },
      "source": [
        "O python conta com algumas ferramentas dedicadas as Strings, vejamos algumas:"
      ]
    },
    {
      "cell_type": "code",
      "metadata": {
        "id": "9I7Ge2PypiG9",
        "colab_type": "code",
        "colab": {}
      },
      "source": [
        "autor.upper()\n",
        "print(autor.upper())\n",
        "\n",
        "autor.lower()\n",
        "print(autor.lower())\n",
        "\n",
        "autor.isalpha()\n",
        "print(autor.isalpha())"
      ],
      "execution_count": 0,
      "outputs": []
    },
    {
      "cell_type": "markdown",
      "metadata": {
        "id": "W-9FTg7LqGnG",
        "colab_type": "text"
      },
      "source": [
        "O metodo **upper()** converte toda a string para caixa alta, o metodo **lower()** converte toda a string para caixa baixa. O método **isalpha()** verifica se todos os caracteres da string são alfabéticos e retorna **True** (em caso de confirmação que todos os caracteres são realmente alfabéticos) ou **False** ( caso existam quaisquer caracteres que não sejam alfabéticos), no caso acima o metodo retornou **False** pois a string possui espaços em branco. "
      ]
    },
    {
      "cell_type": "markdown",
      "metadata": {
        "id": "31cXTI-frumP",
        "colab_type": "text"
      },
      "source": [
        "Outros métodos úteis são o **startswhit()** e o **endswith()** que verificam, respectivamente, se uma string é iniciada ou terminada com uma sequência específica de caracteres. "
      ]
    },
    {
      "cell_type": "markdown",
      "metadata": {
        "id": "3mjIO9IXtUfM",
        "colab_type": "text"
      },
      "source": [
        "Lembrando que o print tem a função de apenas nos mostrar qual o retorno dos métodos abaixo."
      ]
    },
    {
      "cell_type": "code",
      "metadata": {
        "id": "omo7uj4asQth",
        "colab_type": "code",
        "colab": {}
      },
      "source": [
        "autor.startswith('M')    #Método 1\n",
        "print(autor.startswith('M'))\n",
        "\n",
        "autor.startswith('m')    #Método 2\n",
        "print(autor.startswith('m'))\n",
        "\n",
        "autor.lower().startswith('m')   # Método 3\n",
        "print(autor.lower().startswith('m'))\n",
        "\n",
        "autor.endswith('Assis')     #Método 4\n",
        "print(autor.endswith('Assis'))"
      ],
      "execution_count": 0,
      "outputs": []
    },
    {
      "cell_type": "markdown",
      "metadata": {
        "id": "p6ZE8rFPtRoy",
        "colab_type": "text"
      },
      "source": [
        "Como podemos ver o primeiro e o ultimo método retorna Verdadeiro visto que a string usada é \"Machado de Assis\". Ja o segundo metodo retorna falso uma vez que a string não se inicia com m, porem, ao utilizarmos o método **lower()** a nova string será \"machado de assis\" e assim o método **startswith('m')** retornará valor True."
      ]
    },
    {
      "cell_type": "markdown",
      "metadata": {
        "id": "UpKJNudzvSpv",
        "colab_type": "text"
      },
      "source": [
        "Strings Tambem podem ser \"somadas\" ou concatenadas da seguinte forma:"
      ]
    },
    {
      "cell_type": "code",
      "metadata": {
        "id": "Cw4esv6rvm78",
        "colab_type": "code",
        "colab": {}
      },
      "source": [
        "Autor = 'Joaquim Maria' + ' ' + autor\n",
        "print(Autor)"
      ],
      "execution_count": 0,
      "outputs": []
    },
    {
      "cell_type": "markdown",
      "metadata": {
        "id": "K8pvkTKmv40H",
        "colab_type": "text"
      },
      "source": [
        "Neste caso concatenamos as strings \"Joaquim Maria\", um espaço em branco \" \" e a variavel que possui a string \"Machado de Assis\". Caso não colocassemos o espaço em branco o resultado seria \"Joaquim MariaMachado de Assis\" em vez de \"Joaquim Maria Machado de Assis\"."
      ]
    },
    {
      "cell_type": "markdown",
      "metadata": {
        "id": "DfrlaZa7yuyg",
        "colab_type": "text"
      },
      "source": [
        "Tambem é possivel selecionarmos caracteres especificos dentro de uma String, vejamos abaixo como:\n"
      ]
    },
    {
      "cell_type": "code",
      "metadata": {
        "id": "XvN5e0eKzTtH",
        "colab_type": "code",
        "colab": {}
      },
      "source": [
        "print(autor)\n",
        "\n",
        "autor[0]     '''Caso 1 o programa ira exibir o primeiro caracter da esquerda \n",
        "para a direita da string visto que colocamos o valor da posição como 0'''\n",
        "print(autor[0])\n",
        "\n",
        "autor[2]    '''  Caso 2 o programa ira exibir o terceiro caracter da esquerda \n",
        "para a direita da string visto que colocamos o valor da posição como 2'''\n",
        "print(autor[2])\n",
        "\n",
        "autor[-1]    ''' Caso 3 o programa ira exibir o primeiro caracter da direita \n",
        "para a esquerda da string visto que colocamos o valor da posição como -1'''\n",
        "print(autor[-1])\n",
        "\n",
        "autor[-2]    '''Caso 4 o programa ira exibir o segundo caracter da direita \n",
        "para a esquerda da string visto que colocamos o valor da posição como -2'''\n",
        "print(autor[-2])"
      ],
      "execution_count": 0,
      "outputs": []
    },
    {
      "cell_type": "markdown",
      "metadata": {
        "id": "i_P43iUAz4pH",
        "colab_type": "text"
      },
      "source": [
        "Para pegarmos um caracter em específico devemos escrever a variável que comporta a string desejada e então indicarmos a posição do caracter entre colchetes. Essa posição é contada desde o primeiro caracter começando por 0, ou então desde o ultimo caracter começando por -1."
      ]
    },
    {
      "cell_type": "markdown",
      "metadata": {
        "id": "LqErtTps1O_-",
        "colab_type": "text"
      },
      "source": [
        "####Segmentando Sequências"
      ]
    },
    {
      "cell_type": "markdown",
      "metadata": {
        "id": "ZEJzs4Yp1Tz9",
        "colab_type": "text"
      },
      "source": [
        "Para segmentarmos uma sequência utilizamos os **(:)** dentro dos colchetes de forma que, estes dois pontos, irão definir onde a sequência começa/termina.\n",
        "\n",
        "O inicio da sequência é dado antes de **(:)** e o final da mesma é dado após **(:)** .\n",
        "\n",
        "Exemplos:\n"
      ]
    },
    {
      "cell_type": "code",
      "metadata": {
        "id": "7YDLhSeg2LEo",
        "colab_type": "code",
        "colab": {}
      },
      "source": [
        "print(autor)\n",
        "\n",
        "autor[11:]   \n",
        "print(autor[11:])\n",
        "\n",
        "autor[:2]\n",
        "print(autor[:2])\n",
        "\n",
        "autor[:-1]\n",
        "print(autor[:-1])\n",
        "\n",
        "autor[8:-6]\n",
        "print(autor[8:-6])"
      ],
      "execution_count": 0,
      "outputs": []
    },
    {
      "cell_type": "markdown",
      "metadata": {
        "id": "ulRVE3Ya7Min",
        "colab_type": "text"
      },
      "source": [
        "**autor[11:]** : armazena o valor da sequência de caracteres depois da posição 11.\n",
        "\n",
        " **autor[:2]** : armazena o valor da sequência de caracteres  depois da posição 2.\n",
        "\n",
        "**autor[:-1]** : armazena o valor da sequência de caracteres até a posição -1 sem incluir o caracter da posição -1.\n",
        "\n",
        "**autor[8:-6]** : armazena o valor da sequência de caracteres depois da posição 8 até a posição -6 sem incluir o caracter da posição -6."
      ]
    }
  ]
}