{
 "cells": [
  {
   "cell_type": "markdown",
   "metadata": {
    "colab_type": "text",
    "id": "rv89f8zyPwTv"
   },
   "source": [
    "# Lista de Exercícios - Aula 5"
   ]
  },
  {
   "cell_type": "markdown",
   "metadata": {},
   "source": [
    "Importe o módulo de expressões regulares:"
   ]
  },
  {
   "cell_type": "code",
   "execution_count": null,
   "metadata": {},
   "outputs": [],
   "source": [
    "import re;"
   ]
  },
  {
   "cell_type": "markdown",
   "metadata": {
    "colab_type": "text",
    "id": "B2aYNjf_QAY4"
   },
   "source": [
    "## Exercício 1"
   ]
  },
  {
   "cell_type": "markdown",
   "metadata": {
    "colab_type": "text",
    "id": "wVIzr-Twcre1"
   },
   "source": [
    "Crie uma expressão regular que valide um horário de 12h de acordo com o seguinte formato: **hh:mm AM/PM**. A expressão deve validar por exemplo os horários **09:58 AM** e **11:01 PM**. Perceba que os minutos só são representados até o número **59** e as horas até **12**.\n"
   ]
  },
  {
   "cell_type": "code",
   "execution_count": null,
   "metadata": {
    "colab": {},
    "colab_type": "code",
    "id": "IpHU7Pu9dFvm"
   },
   "outputs": [],
   "source": [
    "# crie aqui sua regex\n",
    "regex = '';\n",
    "\n",
    "# deve retornar verdadeiro\n",
    "horario_1 = re.match(regex,'09:58 AM');\n",
    "\n",
    "# deve retornar verdadeiro\n",
    "horario_2 = re.match(regex,'11:01 PM');\n",
    "\n",
    "# deve retornar falso\n",
    "horario_3 = re.match(regex,'04:70 AM');\n",
    "\n",
    "# deve retornar falso\n",
    "horario_4 = re.match(regex,'14:10 PM');\n",
    "\n",
    "print('verificação 1',bool(horario_1));\n",
    "\n",
    "print('verificação 2',bool(horario_2));\n",
    "\n",
    "print('verificação 3',bool(horario_3));\n",
    "\n",
    "print('verificação 4',bool(horario_4));"
   ]
  },
  {
   "cell_type": "markdown",
   "metadata": {
    "colab_type": "text",
    "id": "PstLX2w5es9k"
   },
   "source": [
    "\n",
    "## Exercício 2"
   ]
  },
  {
   "cell_type": "markdown",
   "metadata": {
    "colab_type": "text",
    "id": "BA-ee4v4XRVw"
   },
   "source": [
    "Crie uma regex e utilize a função **findall** para simplesmente obter uma lista com todas as palavras da frase abaixo sem qualquer espaço."
   ]
  },
  {
   "cell_type": "code",
   "execution_count": null,
   "metadata": {
    "colab": {},
    "colab_type": "code",
    "id": "0kVdFFXpZKI8"
   },
   "outputs": [],
   "source": [
    "frase = 'Imagine uma nova fase para sua vida';\n",
    "\n",
    "regex = ''; \n",
    "\n",
    "palavras = re.findall('',frase,re.UNICODE);\n",
    "\n",
    "# deve exibir ['Imagine', 'uma', 'nova', 'fase', 'para', 'sua', 'vida']\n",
    "print(palavras);"
   ]
  }
 ],
 "metadata": {
  "colab": {
   "authorship_tag": "ABX9TyP9H0CcB/991w1UHDunzyUd",
   "collapsed_sections": [],
   "name": "Exercícios_Aula_04_Introdução_a_Python.ipynb",
   "provenance": [],
   "toc_visible": true
  },
  "kernelspec": {
   "display_name": "Python 3",
   "language": "python",
   "name": "python3"
  },
  "language_info": {
   "codemirror_mode": {
    "name": "ipython",
    "version": 3
   },
   "file_extension": ".py",
   "mimetype": "text/x-python",
   "name": "python",
   "nbconvert_exporter": "python",
   "pygments_lexer": "ipython3",
   "version": "3.7.4"
  }
 },
 "nbformat": 4,
 "nbformat_minor": 4
}
