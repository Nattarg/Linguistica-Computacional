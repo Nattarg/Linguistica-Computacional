{
 "cells": [
  {
   "cell_type": "markdown",
   "metadata": {
    "colab_type": "text",
    "id": "view-in-github"
   },
   "source": [
    "<a href=\"https://colab.research.google.com/github/Nattarg/Linguistica-Computacional/blob/master/1%20-%20Introdu%C3%A7%C3%A3o%20a%20Python%20(Lingu%C3%ADstica%20Computacional)/Apresenta%C3%A7%C3%A3o_do_Curso_(Introdu%C3%A7%C3%A3o_ao_Python).ipynb\" target=\"_parent\"><img src=\"https://colab.research.google.com/assets/colab-badge.svg\" alt=\"Open In Colab\"/></a>"
   ]
  },
  {
   "cell_type": "markdown",
   "metadata": {
    "colab_type": "text",
    "id": "EkB5RJiP3RWN"
   },
   "source": [
    "\n",
    "# Linguistica computacional  \n",
    "\n",
    "---\n",
    "\n",
    "### 1.   Noções gerais de programação em Python\n",
    "### 2.   Análise quantitativa de corpus\n",
    "### 3.   Modelos de n-gramas \n",
    "\n",
    "### 4.   Classificadores bayesianos ingênuos\n",
    "\n",
    " \n",
    "'\n"
   ]
  },
  {
   "cell_type": "markdown",
   "metadata": {
    "colab_type": "text",
    "id": "eZVYRhaC5xq8"
   },
   "source": [
    "\n",
    "# 1.  Noções gerais de programação em Python"
   ]
  },
  {
   "cell_type": "markdown",
   "metadata": {
    "colab_type": "text",
    "id": "gwyutmHx51Fq"
   },
   "source": [
    "\n",
    "# Aula 1 (06/07/2020) :\n",
    "*   Introdução ao **Python**\n",
    "*   Introdução ao **Google Colab**\n",
    "*   Comando **Print**\n",
    "*   Operações matemáticas em **Python**\n",
    "*   Comando **Input**\n",
    "*   Tipos de variáveis\n",
    "*   Operações com variáveis\n",
    "*   Variáveis do tipo **String**\n",
    "*   Atividade para casa\n"
   ]
  },
  {
   "cell_type": "markdown",
   "metadata": {
    "colab_type": "text",
    "id": "SETy4TAS7jmd"
   },
   "source": [
    "\n",
    "## Aula 2 (09/07/2020):\n",
    "*   Revisão do conteudo da aula anterior\n",
    "*   **Listas**\n",
    "*   **Tuplas**\n",
    "*   **Conjuntos**\n",
    "*   **Dicionários**\n",
    "*   Operadores Lógicos\n",
    "*   Operador **if**\n",
    "*   Atividade para casa"
   ]
  },
  {
   "cell_type": "markdown",
   "metadata": {
    "colab_type": "text",
    "id": "OJ3Ewzy4809k"
   },
   "source": [
    "## Aula 3 (13/07/2020):\n",
    "*   Revisão do conteudo da aula anterior\n",
    "*   **Loops**\n",
    "*   Loops com **for**\n",
    "*   Loops com **while**\n",
    "*   Filtragem de dados\n",
    "*   Atividade para casa"
   ]
  },
  {
   "cell_type": "markdown",
   "metadata": {
    "colab_type": "text",
    "id": "m6eIJdtM82A6"
   },
   "source": [
    "## Aula 4 (16/07/2020):\n",
    "*   Revisão do conteudo da aula anterior\n",
    "*   **Funções**\n",
    "*   Funções **Lambda**\n",
    "*   Módulos Externos\n",
    "*   Biblioteca **Collections**\n",
    "*   Atividade para casa"
   ]
  },
  {
   "cell_type": "markdown",
   "metadata": {
    "colab_type": "text",
    "id": "6BlfIMkHL8QB"
   },
   "source": [
    "## Aula 5 (20/07/2020):\n",
    "*   Revisão do conteudo da aula anterior\n",
    "*   Biblioteca **Expressões Regulares**\n",
    "*   Biblioteca **NLTK**\n",
    "*   Biblioteca **spaCy**\n",
    "*   Projeto final do módulo"
   ]
  },
  {
   "cell_type": "markdown",
   "metadata": {
    "colab_type": "text",
    "id": "ok2uz4QML8yg"
   },
   "source": [
    "## Aula 6 (23/07/2020):\n",
    "*   Apresentação dos projetos\n"
   ]
  }
 ],
 "metadata": {
  "colab": {
   "collapsed_sections": [],
   "name": "Apresentação_do_Curso_(Introdução_ao_Python).ipynb",
   "provenance": []
  },
  "kernelspec": {
   "display_name": "Python 3",
   "language": "python",
   "name": "python3"
  },
  "language_info": {
   "codemirror_mode": {
    "name": "ipython",
    "version": 3
   },
   "file_extension": ".py",
   "mimetype": "text/x-python",
   "name": "python",
   "nbconvert_exporter": "python",
   "pygments_lexer": "ipython3",
   "version": "3.7.4"
  }
 },
 "nbformat": 4,
 "nbformat_minor": 4
}
