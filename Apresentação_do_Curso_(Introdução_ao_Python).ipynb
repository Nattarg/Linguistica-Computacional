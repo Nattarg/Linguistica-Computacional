{
  "nbformat": 4,
  "nbformat_minor": 0,
  "metadata": {
    "colab": {
      "name": "Apresentação do Curso (Introdução ao Python).ipynb",
      "provenance": [],
      "collapsed_sections": [],
      "toc_visible": true,
      "include_colab_link": true
    },
    "kernelspec": {
      "name": "python3",
      "display_name": "Python 3"
    }
  },
  "cells": [
    {
      "cell_type": "markdown",
      "metadata": {
        "id": "view-in-github",
        "colab_type": "text"
      },
      "source": [
        "<a href=\"https://colab.research.google.com/github/Nattarg/Linguistica-Computacional/blob/master/Apresenta%C3%A7%C3%A3o_do_Curso_(Introdu%C3%A7%C3%A3o_ao_Python).ipynb\" target=\"_parent\"><img src=\"https://colab.research.google.com/assets/colab-badge.svg\" alt=\"Open In Colab\"/></a>"
      ]
    },
    {
      "cell_type": "markdown",
      "metadata": {
        "id": "EkB5RJiP3RWN",
        "colab_type": "text"
      },
      "source": [
        "\n",
        "# Linguistica computacional  \n",
        "\n",
        "---\n",
        "\n",
        "### 1.   Noções gerais de programação em Python\n",
        "### 2.   Análise quantitativa de corpus\n",
        "### 3.   Modelos de n-gramas \n",
        "### 4.   Classificadores bayesianos ingênuos\n",
        "\n",
        " \n"
      ]
    },
    {
      "cell_type": "markdown",
      "metadata": {
        "id": "eZVYRhaC5xq8",
        "colab_type": "text"
      },
      "source": [
        "\n",
        "#1.  Noções gerais de programação em Python"
      ]
    },
    {
      "cell_type": "markdown",
      "metadata": {
        "id": "gwyutmHx51Fq",
        "colab_type": "text"
      },
      "source": [
        "## Semana 1 (08/06/2020 - 10/06/2020 ) :\n",
        "*   Introdução ao **Python**\n",
        "*   Introdução ao **Google Colab**\n",
        "*   Comando **Print**\n",
        "*   Operações matemáticas em **Python**\n",
        "*   Comando **Input**\n",
        "*   Tipos de variáveis\n",
        "*   Operações com variáveis\n",
        "*   Variáveis do tipo **String**\n",
        "*   Atividade para casa\n"
      ]
    },
    {
      "cell_type": "markdown",
      "metadata": {
        "id": "SETy4TAS7jmd",
        "colab_type": "text"
      },
      "source": [
        "\n",
        "## Semana 2 (15/06/2020 - 17/06/2020):\n",
        "*   **Listas**\n",
        "*   **Tuplas**\n",
        "*   **Conjuntos**\n",
        "*   **Dicionários**\n",
        "*   Operadores Lógicos\n",
        "*   Operador **if**\n",
        "*   Atividade para casa"
      ]
    },
    {
      "cell_type": "markdown",
      "metadata": {
        "id": "OJ3Ewzy4809k",
        "colab_type": "text"
      },
      "source": [
        "## Semana 3 (22/06/2020 - 24/06/2020)):\n",
        "*   **Loops**\n",
        "*   Loops com **for**\n",
        "*   Loops com **while**\n",
        "*   Filtragem de dados\n",
        "*   Atividade para casa"
      ]
    },
    {
      "cell_type": "markdown",
      "metadata": {
        "id": "m6eIJdtM82A6",
        "colab_type": "text"
      },
      "source": [
        "## Semana 4 (29/06/2020 - 1/07/2020):\n",
        "*   Revisão do conteudo da aula anterior\n",
        "*   **Funções**\n",
        "*   Funções **Lambda**\n",
        "*   Módulos Externos\n",
        "*   Biblioteca **Collections**\n",
        "*   Atividade para casa"
      ]
    },
    {
      "cell_type": "markdown",
      "metadata": {
        "id": "6BlfIMkHL8QB",
        "colab_type": "text"
      },
      "source": [
        "## Semana 5 (06/07/2020 - 08/07/2020):\n",
        "*   Biblioteca **Expressões Regulares**\n",
        "*   Biblioteca **NLTK**\n",
        "*   Biblioteca **spaCy**\n",
        "*   Projeto final do módulo"
      ]
    },
    {
      "cell_type": "markdown",
      "metadata": {
        "id": "ok2uz4QML8yg",
        "colab_type": "text"
      },
      "source": [
        "## Seamana 6 (13/07/2020):\n",
        "*   Apresentação dos projetos\n"
      ]
    }
  ]
}