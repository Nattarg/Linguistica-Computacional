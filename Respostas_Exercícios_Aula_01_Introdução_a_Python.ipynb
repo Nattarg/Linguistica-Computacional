{
  "nbformat": 4,
  "nbformat_minor": 0,
  "metadata": {
    "colab": {
      "name": " Respostas - Exercícios Aula 01 - Introdução a Python.ipynb",
      "provenance": [],
      "collapsed_sections": [
        "zlsTd65jIHAG",
        "zhiEGOuTJr3s",
        "4Co0WxDUXGxf",
        "FEzYJ-pBctMw"
      ],
      "include_colab_link": true
    },
    "kernelspec": {
      "name": "python3",
      "display_name": "Python 3"
    }
  },
  "cells": [
    {
      "cell_type": "markdown",
      "metadata": {
        "id": "view-in-github",
        "colab_type": "text"
      },
      "source": [
        "<a href=\"https://colab.research.google.com/github/Nattarg/Linguistica-Computacional/blob/master/Respostas_Exerc%C3%ADcios_Aula_01_Introdu%C3%A7%C3%A3o_a_Python.ipynb\" target=\"_parent\"><img src=\"https://colab.research.google.com/assets/colab-badge.svg\" alt=\"Open In Colab\"/></a>"
      ]
    },
    {
      "cell_type": "markdown",
      "metadata": {
        "id": "iWikpyhKG-gX",
        "colab_type": "text"
      },
      "source": [
        "#Respostas - Lista de Exercicios - Aula 1"
      ]
    },
    {
      "cell_type": "markdown",
      "metadata": {
        "id": "rJwX_Oo6HCU9",
        "colab_type": "text"
      },
      "source": [
        "### 1. Elabore um algoritmo que receba o nome do usuário e retorne os 5 primeiros caracteres deste nome em caixa alta."
      ]
    },
    {
      "cell_type": "markdown",
      "metadata": {
        "id": "YiVqXt1THHZ2",
        "colab_type": "text"
      },
      "source": [
        "Como sabemos, se queremos pegar algum dado do usuário usamos o comando input, neste caso vamos informar ao usuário que queremos o nome dele."
      ]
    },
    {
      "cell_type": "code",
      "metadata": {
        "id": "KHsaIpPAHSOe",
        "colab_type": "code",
        "colab": {}
      },
      "source": [
        "nome = input('Insira o seu nome: ')"
      ],
      "execution_count": 0,
      "outputs": []
    },
    {
      "cell_type": "markdown",
      "metadata": {
        "id": "Nc6O3tFwHZnG",
        "colab_type": "text"
      },
      "source": [
        "Como queremos exibir apenas os 5 primeiros caracteres, utilizamos os colchetes de forma a indicar o limite máximo (se queremos apenas os 5 primeiros o limite superior será o 5 visto que a contagem começa do 0)."
      ]
    },
    {
      "cell_type": "code",
      "metadata": {
        "id": "UzLSHE9IHnHN",
        "colab_type": "code",
        "colab": {}
      },
      "source": [
        "nome = input('Insira o seu nome: ')\n",
        "nome_5 = nome[:5]"
      ],
      "execution_count": 0,
      "outputs": []
    },
    {
      "cell_type": "markdown",
      "metadata": {
        "id": "n8L08EpBSNAY",
        "colab_type": "text"
      },
      "source": [
        "E para finalizar usamos a função **upper()** para deixar o nome em caixa alta e usamos o **print()** para exibir o resultado na tela."
      ]
    },
    {
      "cell_type": "code",
      "metadata": {
        "id": "DlAInG9eSVN3",
        "colab_type": "code",
        "colab": {}
      },
      "source": [
        "nome = input ('Insira seu nome: ')\n",
        "\n",
        "nome_5 = nome[:5]\n",
        "\n",
        "nome_5_U = nome_5.upper()\n",
        "\n",
        "print(nome_5_U)"
      ],
      "execution_count": 0,
      "outputs": []
    },
    {
      "cell_type": "markdown",
      "metadata": {
        "id": "zlsTd65jIHAG",
        "colab_type": "text"
      },
      "source": [
        "### 2. Elabore um algoritmo que receba o nome do filme que o usuário mais gosta e retorne \" O filme que você mais gosta é : xxxx\"."
      ]
    },
    {
      "cell_type": "markdown",
      "metadata": {
        "id": "VUFJPYmPIfZ2",
        "colab_type": "text"
      },
      "source": [
        "Semelhante a primeira questão vamos pedir a informação ao usuário."
      ]
    },
    {
      "cell_type": "code",
      "metadata": {
        "id": "UreDtg3CIkIO",
        "colab_type": "code",
        "colab": {}
      },
      "source": [
        "livro = input('Qual o filme que você mais gosta?')"
      ],
      "execution_count": 0,
      "outputs": []
    },
    {
      "cell_type": "markdown",
      "metadata": {
        "id": "KhqdnmMJI4ac",
        "colab_type": "text"
      },
      "source": [
        "Em seguida criamos o texto que será inserido junto ao filme."
      ]
    },
    {
      "cell_type": "code",
      "metadata": {
        "id": "cQONP34PI-6e",
        "colab_type": "code",
        "colab": {}
      },
      "source": [
        "livro = input('Qual o filme que você mais gosta?')\n",
        "\n",
        "texto = 'O filme que você mais gosta é : '"
      ],
      "execution_count": 0,
      "outputs": []
    },
    {
      "cell_type": "markdown",
      "metadata": {
        "id": "TJGki-XFJD8m",
        "colab_type": "text"
      },
      "source": [
        "Agora concatenamos os dois usando o sinal de soma (+) e exibimos na tela com o comando **print** ."
      ]
    },
    {
      "cell_type": "code",
      "metadata": {
        "id": "28yFUkckJKFW",
        "colab_type": "code",
        "colab": {}
      },
      "source": [
        "livro = input('Qual o filme que você mais gosta?')\n",
        "\n",
        "texto = 'O filme que você mais gosta é : '\n",
        "\n",
        "texto_saida = texto + livro\n",
        "print(texto_saida)"
      ],
      "execution_count": 0,
      "outputs": []
    },
    {
      "cell_type": "markdown",
      "metadata": {
        "id": "zhiEGOuTJr3s",
        "colab_type": "text"
      },
      "source": [
        "### 3. Elabore um algoritmo que através da variavel \"Linguística Computacional\" retorne \"LINGUÍSTICA computacional\"."
      ]
    },
    {
      "cell_type": "markdown",
      "metadata": {
        "id": "tx1AeXsZJwDW",
        "colab_type": "text"
      },
      "source": [
        "Diferente dos exercicios anteriores este não precisa pedir valores ao usuário, em contrapartida é necessário definirmos a variável que receberá o valor \"Linguistica Computacional\"."
      ]
    },
    {
      "cell_type": "code",
      "metadata": {
        "id": "NEOvldrEJvk-",
        "colab_type": "code",
        "colab": {}
      },
      "source": [
        "texto = 'Linguística Computacional'"
      ],
      "execution_count": 0,
      "outputs": []
    },
    {
      "cell_type": "markdown",
      "metadata": {
        "id": "4Y56G2X1KBRv",
        "colab_type": "text"
      },
      "source": [
        "Agora, como o texto \"Linguística\" e o texto \"Computacional\" serão usados em métodos diferentes vamos separar os dois, \"Linguística\" possui 11 caracteres então para armazena-la em uma variavel usamos o **[:11]**; já \"Computacional\" possui 13 e é bem mais facil contar ela da direita pra esquerda, então usamos o **[-13:]**."
      ]
    },
    {
      "cell_type": "code",
      "metadata": {
        "id": "eZlEmchPVdHf",
        "colab_type": "code",
        "colab": {}
      },
      "source": [
        "texto = 'Linguística Computacional'\n",
        "\n",
        "texto_L = texto[:11]\n",
        "print(texto_L)\n",
        "\n",
        "texto_C = texto[-13:]\n",
        "print(texto_C)"
      ],
      "execution_count": 0,
      "outputs": []
    },
    {
      "cell_type": "markdown",
      "metadata": {
        "id": "AwLUqU92Vu58",
        "colab_type": "text"
      },
      "source": [
        "Com os valores armazenados podemos agora usar o upper() na variável que possui o valor \"Linguística\" e o lower() na variável que possui o valor \"Computacional\". Para Exibir o resultado usaremos das concatenações (+) para juntar todos os textos em uma sentença e um espaço vazio (' ') para espaçar os dois textos."
      ]
    },
    {
      "cell_type": "code",
      "metadata": {
        "id": "N8csOEB6Wdj1",
        "colab_type": "code",
        "colab": {}
      },
      "source": [
        "texto = 'Linguística Computacional'\n",
        "\n",
        "texto_L = texto[:11]\n",
        "print(texto_L)\n",
        "\n",
        "texto_C = texto[-13:]\n",
        "print(texto_C)\n",
        "\n",
        "texto_L_U = texto_L.upper()\n",
        "print(texto_L_U)\n",
        "\n",
        "texto_C_L = texto_C.lower()\n",
        "print(texto_C_L)\n",
        "\n",
        "texto_saída = texto_L_U + ' ' + texto_C_L\n",
        "print(texto_saída)\n",
        "\n"
      ],
      "execution_count": 0,
      "outputs": []
    },
    {
      "cell_type": "markdown",
      "metadata": {
        "id": "4Co0WxDUXGxf",
        "colab_type": "text"
      },
      "source": [
        "### 4. Elabore um algoritmo que através da variável \"Linguística Computacional\" retorne \"Lingua Computacional\"."
      ]
    },
    {
      "cell_type": "markdown",
      "metadata": {
        "id": "sVSQt5kFXSz-",
        "colab_type": "text"
      },
      "source": [
        "Semelhante a questão acima primeiro criamos a variável \"Linguística Computacional\"."
      ]
    },
    {
      "cell_type": "code",
      "metadata": {
        "id": "thrwKm4sXcl_",
        "colab_type": "code",
        "colab": {}
      },
      "source": [
        "texto = 'Linguística Computacional'"
      ],
      "execution_count": 0,
      "outputs": []
    },
    {
      "cell_type": "markdown",
      "metadata": {
        "id": "cQLjkAUBXk3_",
        "colab_type": "text"
      },
      "source": [
        "Observando o texto que temos ter na saida, podemos concluir que no texto original possuimos as sequencias \"Lingu\" \"a\" e \"Computacional\", vamos então apenas selecionar estas partes usando o colchete."
      ]
    },
    {
      "cell_type": "code",
      "metadata": {
        "id": "20tIzCj1X7AG",
        "colab_type": "code",
        "colab": {}
      },
      "source": [
        "texto = 'Linguística Computacional'\n",
        "\n",
        "texto_L = texto[0]\n",
        "\n",
        "texto_i = texto[5]\n",
        "\n",
        "texto_ngu = texto[2:5]\n",
        "\n",
        "texto_a = texto[-2]\n",
        "\n",
        "texto_Computacional = texto[-13:]\n"
      ],
      "execution_count": 0,
      "outputs": []
    },
    {
      "cell_type": "markdown",
      "metadata": {
        "id": "VVlmb-pMaEZY",
        "colab_type": "text"
      },
      "source": [
        "Agora podemos concatenar todos estes textos em uma unica variável e exibir ela na saída usando o **print()**."
      ]
    },
    {
      "cell_type": "code",
      "metadata": {
        "id": "1den4MmPanaE",
        "colab_type": "code",
        "colab": {}
      },
      "source": [
        "texto = 'Linguística Computacional'\n",
        "\n",
        "texto_L = texto[0]\n",
        "\n",
        "texto_i = texto[5]\n",
        "\n",
        "texto_ngu = texto[2:5]\n",
        "\n",
        "texto_a = texto[-2]\n",
        "\n",
        "texto_Computacional = texto[-13:]\n",
        "\n",
        "texto_saída = texto_L + texto_i + texto_ngu + texto_a + ' ' + texto_Computacional\n",
        "\n",
        "print(texto_saída)\n"
      ],
      "execution_count": 0,
      "outputs": []
    },
    {
      "cell_type": "markdown",
      "metadata": {
        "id": "FEzYJ-pBctMw",
        "colab_type": "text"
      },
      "source": [
        "### 5. Elabore um algoritmo que receba o nome do usuário e retorne verdadeiro se o nome do usuário começar com Ana ou ana."
      ]
    },
    {
      "cell_type": "markdown",
      "metadata": {
        "id": "rfS9l5svcvAe",
        "colab_type": "text"
      },
      "source": [
        "Primeiro vamos receber um nome do usuário."
      ]
    },
    {
      "cell_type": "code",
      "metadata": {
        "id": "pFLw2D-ic3Jk",
        "colab_type": "code",
        "colab": {}
      },
      "source": [
        "nome = input('Digite o seu nome: ')"
      ],
      "execution_count": 0,
      "outputs": []
    },
    {
      "cell_type": "markdown",
      "metadata": {
        "id": "8fkYhhpvdE4w",
        "colab_type": "text"
      },
      "source": [
        "Como queremos aceitar tanto ana quanto Ana podemos utilizar o **lower()** de forma que independente do nome inserido pelo usuário ele será completamente minúsculo."
      ]
    },
    {
      "cell_type": "code",
      "metadata": {
        "id": "F3acPpgldTa_",
        "colab_type": "code",
        "colab": {}
      },
      "source": [
        "nome = input('Digite o seu nome: ')\n",
        "nome_L = nome.lower()\n",
        "\n"
      ],
      "execution_count": 0,
      "outputs": []
    },
    {
      "cell_type": "markdown",
      "metadata": {
        "id": "_455taLAddbf",
        "colab_type": "text"
      },
      "source": [
        "Agora para checarmos se o nome começa com  ana usamos o **startswith()**, colocamos então o valor desta operação em outra variavel e exibimos ela na tela usando o **print()**."
      ]
    },
    {
      "cell_type": "code",
      "metadata": {
        "id": "nLsw1uy2d3x_",
        "colab_type": "code",
        "colab": {}
      },
      "source": [
        "nome = input('Digite o seu nome: ')\n",
        "nome_L = nome.lower()\n",
        "checar = nome_L.startswith('ana')\n",
        "print(checar)"
      ],
      "execution_count": 0,
      "outputs": []
    }
  ]
}